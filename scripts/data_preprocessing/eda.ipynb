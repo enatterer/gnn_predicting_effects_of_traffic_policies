{
 "cells": [
  {
   "cell_type": "code",
   "execution_count": 1,
   "metadata": {},
   "outputs": [],
   "source": [
    "import math\n",
    "import numpy as np\n",
    "import wandb\n",
    "import random\n",
    "import torch\n",
    "import torch_geometric\n",
    "from torch_geometric.data import Data\n",
    "import sys\n",
    "import os\n",
    "from tqdm import tqdm\n",
    "import signal\n",
    "import joblib\n",
    "import argparse\n",
    "import json\n",
    "import os\n",
    "import subprocess\n",
    "from torch.utils.data import DataLoader, Dataset, Subset\n",
    "from sklearn.preprocessing import StandardScaler\n",
    "\n",
    "# Add the 'scripts' directory to the Python path\n",
    "scripts_path = os.path.abspath(os.path.join('..'))\n",
    "if scripts_path not in sys.path:\n",
    "    sys.path.append(scripts_path)"
   ]
  },
  {
   "cell_type": "code",
   "execution_count": 2,
   "metadata": {},
   "outputs": [],
   "source": [
    "import training.help_functions as hf\n",
    "from data_preprocessing.process_simulations_for_gnn import EdgeFeatures\n",
    "\n",
    "import gnn_io as gio\n",
    "import gnn_architecture as garch"
   ]
  },
  {
   "cell_type": "code",
   "execution_count": 3,
   "metadata": {},
   "outputs": [],
   "source": [
    "dataset_path = '../../data/train_data/sim_output_1pm_22_10_2024/'"
   ]
  },
  {
   "cell_type": "code",
   "execution_count": null,
   "metadata": {},
   "outputs": [],
   "source": [
    "try:\n",
    "    datalist = []\n",
    "    batch_num = 1\n",
    "    while True:\n",
    "        print(f\"Processing batch number: {batch_num}\")\n",
    "        # total_memory, available_memory, used_memory = get_memory_info()\n",
    "        # print(f\"Total Memory: {total_memory:.2f} GB\")\n",
    "        # print(f\"Available Memory: {available_memory:.2f} GB\")\n",
    "        # print(f\"Used Memory: {used_memory:.2f} GB\")\n",
    "        batch_file = os.path.join(dataset_path, f'datalist_batch_{batch_num}.pt')\n",
    "        if not os.path.exists(batch_file):\n",
    "            break\n",
    "        batch_data = torch.load(batch_file, map_location='cpu')\n",
    "        if isinstance(batch_data, list):\n",
    "            datalist.extend(batch_data)\n",
    "        batch_num += 1\n",
    "        break\n",
    "    print(f\"Loaded {len(datalist)} items into datalist\")\n",
    "\n",
    "except Exception as e:\n",
    "    print(f\"An error occurred: {str(e)}\")"
   ]
  },
  {
   "cell_type": "code",
   "execution_count": 5,
   "metadata": {},
   "outputs": [],
   "source": [
    "base_dir = \"temp/\"\n",
    "params = {\n",
    "    \"batch_size\": 8,\n",
    "    \"unique_model_description\": \"eda\",\n",
    "    \"node_features\": [feat.name for feat in EdgeFeatures]\n",
    "}"
   ]
  },
  {
   "cell_type": "code",
   "execution_count": 11,
   "metadata": {},
   "outputs": [],
   "source": [
    "x_highway = datalist[49].x[:,5].numpy()"
   ]
  },
  {
   "cell_type": "code",
   "execution_count": null,
   "metadata": {},
   "outputs": [],
   "source": [
    "import matplotlib.pyplot as plt\n",
    "\n",
    "plt.hist(x_highway, bins=range(-1, 11), edgecolor='black', align='left')\n",
    "plt.xlabel('Value')\n",
    "plt.ylabel('Frequency')\n",
    "plt.title('Histogram of Series Data')\n",
    "plt.show()"
   ]
  },
  {
   "cell_type": "code",
   "execution_count": null,
   "metadata": {},
   "outputs": [],
   "source": [
    "# Define the mapping for the fifth feature\n",
    "mapping = {\n",
    "    -1: 0,\n",
    "    0: 1,\n",
    "    1: 2,\n",
    "    2: 2,\n",
    "    3: 3,\n",
    "    4: 3,\n",
    "    5: 4,\n",
    "    6: 4,\n",
    "    7: 5,\n",
    "    8: 5,\n",
    "    9: 6\n",
    "}\n",
    "\n",
    "# Apply the mapping and one-hot encode the fifth feature\n",
    "for data in datalist[5:6]:\n",
    "    fifth_feature = data.x[:, 5].numpy()\n",
    "    mapped_feature = np.vectorize(mapping.get)(fifth_feature)\n",
    "    print(mapped_feature.shape)\n",
    "    one_hot_encoded = np.eye(7)[mapped_feature]\n",
    "    \n",
    "    # Remove the original fifth feature and append the one-hot encoded version\n",
    "    data.x = torch.cat((data.x[:, :5], data.x[:, 6:], torch.tensor(one_hot_encoded, dtype=data.x.dtype)), dim=1)"
   ]
  }
 ],
 "metadata": {
  "kernelspec": {
   "display_name": "chenhao-gnn",
   "language": "python",
   "name": "python3"
  },
  "language_info": {
   "codemirror_mode": {
    "name": "ipython",
    "version": 3
   },
   "file_extension": ".py",
   "mimetype": "text/x-python",
   "name": "python",
   "nbconvert_exporter": "python",
   "pygments_lexer": "ipython3",
   "version": "3.10.13"
  }
 },
 "nbformat": 4,
 "nbformat_minor": 2
}
