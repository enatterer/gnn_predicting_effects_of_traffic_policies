{
 "cells": [
  {
   "cell_type": "code",
   "execution_count": 1,
   "metadata": {},
   "outputs": [],
   "source": [
    "import os\n",
    "import sys\n",
    "import torch\n",
    "import matplotlib.pyplot as plt\n",
    "from collections import defaultdict\n",
    "\n",
    "# Add the 'scripts' directory to the Python path\n",
    "scripts_path = os.path.abspath(os.path.join('..'))\n",
    "if scripts_path not in sys.path:\n",
    "    sys.path.append(scripts_path)\n",
    "\n",
    "from data_preprocessing.processing_io import highway_mapping"
   ]
  },
  {
   "cell_type": "code",
   "execution_count": null,
   "metadata": {},
   "outputs": [],
   "source": [
    "dataset_path = '../../data/train_data/sim_output_1pm_22_10_2024/'\n",
    "\n",
    "try:\n",
    "    datalist = []\n",
    "    batch_num = 1\n",
    "    while True:\n",
    "        print(f\"Processing batch number: {batch_num}\")\n",
    "        # total_memory, available_memory, used_memory = get_memory_info()\n",
    "        # print(f\"Total Memory: {total_memory:.2f} GB\")\n",
    "        # print(f\"Available Memory: {available_memory:.2f} GB\")\n",
    "        # print(f\"Used Memory: {used_memory:.2f} GB\")\n",
    "        batch_file = os.path.join(dataset_path, f'datalist_batch_{batch_num}.pt')\n",
    "        if not os.path.exists(batch_file):\n",
    "            break\n",
    "        batch_data = torch.load(batch_file, map_location='cpu')\n",
    "        if isinstance(batch_data, list):\n",
    "            datalist.extend(batch_data)\n",
    "        batch_num += 1\n",
    "    print(f\"Loaded {len(datalist)} items into datalist\")\n",
    "\n",
    "except Exception as e:\n",
    "    print(f\"An error occurred: {str(e)}\")"
   ]
  },
  {
   "cell_type": "code",
   "execution_count": 3,
   "metadata": {},
   "outputs": [],
   "source": [
    "# Get highway data from a random sample\n",
    "x_highway = datalist[49].x[:,5].numpy()"
   ]
  },
  {
   "cell_type": "code",
   "execution_count": 4,
   "metadata": {},
   "outputs": [
    {
     "data": {
      "image/png": "[encoded data removed]",
      "text/plain": [
       "<Figure size 640x480 with 1 Axes>"
      ]
     },
     "metadata": {},
     "output_type": "display_data"
    }
   ],
   "source": [
    "plt.hist(x_highway, bins=range(-1, 11), edgecolor='black', align='left')\n",
    "plt.xlabel('Type')\n",
    "plt.ylabel('Frequency')\n",
    "plt.title('Highway')\n",
    "plt.show()"
   ]
  },
  {
   "cell_type": "code",
   "execution_count": 5,
   "metadata": {},
   "outputs": [
    {
     "name": "stdout",
     "output_type": "stream",
     "text": [
      "0: ['trunk', 'trunk_link', 'motorway_link']\n",
      "1: ['primary', 'primary_link']\n",
      "2: ['secondary', 'secondary_link']\n",
      "3: ['tertiary', 'tertiary_link']\n",
      "4: ['residential']\n",
      "5: ['living_street']\n",
      "6: ['pedestrian']\n",
      "7: ['service']\n",
      "8: ['construction']\n",
      "9: ['unclassified']\n",
      "-1: ['pt']\n"
     ]
    },
    {
     "ename": "",
     "evalue": "",
     "output_type": "error",
     "traceback": [
      "\u001b[1;31mThe Kernel crashed while executing code in the current cell or a previous cell. \n",
      "\u001b[1;31mPlease review the code in the cell(s) to identify a possible cause of the failure. \n",
      "\u001b[1;31mClick <a href='https://aka.ms/vscodeJupyterKernelCrash'>here</a> for more info. \n",
      "\u001b[1;31mView Jupyter <a href='command:jupyter.viewOutput'>log</a> for further details."
     ]
    }
   ],
   "source": [
    "# Invert the highway_mapping dictionary\n",
    "inverted_highway_mapping = defaultdict(list)\n",
    "for key, value in highway_mapping.items():\n",
    "    inverted_highway_mapping[value].append(key)\n",
    "\n",
    "# Print the inverted dictionary\n",
    "for value, keys in inverted_highway_mapping.items():\n",
    "    print(f\"{value}: {keys}\")"
   ]
  }
 ],
 "metadata": {
  "kernelspec": {
   "display_name": "chenhao-gnn",
   "language": "python",
   "name": "python3"
  },
  "language_info": {
   "codemirror_mode": {
    "name": "ipython",
    "version": 3
   },
   "file_extension": ".py",
   "mimetype": "text/x-python",
   "name": "python",
   "nbconvert_exporter": "python",
   "pygments_lexer": "ipython3",
   "version": "3.10.13"
  }
 },
 "nbformat": 4,
 "nbformat_minor": 2
}
