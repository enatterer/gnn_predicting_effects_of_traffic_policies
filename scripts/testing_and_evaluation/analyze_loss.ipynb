{
 "cells": [
  {
   "cell_type": "code",
   "execution_count": 1,
   "metadata": {},
   "outputs": [],
   "source": [
    "import math\n",
    "import numpy as np\n",
    "import wandb\n",
    "\n",
    "import torch\n",
    "import torch_geometric\n",
    "from torch_geometric.data import Data\n",
    "\n",
    "from gnn_architectures import MyGnn\n",
    "\n",
    "import gnn_io as gio\n",
    "import gnn_architectures as garch\n",
    "\n",
    "import pprint\n",
    "import itertools"
   ]
  },
  {
   "attachments": {},
   "cell_type": "markdown",
   "metadata": {},
   "source": [
    "## 1. Define model and parameters"
   ]
  },
  {
   "attachments": {},
   "cell_type": "markdown",
   "metadata": {},
   "source": [
    "## 2. Load data"
   ]
  },
  {
   "cell_type": "code",
   "execution_count": 20,
   "metadata": {},
   "outputs": [],
   "source": [
    "def compute_baseline_error(dataset_normalized):\n",
    "    \"\"\"\n",
    "    Computes the baseline Mean Squared Error (MSE) for normalized y values in the dataset.\n",
    "\n",
    "    Parameters:\n",
    "    - dataset_normalized: A dataset containing normalized y values.\n",
    "\n",
    "    Returns:\n",
    "    - mse_value: The baseline MSE value.\n",
    "    \"\"\"\n",
    "    # Concatenate the normalized y values from the dataset\n",
    "    y_values_normalized = np.concatenate([data.y for data in dataset_normalized])\n",
    "\n",
    "    # Compute the mean of the normalized y values\n",
    "    mean_y_normalized = np.mean(y_values_normalized)\n",
    "\n",
    "    # Convert numpy arrays to torch tensors\n",
    "    y_values_normalized_tensor = torch.tensor(y_values_normalized, dtype=torch.float32)\n",
    "    mean_y_normalized_tensor = torch.tensor(mean_y_normalized, dtype=torch.float32)\n",
    "\n",
    "    # Create the target tensor with the same shape as y_values_normalized_tensor\n",
    "    target_tensor = mean_y_normalized_tensor.expand_as(y_values_normalized_tensor)\n",
    "\n",
    "    # Instantiate the MSELoss function\n",
    "    mse_loss = torch.nn.MSELoss()\n",
    "\n",
    "    # Compute the MSE\n",
    "    mse = mse_loss(y_values_normalized_tensor, target_tensor)\n",
    "\n",
    "    return mse.item()"
   ]
  },
  {
   "cell_type": "code",
   "execution_count": 3,
   "metadata": {},
   "outputs": [],
   "source": [
    "# Load the list of dictionaries\n",
    "data_dict_list = torch.load('../data/dataset_1pm_0-1400_more_features.pt')\n",
    "# torch.load('../data/dataset_1pm_0-1382_with_more_infos.pt') if model_is_basic else \n",
    "\n",
    "# Reconstruct the Data objects\n",
    "datalist = [Data(x=d['x'], edge_index=d['edge_index'], pos=d['pos'], y=d['y']) for d in data_dict_list]\n",
    "\n",
    "dataset_only_relevant_dimensions = gio.cut_dimensions(dataset=datalist, indices_of_dimensions_to_keep=[0, 1])\n",
    "dataset_normalized = gio.normalize_dataset(dataset_only_relevant_dimensions)\n",
    "\n"
   ]
  },
  {
   "cell_type": "code",
   "execution_count": 51,
   "metadata": {},
   "outputs": [],
   "source": [
    "# Instantiate the MSELoss function\n",
    "mse_loss = torch.nn.MSELoss(reduction='none')\n",
    "\n",
    "# Compute the MSE\n",
    "base_case_values = np.concatenate([data.x[:, 1] for data in dataset_normalized]).reshape(-1, 1)\n",
    "target_tensor = np.concatenate([data.y for data in dataset_normalized])\n",
    "\n",
    "# Convert numpy arrays to torch tensors\n",
    "base_case_values_tensor = torch.tensor(base_case_values, dtype=torch.float)\n",
    "target_tensor = torch.tensor(target_tensor, dtype=torch.float)\n",
    "\n",
    "mse = mse_loss(base_case_values_tensor, target_tensor)\n",
    "#print(mse.item())"
   ]
  },
  {
   "cell_type": "code",
   "execution_count": 52,
   "metadata": {},
   "outputs": [
    {
     "data": {
      "text/plain": [
       "torch.Size([43140512, 1])"
      ]
     },
     "execution_count": 52,
     "metadata": {},
     "output_type": "execute_result"
    }
   ],
   "source": [
    "mse.shape"
   ]
  },
  {
   "cell_type": "code",
   "execution_count": 54,
   "metadata": {},
   "outputs": [
    {
     "data": {
      "image/png": "[encoded data removed]",
      "text/plain": [
       "<Figure size 640x480 with 1 Axes>"
      ]
     },
     "metadata": {},
     "output_type": "display_data"
    }
   ],
   "source": [
    "import torch\n",
    "import numpy as np\n",
    "import matplotlib.pyplot as plt\n",
    "\n",
    "\n",
    "# Convert to NumPy array\n",
    "array = mse.numpy()\n",
    "\n",
    "# Plot histogram\n",
    "plt.hist(array, bins=300, alpha=0.7, color='blue')\n",
    "plt.title('Histogram of Torch Tensor')\n",
    "plt.xlabel('Value')\n",
    "plt.ylabel('Frequency')\n",
    "plt.show()\n"
   ]
  },
  {
   "cell_type": "code",
   "execution_count": 55,
   "metadata": {},
   "outputs": [
    {
     "data": {
      "text/plain": [
       "tensor(0.0587)"
      ]
     },
     "execution_count": 55,
     "metadata": {},
     "output_type": "execute_result"
    }
   ],
   "source": [
    "mse.max()"
   ]
  },
  {
   "cell_type": "code",
   "execution_count": 56,
   "metadata": {},
   "outputs": [],
   "source": [
    "sqrt_mse = torch.sqrt(torch.tensor(0.0587))"
   ]
  },
  {
   "cell_type": "code",
   "execution_count": 57,
   "metadata": {},
   "outputs": [
    {
     "data": {
      "text/plain": [
       "tensor(0.2423)"
      ]
     },
     "execution_count": 57,
     "metadata": {},
     "output_type": "execute_result"
    }
   ],
   "source": [
    "sqrt_mse"
   ]
  },
  {
   "cell_type": "code",
   "execution_count": 58,
   "metadata": {},
   "outputs": [
    {
     "data": {
      "text/plain": [
       "tensor(0.)"
      ]
     },
     "execution_count": 58,
     "metadata": {},
     "output_type": "execute_result"
    }
   ],
   "source": [
    "mse.min()"
   ]
  },
  {
   "cell_type": "code",
   "execution_count": null,
   "metadata": {},
   "outputs": [],
   "source": []
  }
 ],
 "metadata": {
  "kernelspec": {
   "display_name": "Paris_Analysis",
   "language": "python",
   "name": "python3"
  },
  "language_info": {
   "codemirror_mode": {
    "name": "ipython",
    "version": 3
   },
   "file_extension": ".py",
   "mimetype": "text/x-python",
   "name": "python",
   "nbconvert_exporter": "python",
   "pygments_lexer": "ipython3",
   "version": "3.10.14"
  },
  "orig_nbformat": 4
 },
 "nbformat": 4,
 "nbformat_minor": 2
}
