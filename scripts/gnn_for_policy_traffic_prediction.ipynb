{
 "cells": [
  {
   "cell_type": "code",
   "execution_count": 1,
   "metadata": {},
   "outputs": [],
   "source": [
    "import math\n",
    "import numpy as np\n",
    "import wandb\n",
    "\n",
    "import torch\n",
    "import torch_geometric\n",
    "from torch_geometric.data import Data\n",
    "\n",
    "from gnn_architectures import MyGnn\n",
    "\n",
    "import gnn_io as gio\n",
    "import gnn_architectures as garch\n",
    "\n",
    "import pprint"
   ]
  },
  {
   "attachments": {},
   "cell_type": "markdown",
   "metadata": {},
   "source": [
    "## 1. Define model and parameters"
   ]
  },
  {
   "cell_type": "code",
   "execution_count": 2,
   "metadata": {},
   "outputs": [
    {
     "name": "stderr",
     "output_type": "stream",
     "text": [
      "Failed to detect the name of this notebook, you can set it manually with the WANDB_NOTEBOOK_NAME environment variable to enable code saving.\n",
      "\u001b[34m\u001b[1mwandb\u001b[0m: Currently logged in as: \u001b[33menatterer\u001b[0m (\u001b[33mtum-traffic-engineering\u001b[0m). Use \u001b[1m`wandb login --relogin`\u001b[0m to force relogin\n"
     ]
    }
   ],
   "source": [
    "wandb.login()\n",
    "\n",
    "# Define parameters \n",
    "\n",
    "num_epochs = 1000\n",
    "project_name = 'finetuning_model_architecture'\n",
    "train_ratio = 0.8\n",
    "\n",
    "device = torch.device('cuda' if torch.cuda.is_available() else 'cpu')\n",
    "\n",
    "early_stopping = gio.EarlyStopping(patience=10, verbose=True)"
   ]
  },
  {
   "attachments": {},
   "cell_type": "markdown",
   "metadata": {},
   "source": [
    "## 2. Load data"
   ]
  },
  {
   "cell_type": "code",
   "execution_count": 3,
   "metadata": {},
   "outputs": [
    {
     "name": "stdout",
     "output_type": "stream",
     "text": [
      "Baseline error: 0.005565311759710312\n"
     ]
    }
   ],
   "source": [
    "# Load the list of dictionaries\n",
    "data_dict_list = torch.load('../data/dataset_1pm_0-1382.pt')\n",
    "\n",
    "# Reconstruct the Data objects\n",
    "datalist = [Data(x=d['x'], edge_index=d['edge_index'], pos=d['pos'], y=d['y']) for d in data_dict_list]\n",
    "\n",
    "# # Apply normalization to your dataset\n",
    "dataset_normalized = gio.normalize_dataset(datalist)\n",
    "\n",
    "baseline_error = gio.compute_baseline_error(datalist)\n",
    "print(f'Baseline error: {baseline_error}')"
   ]
  },
  {
   "attachments": {},
   "cell_type": "markdown",
   "metadata": {},
   "source": [
    "## 3. Split into train and test set"
   ]
  },
  {
   "cell_type": "code",
   "execution_count": 4,
   "metadata": {},
   "outputs": [
    {
     "name": "stdout",
     "output_type": "stream",
     "text": [
      "Total dataset length: 1382\n",
      "Training subset length: 1100\n",
      "Total dataset length: 1382\n",
      "Validation subset length: 260\n"
     ]
    }
   ],
   "source": [
    "train_dl = gio.create_dataloader(dataset=dataset_normalized, is_train=True, batch_size=20, train_ratio=train_ratio)\n",
    "valid_dl = gio.create_dataloader(dataset=dataset_normalized, is_train=False, batch_size=20, train_ratio=train_ratio)\n",
    "# n_steps_per_epoch = math.ceil(len(train_dl.dataset) / config.batch_size)"
   ]
  },
  {
   "attachments": {},
   "cell_type": "markdown",
   "metadata": {},
   "source": [
    "## 4. Train the model\n",
    "\n",
    "We first find a good model for one batch. "
   ]
  },
  {
   "cell_type": "code",
   "execution_count": 5,
   "metadata": {},
   "outputs": [],
   "source": [
    "def train(model, config=None, loss_fct=None, optimizer=None, train_dl=None, valid_dl=None, device=None, early_stopping=None):\n",
    "    for epoch in range(config.epochs):\n",
    "        model.train()\n",
    "        for idx, data in enumerate(train_dl):\n",
    "            input_node_features, targets = data.x.to(device), data.y.to(device)\n",
    "            optimizer.zero_grad()\n",
    "\n",
    "            # Forward pass\n",
    "            predicted = model(data)\n",
    "            train_loss = loss_fct(predicted, targets)\n",
    "            \n",
    "            # Backward pass\n",
    "            train_loss.backward()\n",
    "            optimizer.step()\n",
    "            \n",
    "            wandb.log({\"train_loss\": train_loss.item(), \"epoch\": epoch, \"step\": idx})\n",
    "            # print(f\"epoch: {epoch}, step: {idx}, loss: {train_loss.item()}\")\n",
    "        \n",
    "        val_loss = garch.validate_model_pos_features(model, valid_dl, loss_fct, device)\n",
    "        print(f\"epoch: {epoch}, validation loss: {val_loss}\")\n",
    "        wandb.log({\"loss\": val_loss, \"epoch\": epoch})\n",
    "            \n",
    "        early_stopping(val_loss)\n",
    "        if early_stopping.early_stop:\n",
    "            print(\"Early stopping triggered. Stopping training.\")\n",
    "            break\n",
    "    \n",
    "    print(\"Best validation loss: \", val_loss)\n",
    "    wandb.summary[\"val_loss\"] = val_loss\n",
    "    wandb.finish()\n",
    "    return val_loss, epoch"
   ]
  },
  {
   "cell_type": "code",
   "execution_count": 6,
   "metadata": {},
   "outputs": [
    {
     "name": "stdout",
     "output_type": "stream",
     "text": [
      "Total dataset length: 1382\n",
      "Training subset length: 1104\n",
      "Total dataset length: 1382\n",
      "Validation subset length: 272\n"
     ]
    },
    {
     "data": {
      "text/html": [
       "Tracking run with wandb version 0.17.4"
      ],
      "text/plain": [
       "<IPython.core.display.HTML object>"
      ]
     },
     "metadata": {},
     "output_type": "display_data"
    },
    {
     "data": {
      "text/html": [
       "Run data is saved locally in <code>/Users/elenanatterer/Development/GNNs/GNN_predicting_effects_of_traffic_policies/scripts/wandb/run-20240709_134550-r4ah2dgj</code>"
      ],
      "text/plain": [
       "<IPython.core.display.HTML object>"
      ]
     },
     "metadata": {},
     "output_type": "display_data"
    },
    {
     "data": {
      "text/html": [
       "Syncing run <strong><a href='https://wandb.ai/tum-traffic-engineering/finetuning_model_architecture/runs/r4ah2dgj' target=\"_blank\">amber-snowball-9</a></strong> to <a href='https://wandb.ai/tum-traffic-engineering/finetuning_model_architecture' target=\"_blank\">Weights & Biases</a> (<a href='https://wandb.me/run' target=\"_blank\">docs</a>)<br/>"
      ],
      "text/plain": [
       "<IPython.core.display.HTML object>"
      ]
     },
     "metadata": {},
     "output_type": "display_data"
    },
    {
     "data": {
      "text/html": [
       " View project at <a href='https://wandb.ai/tum-traffic-engineering/finetuning_model_architecture' target=\"_blank\">https://wandb.ai/tum-traffic-engineering/finetuning_model_architecture</a>"
      ],
      "text/plain": [
       "<IPython.core.display.HTML object>"
      ]
     },
     "metadata": {},
     "output_type": "display_data"
    },
    {
     "data": {
      "text/html": [
       " View run at <a href='https://wandb.ai/tum-traffic-engineering/finetuning_model_architecture/runs/r4ah2dgj' target=\"_blank\">https://wandb.ai/tum-traffic-engineering/finetuning_model_architecture/runs/r4ah2dgj</a>"
      ],
      "text/plain": [
       "<IPython.core.display.HTML object>"
      ]
     },
     "metadata": {},
     "output_type": "display_data"
    },
    {
     "name": "stdout",
     "output_type": "stream",
     "text": [
      "output_layer:  gcn\n",
      "hidden_size:  16\n",
      "gat_layers:  0\n",
      "gcn_layers:  0\n",
      "Model initialized\n",
      "MyGnn(\n",
      "  (pointLayer): PointNetConv(local_nn=Sequential(\n",
      "    (0): Linear(in_features=3, out_features=16, bias=True)\n",
      "    (1): ReLU()\n",
      "    (2): Linear(in_features=16, out_features=16, bias=True)\n",
      "  ), global_nn=Sequential(\n",
      "    (0): Linear(in_features=16, out_features=8, bias=True)\n",
      "    (1): ReLU()\n",
      "    (2): Linear(in_features=8, out_features=32, bias=True)\n",
      "    (3): ReLU()\n",
      "    (4): Linear(in_features=32, out_features=16, bias=True)\n",
      "  ))\n",
      "  (output_layer): GCNConv(16, 1)\n",
      ")\n",
      "epoch: 0, validation loss: 0.005556610741597765\n",
      "epoch: 1, validation loss: 0.005541034864590448\n",
      "epoch: 2, validation loss: 0.0054847901577458665\n",
      "epoch: 3, validation loss: 0.005454170572407106\n",
      "epoch: 4, validation loss: 0.005423781051136115\n",
      "epoch: 5, validation loss: 0.00539033191607279\n",
      "epoch: 6, validation loss: 0.005340714747195735\n",
      "epoch: 7, validation loss: 0.005216823123833712\n",
      "epoch: 8, validation loss: 0.005054894889540532\n",
      "epoch: 9, validation loss: 0.0049036432002835416\n",
      "epoch: 10, validation loss: 0.004801071057205691\n",
      "epoch: 11, validation loss: 0.004728914293296197\n",
      "epoch: 12, validation loss: 0.004661156467216856\n",
      "epoch: 13, validation loss: 0.004611109931241064\n",
      "epoch: 14, validation loss: 0.004558985641993144\n",
      "epoch: 15, validation loss: 0.004514531177632949\n",
      "epoch: 16, validation loss: 0.004481174161328989\n",
      "epoch: 17, validation loss: 0.0044569315881851845\n",
      "epoch: 18, validation loss: 0.004426226129426676\n",
      "epoch: 19, validation loss: 0.004414050401571919\n",
      "epoch: 20, validation loss: 0.004383572295088978\n",
      "epoch: 21, validation loss: 0.004376753425116048\n",
      "epoch: 22, validation loss: 0.00434702103409697\n",
      "epoch: 23, validation loss: 0.004343201104989823\n",
      "epoch: 24, validation loss: 0.004336968803887858\n",
      "epoch: 25, validation loss: 0.004314291893559343\n",
      "epoch: 26, validation loss: 0.004302117863998693\n",
      "epoch: 27, validation loss: 0.00432104548877653\n",
      "EarlyStopping counter: 1 out of 10\n",
      "epoch: 28, validation loss: 0.0042831567663918525\n",
      "epoch: 29, validation loss: 0.004277797415852547\n",
      "epoch: 30, validation loss: 0.004285423632930307\n",
      "EarlyStopping counter: 1 out of 10\n",
      "epoch: 31, validation loss: 0.004269563373835648\n",
      "epoch: 32, validation loss: 0.004275714375955217\n",
      "EarlyStopping counter: 1 out of 10\n",
      "epoch: 33, validation loss: 0.004274349139236352\n",
      "EarlyStopping counter: 2 out of 10\n",
      "epoch: 34, validation loss: 0.004255729371353108\n",
      "epoch: 35, validation loss: 0.0042578412000747285\n",
      "EarlyStopping counter: 1 out of 10\n",
      "epoch: 36, validation loss: 0.004240200964405257\n",
      "epoch: 37, validation loss: 0.0042327479185426935\n",
      "epoch: 38, validation loss: 0.004222052171826363\n",
      "epoch: 39, validation loss: 0.0042305139496045955\n",
      "EarlyStopping counter: 1 out of 10\n",
      "epoch: 40, validation loss: 0.004213832263999125\n",
      "epoch: 41, validation loss: 0.004206998766783406\n",
      "epoch: 42, validation loss: 0.0042348567067700274\n",
      "EarlyStopping counter: 1 out of 10\n",
      "epoch: 43, validation loss: 0.004201825543799821\n",
      "epoch: 44, validation loss: 0.0042010911685578965\n",
      "epoch: 45, validation loss: 0.004212459823226228\n",
      "EarlyStopping counter: 1 out of 10\n",
      "epoch: 46, validation loss: 0.004194715608130483\n",
      "epoch: 47, validation loss: 0.004194031168213662\n",
      "epoch: 48, validation loss: 0.004189810879966792\n",
      "epoch: 49, validation loss: 0.0041895113501916915\n",
      "epoch: 50, validation loss: 0.004185238332651994\n"
     ]
    },
    {
     "name": "stderr",
     "output_type": "stream",
     "text": [
      "wandb: Network error (ConnectionError), entering retry loop.\n"
     ]
    },
    {
     "name": "stdout",
     "output_type": "stream",
     "text": [
      "epoch: 51, validation loss: 0.004200166611767867\n",
      "EarlyStopping counter: 1 out of 10\n",
      "epoch: 52, validation loss: 0.004202314953812782\n",
      "EarlyStopping counter: 2 out of 10\n",
      "epoch: 53, validation loss: 0.004181406707228983\n",
      "epoch: 54, validation loss: 0.004172874368069803\n",
      "epoch: 55, validation loss: 0.004171533838791006\n",
      "epoch: 56, validation loss: 0.004164169542491436\n",
      "epoch: 57, validation loss: 0.004170472158447784\n",
      "EarlyStopping counter: 1 out of 10\n",
      "epoch: 58, validation loss: 0.004160016528604662\n",
      "epoch: 59, validation loss: 0.004162019255625851\n",
      "EarlyStopping counter: 1 out of 10\n",
      "epoch: 60, validation loss: 0.004197090508087593\n",
      "EarlyStopping counter: 2 out of 10\n",
      "epoch: 61, validation loss: 0.004156437346383053\n",
      "epoch: 62, validation loss: 0.004150300615412348\n",
      "epoch: 63, validation loss: 0.004149044946055202\n",
      "epoch: 64, validation loss: 0.004148545209318399\n",
      "epoch: 65, validation loss: 0.004146153682514149\n",
      "epoch: 66, validation loss: 0.00414287655011696\n",
      "epoch: 67, validation loss: 0.0041437925606527745\n",
      "EarlyStopping counter: 1 out of 10\n",
      "epoch: 68, validation loss: 0.004165994058198789\n",
      "EarlyStopping counter: 2 out of 10\n",
      "epoch: 69, validation loss: 0.004145230467924301\n",
      "EarlyStopping counter: 3 out of 10\n",
      "epoch: 70, validation loss: 0.004137536510825157\n",
      "epoch: 71, validation loss: 0.004135878592291299\n",
      "epoch: 72, validation loss: 0.004133594551068895\n",
      "epoch: 73, validation loss: 0.004150188254082904\n",
      "EarlyStopping counter: 1 out of 10\n",
      "epoch: 74, validation loss: 0.004133418421534931\n",
      "epoch: 75, validation loss: 0.0041370002059813804\n",
      "EarlyStopping counter: 1 out of 10\n",
      "epoch: 76, validation loss: 0.004139744758825092\n",
      "EarlyStopping counter: 2 out of 10\n",
      "epoch: 77, validation loss: 0.004132826593430603\n",
      "epoch: 78, validation loss: 0.004143596407683457\n",
      "EarlyStopping counter: 1 out of 10\n"
     ]
    },
    {
     "ename": "KeyboardInterrupt",
     "evalue": "",
     "output_type": "error",
     "traceback": [
      "\u001b[0;31m---------------------------------------------------------------------------\u001b[0m",
      "\u001b[0;31mKeyboardInterrupt\u001b[0m                         Traceback (most recent call last)",
      "Cell \u001b[0;32mIn[6], line 37\u001b[0m\n\u001b[1;32m     34\u001b[0m gnn_instance \u001b[39m=\u001b[39m MyGnn(in_channels\u001b[39m=\u001b[39m\u001b[39m3\u001b[39m, out_channels\u001b[39m=\u001b[39m\u001b[39m1\u001b[39m, hidden_size\u001b[39m=\u001b[39mhidden_size_parameter, gat_layers\u001b[39m=\u001b[39mgat_layer_parameter, gcn_layers\u001b[39m=\u001b[39mgcn_layer_parameter, output_layer\u001b[39m=\u001b[39moutput_layer_parameter)\n\u001b[1;32m     35\u001b[0m model \u001b[39m=\u001b[39m gnn_instance\u001b[39m.\u001b[39mto(device)\n\u001b[0;32m---> 37\u001b[0m best_val_loss, best_epoch \u001b[39m=\u001b[39m train(model, config\u001b[39m=\u001b[39;49mconfig, \n\u001b[1;32m     38\u001b[0m                                 loss_fct\u001b[39m=\u001b[39;49mtorch\u001b[39m.\u001b[39;49mnn\u001b[39m.\u001b[39;49mMSELoss(), \n\u001b[1;32m     39\u001b[0m                                 optimizer\u001b[39m=\u001b[39;49mtorch\u001b[39m.\u001b[39;49moptim\u001b[39m.\u001b[39;49mAdam(model\u001b[39m.\u001b[39;49mparameters(), lr\u001b[39m=\u001b[39;49mlr),\n\u001b[1;32m     40\u001b[0m                                 train_dl\u001b[39m=\u001b[39;49mtrain_dl, valid_dl\u001b[39m=\u001b[39;49mvalid_dl,\n\u001b[1;32m     41\u001b[0m                                 device\u001b[39m=\u001b[39;49mdevice, early_stopping\u001b[39m=\u001b[39;49mearly_stopping)\n",
      "Cell \u001b[0;32mIn[5], line 13\u001b[0m, in \u001b[0;36mtrain\u001b[0;34m(model, config, loss_fct, optimizer, train_dl, valid_dl, device, early_stopping)\u001b[0m\n\u001b[1;32m     10\u001b[0m train_loss \u001b[39m=\u001b[39m loss_fct(predicted, targets)\n\u001b[1;32m     12\u001b[0m \u001b[39m# Backward pass\u001b[39;00m\n\u001b[0;32m---> 13\u001b[0m train_loss\u001b[39m.\u001b[39;49mbackward()\n\u001b[1;32m     14\u001b[0m optimizer\u001b[39m.\u001b[39mstep()\n\u001b[1;32m     16\u001b[0m wandb\u001b[39m.\u001b[39mlog({\u001b[39m\"\u001b[39m\u001b[39mtrain_loss\u001b[39m\u001b[39m\"\u001b[39m: train_loss\u001b[39m.\u001b[39mitem(), \u001b[39m\"\u001b[39m\u001b[39mepoch\u001b[39m\u001b[39m\"\u001b[39m: epoch, \u001b[39m\"\u001b[39m\u001b[39mstep\u001b[39m\u001b[39m\"\u001b[39m: idx})\n",
      "File \u001b[0;32m~/anaconda3/envs/ml_env/lib/python3.10/site-packages/torch/_tensor.py:525\u001b[0m, in \u001b[0;36mTensor.backward\u001b[0;34m(self, gradient, retain_graph, create_graph, inputs)\u001b[0m\n\u001b[1;32m    515\u001b[0m \u001b[39mif\u001b[39;00m has_torch_function_unary(\u001b[39mself\u001b[39m):\n\u001b[1;32m    516\u001b[0m     \u001b[39mreturn\u001b[39;00m handle_torch_function(\n\u001b[1;32m    517\u001b[0m         Tensor\u001b[39m.\u001b[39mbackward,\n\u001b[1;32m    518\u001b[0m         (\u001b[39mself\u001b[39m,),\n\u001b[0;32m   (...)\u001b[0m\n\u001b[1;32m    523\u001b[0m         inputs\u001b[39m=\u001b[39minputs,\n\u001b[1;32m    524\u001b[0m     )\n\u001b[0;32m--> 525\u001b[0m torch\u001b[39m.\u001b[39;49mautograd\u001b[39m.\u001b[39;49mbackward(\n\u001b[1;32m    526\u001b[0m     \u001b[39mself\u001b[39;49m, gradient, retain_graph, create_graph, inputs\u001b[39m=\u001b[39;49minputs\n\u001b[1;32m    527\u001b[0m )\n",
      "File \u001b[0;32m~/anaconda3/envs/ml_env/lib/python3.10/site-packages/torch/autograd/__init__.py:267\u001b[0m, in \u001b[0;36mbackward\u001b[0;34m(tensors, grad_tensors, retain_graph, create_graph, grad_variables, inputs)\u001b[0m\n\u001b[1;32m    262\u001b[0m     retain_graph \u001b[39m=\u001b[39m create_graph\n\u001b[1;32m    264\u001b[0m \u001b[39m# The reason we repeat the same comment below is that\u001b[39;00m\n\u001b[1;32m    265\u001b[0m \u001b[39m# some Python versions print out the first line of a multi-line function\u001b[39;00m\n\u001b[1;32m    266\u001b[0m \u001b[39m# calls in the traceback and some print out the last line\u001b[39;00m\n\u001b[0;32m--> 267\u001b[0m _engine_run_backward(\n\u001b[1;32m    268\u001b[0m     tensors,\n\u001b[1;32m    269\u001b[0m     grad_tensors_,\n\u001b[1;32m    270\u001b[0m     retain_graph,\n\u001b[1;32m    271\u001b[0m     create_graph,\n\u001b[1;32m    272\u001b[0m     inputs,\n\u001b[1;32m    273\u001b[0m     allow_unreachable\u001b[39m=\u001b[39;49m\u001b[39mTrue\u001b[39;49;00m,\n\u001b[1;32m    274\u001b[0m     accumulate_grad\u001b[39m=\u001b[39;49m\u001b[39mTrue\u001b[39;49;00m,\n\u001b[1;32m    275\u001b[0m )\n",
      "File \u001b[0;32m~/anaconda3/envs/ml_env/lib/python3.10/site-packages/torch/autograd/graph.py:744\u001b[0m, in \u001b[0;36m_engine_run_backward\u001b[0;34m(t_outputs, *args, **kwargs)\u001b[0m\n\u001b[1;32m    742\u001b[0m     unregister_hooks \u001b[39m=\u001b[39m _register_logging_hooks_on_whole_graph(t_outputs)\n\u001b[1;32m    743\u001b[0m \u001b[39mtry\u001b[39;00m:\n\u001b[0;32m--> 744\u001b[0m     \u001b[39mreturn\u001b[39;00m Variable\u001b[39m.\u001b[39;49m_execution_engine\u001b[39m.\u001b[39;49mrun_backward(  \u001b[39m# Calls into the C++ engine to run the backward pass\u001b[39;49;00m\n\u001b[1;32m    745\u001b[0m         t_outputs, \u001b[39m*\u001b[39;49margs, \u001b[39m*\u001b[39;49m\u001b[39m*\u001b[39;49mkwargs\n\u001b[1;32m    746\u001b[0m     )  \u001b[39m# Calls into the C++ engine to run the backward pass\u001b[39;00m\n\u001b[1;32m    747\u001b[0m \u001b[39mfinally\u001b[39;00m:\n\u001b[1;32m    748\u001b[0m     \u001b[39mif\u001b[39;00m attach_logging_hooks:\n",
      "\u001b[0;31mKeyboardInterrupt\u001b[0m: "
     ]
    }
   ],
   "source": [
    "# Currently best architecture ! \n",
    "\n",
    "batch_size = 16\n",
    "output_layer_parameter = 'gat'\n",
    "hidden_size_parameter = 16\n",
    "gat_layer_parameter = 0\n",
    "gcn_layer_parameter = 0\n",
    "lr = 0.001\n",
    "\n",
    "wandb.login()\n",
    "\n",
    "train_dl = gio.create_dataloader(dataset=dataset_normalized, is_train=True, batch_size=batch_size, train_ratio=train_ratio)\n",
    "valid_dl = gio.create_dataloader(dataset=dataset_normalized, is_train=False, batch_size=batch_size, train_ratio=train_ratio)\n",
    "\n",
    "wandb.init(\n",
    "    project=project_name,\n",
    "    config={\n",
    "        \"epochs\": num_epochs,\n",
    "        \"batch_size\": batch_size,\n",
    "        \"lr\": lr,\n",
    "        \"early_stopping_patience\": 10,\n",
    "        \"hidden_layer_size\": hidden_size_parameter,\n",
    "        \"gat_layers\": gat_layer_parameter,\n",
    "        \"gcn_layers\": gcn_layer_parameter,\n",
    "        \"output_layer\": output_layer_parameter,\n",
    "        # \"dropout\": 0.15,\n",
    "    }\n",
    ")\n",
    "config = wandb.config\n",
    "\n",
    "print(\"output_layer: \", output_layer_parameter)\n",
    "print(\"hidden_size: \", hidden_size_parameter)\n",
    "print(\"gat_layers: \", gat_layer_parameter)\n",
    "print(\"gcn_layers: \", gcn_layer_parameter)\n",
    "\n",
    "gnn_instance = MyGnn(in_channels=3, out_channels=1, hidden_size=hidden_size_parameter, gat_layers=gat_layer_parameter, gcn_layers=gcn_layer_parameter, output_layer=output_layer_parameter)\n",
    "model = gnn_instance.to(device)\n",
    "\n",
    "best_val_loss, best_epoch = train(model, config=config, \n",
    "                                loss_fct=torch.nn.MSELoss(), \n",
    "                                optimizer=torch.optim.Adam(model.parameters(), lr=lr),\n",
    "                                train_dl=train_dl, valid_dl=valid_dl,\n",
    "                                device=device, early_stopping=early_stopping)"
   ]
  },
  {
   "cell_type": "code",
   "execution_count": null,
   "metadata": {},
   "outputs": [],
   "source": [
    "import pickle\n",
    "\n",
    "# Save the state dictionary and configuration\n",
    "state_dict = model.state_dict()\n",
    "config = {\n",
    "    'in_channels': 3,\n",
    "    'out_channels': 1,\n",
    "    'hidden_size': hidden_size_parameter,\n",
    "    'gat_layers': gat_layer_parameter,\n",
    "    'gcn_layers': gcn_layer_parameter,\n",
    "    'output_layer': output_layer_parameter,\n",
    "    'other_config': config  # Include other configuration parameters as needed\n",
    "}\n",
    "\n",
    "# Save to a pickle file\n",
    "with open('model.pkl', 'wb') as f:\n",
    "    pickle.dump({'state_dict': state_dict, 'config': config}, f)"
   ]
  }
 ],
 "metadata": {
  "kernelspec": {
   "display_name": "Paris_Analysis",
   "language": "python",
   "name": "python3"
  },
  "language_info": {
   "codemirror_mode": {
    "name": "ipython",
    "version": 3
   },
   "file_extension": ".py",
   "mimetype": "text/x-python",
   "name": "python",
   "nbconvert_exporter": "python",
   "pygments_lexer": "ipython3",
   "version": "3.10.14"
  },
  "orig_nbformat": 4
 },
 "nbformat": 4,
 "nbformat_minor": 2
}
