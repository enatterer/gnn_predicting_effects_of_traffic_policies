{
 "cells": [
  {
   "cell_type": "code",
   "execution_count": 1,
   "metadata": {},
   "outputs": [],
   "source": [
    "import math\n",
    "import numpy as np\n",
    "import wandb\n",
    "\n",
    "import torch\n",
    "import torch_geometric\n",
    "from torch_geometric.data import Data\n",
    "\n",
    "from gnn_architectures import MyGnn\n",
    "\n",
    "import gnn_io as gio\n",
    "import gnn_architectures as garch\n",
    "\n",
    "import pprint"
   ]
  },
  {
   "attachments": {},
   "cell_type": "markdown",
   "metadata": {},
   "source": [
    "## 1. Define model and parameters"
   ]
  },
  {
   "cell_type": "code",
   "execution_count": 2,
   "metadata": {},
   "outputs": [
    {
     "name": "stderr",
     "output_type": "stream",
     "text": [
      "Failed to detect the name of this notebook, you can set it manually with the WANDB_NOTEBOOK_NAME environment variable to enable code saving.\n",
      "\u001b[34m\u001b[1mwandb\u001b[0m: Currently logged in as: \u001b[33menatterer\u001b[0m (\u001b[33mtum-traffic-engineering\u001b[0m). Use \u001b[1m`wandb login --relogin`\u001b[0m to force relogin\n"
     ]
    },
    {
     "data": {
      "text/html": [
       "Tracking run with wandb version 0.17.4"
      ],
      "text/plain": [
       "<IPython.core.display.HTML object>"
      ]
     },
     "metadata": {},
     "output_type": "display_data"
    },
    {
     "data": {
      "text/html": [
       "Run data is saved locally in <code>/Users/elenanatterer/Development/GNNs/GNN_predicting_effects_of_traffic_policies/scripts/wandb/run-20240707_134006-idyh4gxi</code>"
      ],
      "text/plain": [
       "<IPython.core.display.HTML object>"
      ]
     },
     "metadata": {},
     "output_type": "display_data"
    },
    {
     "data": {
      "text/html": [
       "Syncing run <strong><a href='https://wandb.ai/tum-traffic-engineering/multiple_features/runs/idyh4gxi' target=\"_blank\">twilight-capybara-71</a></strong> to <a href='https://wandb.ai/tum-traffic-engineering/multiple_features' target=\"_blank\">Weights & Biases</a> (<a href='https://wandb.me/run' target=\"_blank\">docs</a>)<br/>"
      ],
      "text/plain": [
       "<IPython.core.display.HTML object>"
      ]
     },
     "metadata": {},
     "output_type": "display_data"
    },
    {
     "data": {
      "text/html": [
       " View project at <a href='https://wandb.ai/tum-traffic-engineering/multiple_features' target=\"_blank\">https://wandb.ai/tum-traffic-engineering/multiple_features</a>"
      ],
      "text/plain": [
       "<IPython.core.display.HTML object>"
      ]
     },
     "metadata": {},
     "output_type": "display_data"
    },
    {
     "data": {
      "text/html": [
       " View run at <a href='https://wandb.ai/tum-traffic-engineering/multiple_features/runs/idyh4gxi' target=\"_blank\">https://wandb.ai/tum-traffic-engineering/multiple_features/runs/idyh4gxi</a>"
      ],
      "text/plain": [
       "<IPython.core.display.HTML object>"
      ]
     },
     "metadata": {},
     "output_type": "display_data"
    },
    {
     "name": "stdout",
     "output_type": "stream",
     "text": [
      "Model initialized\n",
      "MyGnn(\n",
      "  (pointLayer): PointNetConv(local_nn=Sequential(\n",
      "    (0): Linear(in_features=3, out_features=32, bias=True)\n",
      "    (1): ReLU()\n",
      "    (2): Linear(in_features=32, out_features=32, bias=True)\n",
      "  ), global_nn=Sequential(\n",
      "    (0): Linear(in_features=32, out_features=16, bias=True)\n",
      "    (1): ReLU()\n",
      "    (2): Linear(in_features=16, out_features=64, bias=True)\n",
      "    (3): ReLU()\n",
      "    (4): Linear(in_features=64, out_features=32, bias=True)\n",
      "  ))\n",
      "  (graph_layers): Sequential(\n",
      "    (0) - GATConv(32, 32, heads=1): x, edge_index -> x\n",
      "    (1) - ReLU(inplace=True): x -> x\n",
      "    (2) - GATConv(32, 32, heads=1): x, edge_index -> x\n",
      "    (3) - ReLU(inplace=True): x -> x\n",
      "    (4) - GCNConv(32, 32): x, edge_index -> x\n",
      "    (5) - ReLU(inplace=True): x -> x\n",
      "  )\n",
      "  (output_layer): GCNConv(32, 1)\n",
      ")\n"
     ]
    }
   ],
   "source": [
    "wandb.login()\n",
    "\n",
    "# Define parameters \n",
    "\n",
    "num_epochs = 40\n",
    "batch_size = 20\n",
    "lr = 0.001\n",
    "project_name = 'multiple_features'\n",
    "train_ratio = 0.8\n",
    "\n",
    "device = torch.device('cuda' if torch.cuda.is_available() else 'cpu')\n",
    "wandb.init(\n",
    "        project=project_name,\n",
    "        config={\n",
    "            \"epochs\": num_epochs,\n",
    "            \"batch_size\": batch_size,\n",
    "            \"lr\": lr,\n",
    "            'early_stopping_patience': 10,\n",
    "            # \"dropout\": 0.15,\n",
    "            })\n",
    "config = wandb.config\n",
    "\n",
    "# Pick a model\n",
    "gnn_instance = MyGnn(in_channels=3, out_channels=1, hidden_size=32, gat_layers=2, heads=1, gcn_layers=1, output_layer='gcn', graph_layers_before=False)\n",
    "\n",
    "model = gnn_instance.to(device)\n",
    "\n",
    "# Define loss and optimizer\n",
    "\n",
    "# optimizer = torch.optim.Adam(model.parameters(), lr=lr, weight_decay=5e-4)\n",
    "optimizer = torch.optim.Adam(model.parameters(), lr=lr)\n",
    "loss_fct = torch.nn.MSELoss()\n",
    "\n",
    "early_stopping = gio.EarlyStopping(patience=10, verbose=True)"
   ]
  },
  {
   "attachments": {},
   "cell_type": "markdown",
   "metadata": {},
   "source": [
    "## 2. Load data"
   ]
  },
  {
   "cell_type": "code",
   "execution_count": 3,
   "metadata": {},
   "outputs": [],
   "source": [
    "# Load the list of dictionaries\n",
    "data_dict_list = torch.load('../data/dataset_1pm_0-1382.pt')\n",
    "# torch.load('../data/dataset_1pm_0-1382_with_more_infos.pt') if model_is_basic else \n",
    "\n",
    "# Reconstruct the Data objects\n",
    "datalist = [Data(x=d['x'], edge_index=d['edge_index'], pos=d['pos'], y=d['y']) for d in data_dict_list]\n",
    "\n",
    "# # Apply normalization to your dataset\n",
    "dataset_normalized = gio.normalize_dataset(datalist)\n",
    "\n",
    "baseline_error = gio.compute_baseline_error(datalist)\n",
    "print(f'Baseline error: {baseline_error}')"
   ]
  },
  {
   "attachments": {},
   "cell_type": "markdown",
   "metadata": {},
   "source": [
    "## 3. Split into train and test set"
   ]
  },
  {
   "cell_type": "code",
   "execution_count": null,
   "metadata": {},
   "outputs": [
    {
     "name": "stdout",
     "output_type": "stream",
     "text": [
      "Total dataset length: 1382\n",
      "Training subset length: 1100\n",
      "Total dataset length: 1382\n",
      "Validation subset length: 260\n",
      "55\n"
     ]
    }
   ],
   "source": [
    "train_dl = gio.create_dataloader(dataset=dataset_normalized, is_train=True, batch_size=config.batch_size, train_ratio=train_ratio)\n",
    "valid_dl = gio.create_dataloader(dataset=dataset_normalized, is_train=False, batch_size=config.batch_size, train_ratio=train_ratio)\n",
    "n_steps_per_epoch = math.ceil(len(train_dl.dataset) / config.batch_size)\n",
    "print(n_steps_per_epoch)"
   ]
  },
  {
   "attachments": {},
   "cell_type": "markdown",
   "metadata": {},
   "source": [
    "## 4. Train the model\n",
    "\n",
    "We first find a good model for one batch. "
   ]
  },
  {
   "cell_type": "code",
   "execution_count": null,
   "metadata": {},
   "outputs": [],
   "source": [
    "def train(model, config=None):\n",
    "    for epoch in range(config.epochs):\n",
    "        model.train()\n",
    "        # data = next(iter(train_dl))\n",
    "        for idx, data in enumerate(train_dl):\n",
    "            input_node_features, targets = data.x.to(device), data.y.to(device)\n",
    "            optimizer.zero_grad()\n",
    "\n",
    "            # Forward pass\n",
    "            predicted = model(data)\n",
    "            train_loss = loss_fct(predicted, targets)\n",
    "            \n",
    "            # Backward pass\n",
    "            train_loss.backward()\n",
    "            optimizer.step()\n",
    "            \n",
    "            wandb.log({\"train_loss\": train_loss.item(), \"epoch\": epoch, \"step\": idx})\n",
    "            print(f\"epoch: {epoch}, step: {idx}, loss: {train_loss.item()}\")\n",
    "        \n",
    "        val_loss = garch.validate_model_pos_features(model, valid_dl, loss_fct, device)\n",
    "        print(f\"epoch: {epoch}, validation loss: {val_loss}\")\n",
    "        wandb.log({\"loss\": val_loss, \"epoch\": epoch})\n",
    "            \n",
    "        early_stopping(val_loss)\n",
    "        if early_stopping.early_stop:\n",
    "            print(\"Early stopping triggered. Stopping training.\")\n",
    "            break\n",
    "\n",
    "    wandb.summary[\"val_loss\"] = val_loss\n",
    "    wandb.finish()"
   ]
  },
  {
   "cell_type": "code",
   "execution_count": null,
   "metadata": {},
   "outputs": [],
   "source": [
    "# epoch: 0, step: 52, loss: 0.07759632170200348\n",
    "# epoch: 0, step: 53, loss: 0.06423051655292511\n",
    "# epoch: 0, step: 54, loss: 0.04370930418372154"
   ]
  },
  {
   "cell_type": "code",
   "execution_count": null,
   "metadata": {},
   "outputs": [
    {
     "name": "stdout",
     "output_type": "stream",
     "text": [
      "epoch: 0, step: 0, loss: 22.222427368164062\n",
      "epoch: 0, step: 1, loss: 26.298938751220703\n",
      "epoch: 0, step: 2, loss: 21.839475631713867\n",
      "epoch: 0, step: 3, loss: 10.804563522338867\n",
      "epoch: 0, step: 4, loss: 1.8818180561065674\n",
      "epoch: 0, step: 5, loss: 0.9747294783592224\n",
      "epoch: 0, step: 6, loss: 3.6631290912628174\n",
      "epoch: 0, step: 7, loss: 3.910353660583496\n",
      "epoch: 0, step: 8, loss: 1.997797966003418\n",
      "epoch: 0, step: 9, loss: 0.8064183592796326\n",
      "epoch: 0, step: 10, loss: 0.1501191109418869\n",
      "epoch: 0, step: 11, loss: 0.08619453012943268\n",
      "epoch: 0, step: 12, loss: 0.3937481641769409\n",
      "epoch: 0, step: 13, loss: 0.6173454523086548\n",
      "epoch: 0, step: 14, loss: 0.47427910566329956\n",
      "epoch: 0, step: 15, loss: 0.21140575408935547\n",
      "epoch: 0, step: 16, loss: 0.10879123955965042\n",
      "epoch: 0, step: 17, loss: 0.11816658079624176\n",
      "epoch: 0, step: 18, loss: 0.19616830348968506\n",
      "epoch: 0, step: 19, loss: 0.23501457273960114\n",
      "epoch: 0, step: 20, loss: 0.21436043083667755\n",
      "epoch: 0, step: 21, loss: 0.1471351534128189\n",
      "epoch: 0, step: 22, loss: 0.08816657215356827\n",
      "epoch: 0, step: 23, loss: 0.08585527539253235\n",
      "epoch: 0, step: 24, loss: 0.07385560870170593\n",
      "epoch: 0, step: 25, loss: 0.05360250547528267\n",
      "epoch: 0, step: 26, loss: 0.02905481867492199\n",
      "epoch: 0, step: 27, loss: 0.012029995210468769\n",
      "epoch: 0, step: 28, loss: 0.009388118982315063\n",
      "epoch: 0, step: 29, loss: 0.012335601262748241\n",
      "epoch: 0, step: 30, loss: 0.01645125448703766\n",
      "epoch: 0, step: 31, loss: 0.019498534500598907\n",
      "epoch: 0, step: 32, loss: 0.02235032618045807\n",
      "epoch: 0, step: 33, loss: 0.023301107808947563\n",
      "epoch: 0, step: 34, loss: 0.024042870849370956\n",
      "epoch: 0, step: 35, loss: 0.022218875586986542\n",
      "epoch: 0, step: 36, loss: 0.01932496577501297\n",
      "epoch: 0, step: 37, loss: 0.015003295615315437\n",
      "epoch: 0, step: 38, loss: 0.011505083180963993\n",
      "epoch: 0, step: 39, loss: 0.009530939161777496\n",
      "epoch: 0, step: 40, loss: 0.009102251380681992\n",
      "epoch: 0, step: 41, loss: 0.008477610535919666\n",
      "epoch: 0, step: 42, loss: 0.007516705431044102\n",
      "epoch: 0, step: 43, loss: 0.007271538022905588\n",
      "epoch: 0, step: 44, loss: 0.008203686214983463\n",
      "epoch: 0, step: 45, loss: 0.009533577598631382\n",
      "epoch: 0, step: 46, loss: 0.010050881654024124\n",
      "epoch: 0, step: 47, loss: 0.009741724468767643\n",
      "epoch: 0, step: 48, loss: 0.009208808653056622\n",
      "epoch: 0, step: 49, loss: 0.00904169026762247\n",
      "epoch: 0, step: 50, loss: 0.008715352974832058\n",
      "epoch: 0, step: 51, loss: 0.007952643558382988\n",
      "epoch: 0, step: 52, loss: 0.007006751373410225\n",
      "epoch: 0, step: 53, loss: 0.006448263302445412\n",
      "epoch: 0, step: 54, loss: 0.006465244572609663\n"
     ]
    },
    {
     "ename": "AttributeError",
     "evalue": "'float' object has no attribute 'item'",
     "output_type": "error",
     "traceback": [
      "\u001b[0;31m---------------------------------------------------------------------------\u001b[0m",
      "\u001b[0;31mAttributeError\u001b[0m                            Traceback (most recent call last)",
      "Cell \u001b[0;32mIn[17], line 1\u001b[0m\n\u001b[0;32m----> 1\u001b[0m train(model, config\u001b[39m=\u001b[39;49mconfig)\n",
      "Cell \u001b[0;32mIn[15], line 21\u001b[0m, in \u001b[0;36mtrain\u001b[0;34m(model, config)\u001b[0m\n\u001b[1;32m     18\u001b[0m     \u001b[39mprint\u001b[39m(\u001b[39mf\u001b[39m\u001b[39m\"\u001b[39m\u001b[39mepoch: \u001b[39m\u001b[39m{\u001b[39;00mepoch\u001b[39m}\u001b[39;00m\u001b[39m, step: \u001b[39m\u001b[39m{\u001b[39;00midx\u001b[39m}\u001b[39;00m\u001b[39m, loss: \u001b[39m\u001b[39m{\u001b[39;00mtrain_loss\u001b[39m.\u001b[39mitem()\u001b[39m}\u001b[39;00m\u001b[39m\"\u001b[39m)\n\u001b[1;32m     20\u001b[0m avg_loss \u001b[39m=\u001b[39m garch\u001b[39m.\u001b[39mvalidate_model_pos_features(model, valid_dl, loss_fct, device)\n\u001b[0;32m---> 21\u001b[0m \u001b[39mprint\u001b[39m(\u001b[39mf\u001b[39m\u001b[39m\"\u001b[39m\u001b[39mepoch: \u001b[39m\u001b[39m{\u001b[39;00mepoch\u001b[39m}\u001b[39;00m\u001b[39m, validation loss: \u001b[39m\u001b[39m{\u001b[39;00mavg_loss\u001b[39m.\u001b[39;49mitem()\u001b[39m}\u001b[39;00m\u001b[39m\"\u001b[39m)\n\u001b[1;32m     22\u001b[0m wandb\u001b[39m.\u001b[39mlog({\u001b[39m\"\u001b[39m\u001b[39mloss\u001b[39m\u001b[39m\"\u001b[39m: avg_loss, \u001b[39m\"\u001b[39m\u001b[39mepoch\u001b[39m\u001b[39m\"\u001b[39m: epoch})\n\u001b[1;32m     24\u001b[0m early_stopping(avg_loss)\n",
      "\u001b[0;31mAttributeError\u001b[0m: 'float' object has no attribute 'item'"
     ]
    }
   ],
   "source": [
    "train(model, config=config)"
   ]
  },
  {
   "cell_type": "code",
   "execution_count": null,
   "metadata": {},
   "outputs": [],
   "source": []
  }
 ],
 "metadata": {
  "kernelspec": {
   "display_name": "Paris_Analysis",
   "language": "python",
   "name": "python3"
  },
  "language_info": {
   "codemirror_mode": {
    "name": "ipython",
    "version": 3
   },
   "file_extension": ".py",
   "mimetype": "text/x-python",
   "name": "python",
   "nbconvert_exporter": "python",
   "pygments_lexer": "ipython3",
   "version": "3.10.14"
  },
  "orig_nbformat": 4
 },
 "nbformat": 4,
 "nbformat_minor": 2
}
