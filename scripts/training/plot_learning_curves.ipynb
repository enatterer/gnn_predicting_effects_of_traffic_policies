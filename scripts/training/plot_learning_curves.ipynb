{
 "cells": [
  {
   "cell_type": "markdown",
   "metadata": {},
   "source": [
    "<!-- ABSTRACT -->\n",
    "\n",
    "This notebook can be used to plot learning curves for a given run, including losses, r2, learning rate schedule, and correlation coefficients."
   ]
  },
  {
   "cell_type": "code",
   "execution_count": null,
   "metadata": {},
   "outputs": [],
   "source": [
    "import pandas as pd\n",
    "import matplotlib.pyplot as plt"
   ]
  },
  {
   "cell_type": "code",
   "execution_count": null,
   "metadata": {},
   "outputs": [],
   "source": [
    "run_name = 'wannabe_best_6'\n",
    "\n",
    "# Read the CSV files (from WandB)\n",
    "df_val_loss = pd.read_csv('val_loss.csv')\n",
    "df_train_loss = pd.read_csv('train_loss.csv')\n",
    "df_r2 = pd.read_csv('r2.csv')\n",
    "df_lr = pd.read_csv('lr.csv')\n",
    "df_spearman = pd.read_csv('spearman.csv')\n",
    "df_pearson = pd.read_csv('pearson.csv')\n",
    "\n",
    "epoch_steps = range(750)"
   ]
  },
  {
   "cell_type": "markdown",
   "metadata": {},
   "source": [
    "### Style 1: Side by Side"
   ]
  },
  {
   "cell_type": "code",
   "execution_count": null,
   "metadata": {},
   "outputs": [],
   "source": [
    "# Set the font to Times New Roman\n",
    "plt.rcParams['font.family'] = 'Times New Roman'\n",
    "\n",
    "# Create a figure with two subplots side by side\n",
    "fig, (ax1, ax2) = plt.subplots(1, 2, figsize=(16, 6), sharey=False)\n",
    "\n",
    "# Plot for Validation Loss and R^2 on the left\n",
    "line1 = ax1.plot(epoch_steps, df_val_loss[run_name + ' - val_loss'], label='Validation loss', color='b')\n",
    "ax1.set_xlabel('Epoch')\n",
    "ax1.set_ylabel('Validation loss', color='b')\n",
    "ax1.tick_params(axis='y', labelcolor='b')\n",
    "\n",
    "# Create a secondary y-axis for R^2\n",
    "ax1_twin = ax1.twinx()\n",
    "line2 = ax1_twin.plot(epoch_steps, df_r2[run_name + ' - r^2'], label=r\"$R^2$\", color='g')\n",
    "ax1_twin.set_ylabel(r\"$R^2$\", color='g')\n",
    "ax1_twin.set_ylim(0, 0.8)  # Set y-axis limits for R squared\n",
    "ax1_twin.tick_params(axis='y', labelcolor='g')\n",
    "\n",
    "# Combine handles and labels for a single legend\n",
    "lines = line1 + line2\n",
    "labels = [line.get_label() for line in lines]\n",
    "ax1.legend(lines, labels, loc='upper right', bbox_to_anchor=(0.9, 0.9))\n",
    "\n",
    "# Set x-axis limits\n",
    "ax1.set_xlim(0, 800)\n",
    "\n",
    "# Plot for Learning Rate on the right\n",
    "ax2.plot(epoch_steps, df_lr[run_name + ' - lr'], label='Learning rate', color='purple')\n",
    "ax2.set_xlim(0, 800)\n",
    "ax2.set_xlabel('Epoch')\n",
    "ax2.set_ylabel('Learning rate', color='purple')\n",
    "ax2.tick_params(axis='y', labelcolor='purple')\n",
    "ax2.spines['left'].set_color('purple')  # Change the color of the y-axis spine\n",
    "\n",
    "# Add legend to the right plot\n",
    "ax2.legend(loc='upper right', bbox_to_anchor=(0.95, 0.95))\n",
    "\n",
    "# Save the figure\n",
    "plt.tight_layout()  # Adjust the layout\n",
    "plt.savefig('combined_plot.png', dpi=500, bbox_inches='tight')  # Save as a high-resolution image\n",
    "\n",
    "# Show the plot\n",
    "plt.show()"
   ]
  },
  {
   "cell_type": "markdown",
   "metadata": {},
   "source": [
    "### Style 2: Separate, with Spearman and Pearson Correlation Coefficients"
   ]
  },
  {
   "cell_type": "code",
   "execution_count": null,
   "metadata": {},
   "outputs": [],
   "source": [
    "# Set the font to Times New Roman\n",
    "plt.rcParams['font.family'] = 'Times New Roman'\n",
    "\n",
    "# Create a figure and axis\n",
    "fig, ax1 = plt.subplots(figsize=(10, 6))\n",
    "\n",
    "# Plot the loss with x-axis starting from 0\n",
    "ax1.plot(epoch_steps, df_train_loss[run_name + ' - train_loss'], label='Training loss', color='r')\n",
    "ax1.plot(epoch_steps, df_val_loss[run_name + ' - val_loss'], label='Validation loss', color='b')\n",
    "ax1.set_xlabel('Epoch')\n",
    "ax1.set_ylabel('Validation loss', color='b')\n",
    "ax1.tick_params(axis='y', labelcolor='b')\n",
    "\n",
    "# Create a secondary y-axis\n",
    "ax2 = ax1.twinx()\n",
    "ax2.plot(epoch_steps, df_r2[run_name + ' - r^2'], label=r\"$R^2$\", color='g')\n",
    "ax2.set_ylabel(r\"$R^2$\", color='g')\n",
    "ax2.set_ylim(0, 0.8)  # Set y-axis limits for R squared\n",
    "ax2.tick_params(axis='y', labelcolor='g')\n",
    "\n",
    "plt.xlim(left=0)\n",
    "plt.xlim(right=800)\n",
    "# plt.ylim(bottom=0)\n",
    "\n",
    "# Add legends\n",
    "fig.legend(loc='upper right', bbox_to_anchor=(0.8, 0.8))\n",
    "\n",
    "# Save the figure\n",
    "plt.savefig('loss_plot.png', dpi=500, bbox_inches='tight')  # Save as a high-resolution image\n",
    "\n",
    "# Show the plot\n",
    "plt.show()"
   ]
  },
  {
   "cell_type": "code",
   "execution_count": null,
   "metadata": {},
   "outputs": [],
   "source": [
    "# Set the font to Times New Roman\n",
    "plt.rcParams['font.family'] = 'Times New Roman'\n",
    "\n",
    "# Create a figure and axis\n",
    "fig, ax1 = plt.subplots(figsize=(10, 6))\n",
    "\n",
    "# Plot the loss with x-axis starting from 0\n",
    "ax1.plot(epoch_steps, df_pearson['wannabe_best_6 - pearson'], label='Pearson', color='firebrick')\n",
    "ax1.set_xlabel('Epoch')\n",
    "ax1.set_ylabel('Pearson', color='firebrick')\n",
    "ax1.set_ylim(0, 0.9)  # Moved Pearson limits to primary axis\n",
    "ax1.tick_params(axis='y', labelcolor='firebrick')\n",
    "\n",
    "# Create a secondary y-axis\n",
    "ax2 = ax1.twinx()\n",
    "ax2.plot(epoch_steps, df_spearman['wannabe_best_6 - spearman'], label='Spearman', color='mediumslateblue')\n",
    "ax2.set_ylabel('Spearman', color='mediumslateblue')\n",
    "ax2.set_ylim(0, 0.5)  # Moved Spearman limits to secondary axis\n",
    "ax2.tick_params(axis='y', labelcolor='mediumslateblue')\n",
    "\n",
    "\n",
    "plt.xlim(left=0)\n",
    "plt.xlim(right=800)\n",
    "\n",
    "# Add legends\n",
    "fig.legend(loc='upper right', bbox_to_anchor=(0.85, 0.8))\n",
    "\n",
    "# Save the figure\n",
    "plt.savefig('pearson_spearman.png', dpi=500, bbox_inches='tight')  # Save as a high-resolution image\n",
    "\n",
    "# Show the plot\n",
    "plt.show()"
   ]
  }
 ],
 "metadata": {
  "kernelspec": {
   "display_name": "chenhao-gnn",
   "language": "python",
   "name": "python3"
  },
  "language_info": {
   "codemirror_mode": {
    "name": "ipython",
    "version": 3
   },
   "file_extension": ".py",
   "mimetype": "text/x-python",
   "name": "python",
   "nbconvert_exporter": "python",
   "pygments_lexer": "ipython3",
   "version": "3.10.13"
  }
 },
 "nbformat": 4,
 "nbformat_minor": 4
}
