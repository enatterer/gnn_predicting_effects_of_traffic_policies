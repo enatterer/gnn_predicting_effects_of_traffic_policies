{
 "cells": [
  {
   "cell_type": "code",
   "execution_count": 1,
   "metadata": {},
   "outputs": [],
   "source": [
    "import math\n",
    "import numpy as np\n",
    "import wandb\n",
    "\n",
    "import torch\n",
    "import torch_geometric\n",
    "from torch_geometric.data import Data\n",
    "\n",
    "from gnn_architectures import MyGnn\n",
    "\n",
    "import gnn_io as gio\n",
    "import gnn_architectures as garch\n",
    "\n",
    "import pprint\n",
    "import itertools"
   ]
  },
  {
   "attachments": {},
   "cell_type": "markdown",
   "metadata": {},
   "source": [
    "## 1. Define model and parameters"
   ]
  },
  {
   "cell_type": "code",
   "execution_count": 2,
   "metadata": {},
   "outputs": [
    {
     "name": "stderr",
     "output_type": "stream",
     "text": [
      "Failed to detect the name of this notebook, you can set it manually with the WANDB_NOTEBOOK_NAME environment variable to enable code saving.\n"
     ]
    },
    {
     "name": "stderr",
     "output_type": "stream",
     "text": [
      "\u001b[34m\u001b[1mwandb\u001b[0m: Currently logged in as: \u001b[33menatterer\u001b[0m (\u001b[33mtum-traffic-engineering\u001b[0m). Use \u001b[1m`wandb login --relogin`\u001b[0m to force relogin\n"
     ]
    }
   ],
   "source": [
    "wandb.login()\n",
    "\n",
    "# Define parameters \n",
    "\n",
    "num_epochs = 1000\n",
    "project_name = 'finetuning'\n",
    "train_ratio = 0.8\n",
    "\n",
    "device = torch.device('cuda' if torch.cuda.is_available() else 'cpu')\n",
    "\n",
    "early_stopping = gio.EarlyStopping(patience=10, verbose=True)"
   ]
  },
  {
   "attachments": {},
   "cell_type": "markdown",
   "metadata": {},
   "source": [
    "## 2. Load data"
   ]
  },
  {
   "cell_type": "code",
   "execution_count": 3,
   "metadata": {},
   "outputs": [
    {
     "name": "stdout",
     "output_type": "stream",
     "text": [
      "0.03093804\n",
      "Baseline error: 0.005564325489103794\n"
     ]
    }
   ],
   "source": [
    "# Load the list of dictionaries\n",
    "data_dict_list = torch.load('../data/dataset_1pm_0-1400_more_features.pt')\n",
    "# torch.load('../data/dataset_1pm_0-1382_with_more_infos.pt') if model_is_basic else \n",
    "\n",
    "# Reconstruct the Data objects\n",
    "datalist = [Data(x=d['x'], edge_index=d['edge_index'], pos=d['pos'], y=d['y']) for d in data_dict_list]\n",
    "\n",
    "dataset_only_relevant_dimensions = gio.cut_dimensions(dataset=datalist, indices_of_dimensions_to_keep=[0])\n",
    "dataset_normalized = gio.normalize_dataset(dataset_only_relevant_dimensions)\n",
    "\n",
    "baseline_error = gio.compute_baseline_error(datalist)\n",
    "print(f'Baseline error: {baseline_error}')"
   ]
  },
  {
   "cell_type": "code",
   "execution_count": 4,
   "metadata": {},
   "outputs": [
    {
     "ename": "NameError",
     "evalue": "name 'adsfsad' is not defined",
     "output_type": "error",
     "traceback": [
      "\u001b[0;31m---------------------------------------------------------------------------\u001b[0m",
      "\u001b[0;31mNameError\u001b[0m                                 Traceback (most recent call last)",
      "Cell \u001b[0;32mIn[4], line 1\u001b[0m\n\u001b[0;32m----> 1\u001b[0m adsfsad\n",
      "\u001b[0;31mNameError\u001b[0m: name 'adsfsad' is not defined"
     ]
    }
   ],
   "source": [
    "adsfsad"
   ]
  },
  {
   "attachments": {},
   "cell_type": "markdown",
   "metadata": {},
   "source": [
    "## 3. Split into train and test set"
   ]
  },
  {
   "attachments": {},
   "cell_type": "markdown",
   "metadata": {},
   "source": [
    "## 4. Train the model\n",
    "\n",
    "We first find a good model for one batch. "
   ]
  },
  {
   "cell_type": "code",
   "execution_count": null,
   "metadata": {},
   "outputs": [],
   "source": [
    "def train(model, config=None, loss_fct=None, optimizer=None, train_dl=None, valid_dl=None):\n",
    "    for epoch in range(config.epochs):\n",
    "        model.train()\n",
    "        for idx, data in enumerate(train_dl):\n",
    "            input_node_features, targets = data.x.to(device), data.y.to(device)\n",
    "            optimizer.zero_grad()\n",
    "\n",
    "            # Forward pass\n",
    "            predicted = model(data)\n",
    "            train_loss = loss_fct(predicted, targets)\n",
    "            \n",
    "            # Backward pass\n",
    "            train_loss.backward()\n",
    "            optimizer.step()\n",
    "            \n",
    "            wandb.log({\"train_loss\": train_loss.item(), \"epoch\": epoch, \"step\": idx})\n",
    "            # print(f\"epoch: {epoch}, step: {idx}, loss: {train_loss.item()}\")\n",
    "        \n",
    "        val_loss = garch.validate_model_pos_features(model, valid_dl, loss_fct, device)\n",
    "        print(f\"epoch: {epoch}, validation loss: {val_loss}\")\n",
    "        wandb.log({\"loss\": val_loss, \"epoch\": epoch})\n",
    "            \n",
    "        early_stopping(val_loss)\n",
    "        if early_stopping.early_stop:\n",
    "            print(\"Early stopping triggered. Stopping training.\")\n",
    "            break\n",
    "    \n",
    "    print(\"Best validation loss: \", val_loss)\n",
    "    wandb.summary[\"val_loss\"] = val_loss\n",
    "    wandb.finish()"
   ]
  },
  {
   "cell_type": "code",
   "execution_count": null,
   "metadata": {},
   "outputs": [],
   "source": [
    "# import itertools\n",
    "\n",
    "# batch_size_range = [16, 24, 32]\n",
    "# output_layer_range = ['gat', 'gcn']\n",
    "\n",
    "# hidden_size_range = [16, 32, 64]\n",
    "# gat_layers_range = [0, 1, 2, 3]\n",
    "# gcn_layers_range = [0, 1, 2, 3]\n",
    "# lr_range = [0.001, 0.0001]\n",
    "\n",
    "\n",
    "# for batch_size in batch_size_range:\n",
    "#     for lr in lr_range:\n",
    "#         for output_layer_parameter in output_layer_range:\n",
    "#             for hidden_size_parameter in hidden_size_range:\n",
    "#                 for gat_layer_parameter in gat_layers_range:\n",
    "#                     for gcn_layer_parameter in gcn_layers_range:\n",
    "#                         train_dl = gio.create_dataloader(dataset=dataset_normalized, is_train=True, batch_size=batch_size, train_ratio=train_ratio)\n",
    "#                         valid_dl = gio.create_dataloader(dataset=dataset_normalized, is_train=False, batch_size=batch_size, train_ratio=train_ratio)\n",
    "#                         wandb.init(\n",
    "#                                 project=project_name,\n",
    "#                                 config={\n",
    "#                                     \"epochs\": num_epochs,\n",
    "#                                     \"batch_size\": batch_size,\n",
    "#                                     \"lr\": lr,\n",
    "#                                     'early_stopping_patience': 10,\n",
    "#                                     # \"dropout\": 0.15,\n",
    "#                                     })\n",
    "#                         config = wandb.config\n",
    "                        \n",
    "#                         print(\"output_layer: \", output_layer_parameter)\n",
    "#                         print(\"hidden_size: \", hidden_size_parameter)\n",
    "#                         print(\"gat_layers: \", gat_layer_parameter)\n",
    "#                         print(\"gcn_layers: \", gcn_layer_parameter)\n",
    "#                         gnn_instance = MyGnn(in_channels=3, out_channels=1, hidden_size=hidden_size_parameter, gat_layers=gat_layer_parameter, gcn_layers=gcn_layer_parameter, output_layer=output_layer_parameter)\n",
    "#                         model = gnn_instance.to(device)\n",
    "#                         train(model, config=config, loss_fct=torch.nn.MSELoss(), optimizer=torch.optim.Adam(model.parameters(), lr=lr), train_dl = train_dl, valid_dl = valid_dl)"
   ]
  },
  {
   "cell_type": "code",
   "execution_count": null,
   "metadata": {},
   "outputs": [
    {
     "name": "stdout",
     "output_type": "stream",
     "text": [
      "Configuration 1/96\n",
      "Total dataset length: 1382\n",
      "Training subset length: 1104\n",
      "Total dataset length: 1382\n",
      "Validation subset length: 272\n"
     ]
    },
    {
     "data": {
      "text/html": [
       "Tracking run with wandb version 0.17.4"
      ],
      "text/plain": [
       "<IPython.core.display.HTML object>"
      ]
     },
     "metadata": {},
     "output_type": "display_data"
    },
    {
     "data": {
      "text/html": [
       "Run data is saved locally in <code>/Users/elenanatterer/Development/GNNs/GNN_predicting_effects_of_traffic_policies/scripts/wandb/run-20240708_113712-0nqr9ftr</code>"
      ],
      "text/plain": [
       "<IPython.core.display.HTML object>"
      ]
     },
     "metadata": {},
     "output_type": "display_data"
    },
    {
     "data": {
      "text/html": [
       "Syncing run <strong><a href='https://wandb.ai/tum-traffic-engineering/finetuning/runs/0nqr9ftr' target=\"_blank\">skilled-moon-3</a></strong> to <a href='https://wandb.ai/tum-traffic-engineering/finetuning' target=\"_blank\">Weights & Biases</a> (<a href='https://wandb.me/run' target=\"_blank\">docs</a>)<br/>"
      ],
      "text/plain": [
       "<IPython.core.display.HTML object>"
      ]
     },
     "metadata": {},
     "output_type": "display_data"
    },
    {
     "data": {
      "text/html": [
       " View project at <a href='https://wandb.ai/tum-traffic-engineering/finetuning' target=\"_blank\">https://wandb.ai/tum-traffic-engineering/finetuning</a>"
      ],
      "text/plain": [
       "<IPython.core.display.HTML object>"
      ]
     },
     "metadata": {},
     "output_type": "display_data"
    },
    {
     "data": {
      "text/html": [
       " View run at <a href='https://wandb.ai/tum-traffic-engineering/finetuning/runs/0nqr9ftr' target=\"_blank\">https://wandb.ai/tum-traffic-engineering/finetuning/runs/0nqr9ftr</a>"
      ],
      "text/plain": [
       "<IPython.core.display.HTML object>"
      ]
     },
     "metadata": {},
     "output_type": "display_data"
    },
    {
     "name": "stdout",
     "output_type": "stream",
     "text": [
      "output_layer:  gat\n",
      "hidden_size:  16\n",
      "gat_layers:  0\n",
      "gcn_layers:  0\n",
      "Model initialized\n",
      "MyGnn(\n",
      "  (pointLayer): PointNetConv(local_nn=Sequential(\n",
      "    (0): Linear(in_features=3, out_features=16, bias=True)\n",
      "    (1): ReLU()\n",
      "    (2): Linear(in_features=16, out_features=16, bias=True)\n",
      "  ), global_nn=Sequential(\n",
      "    (0): Linear(in_features=16, out_features=8, bias=True)\n",
      "    (1): ReLU()\n",
      "    (2): Linear(in_features=8, out_features=32, bias=True)\n",
      "    (3): ReLU()\n",
      "    (4): Linear(in_features=32, out_features=16, bias=True)\n",
      "  ))\n",
      "  (output_layer): GATConv(16, 1, heads=1)\n",
      ")\n"
     ]
    },
    {
     "name": "stderr",
     "output_type": "stream",
     "text": [
      "/Users/elenanatterer/anaconda3/envs/ml_env/lib/python3.10/site-packages/torch/nn/modules/loss.py:535: UserWarning: Using a target size (torch.Size([499456, 1])) that is different to the input size (torch.Size([499456, 16])). This will likely lead to incorrect results due to broadcasting. Please ensure they have the same size.\n",
      "  return F.mse_loss(input, target, reduction=self.reduction)\n"
     ]
    },
    {
     "name": "stdout",
     "output_type": "stream",
     "text": [
      "epoch: 0, validation loss: 0.005564129253958955\n",
      "epoch: 1, validation loss: 0.0055506485514342785\n",
      "epoch: 2, validation loss: 0.005542212905471816\n",
      "epoch: 3, validation loss: 0.0055160127470598504\n",
      "epoch: 4, validation loss: 0.005462144446723601\n"
     ]
    },
    {
     "ename": "KeyboardInterrupt",
     "evalue": "",
     "output_type": "error",
     "traceback": [
      "\u001b[0;31m---------------------------------------------------------------------------\u001b[0m",
      "\u001b[0;31mKeyboardInterrupt\u001b[0m                         Traceback (most recent call last)",
      "Cell \u001b[0;32mIn[7], line 45\u001b[0m\n\u001b[1;32m     42\u001b[0m gnn_instance \u001b[39m=\u001b[39m MyGnn(in_channels\u001b[39m=\u001b[39m\u001b[39m3\u001b[39m, out_channels\u001b[39m=\u001b[39m\u001b[39m1\u001b[39m, hidden_size\u001b[39m=\u001b[39mhidden_size_parameter, gat_layers\u001b[39m=\u001b[39mgat_layer_parameter, gcn_layers\u001b[39m=\u001b[39mgcn_layer_parameter, output_layer\u001b[39m=\u001b[39moutput_layer_parameter)\n\u001b[1;32m     43\u001b[0m model \u001b[39m=\u001b[39m gnn_instance\u001b[39m.\u001b[39mto(device)\n\u001b[0;32m---> 45\u001b[0m best_val_loss, best_epoch \u001b[39m=\u001b[39m train(model, config\u001b[39m=\u001b[39;49mconfig, loss_fct\u001b[39m=\u001b[39;49mtorch\u001b[39m.\u001b[39;49mnn\u001b[39m.\u001b[39;49mMSELoss(), optimizer\u001b[39m=\u001b[39;49mtorch\u001b[39m.\u001b[39;49moptim\u001b[39m.\u001b[39;49mAdam(model\u001b[39m.\u001b[39;49mparameters(), lr\u001b[39m=\u001b[39;49mlr), train_dl\u001b[39m=\u001b[39;49mtrain_dl, valid_dl\u001b[39m=\u001b[39;49mvalid_dl)\n\u001b[1;32m     47\u001b[0m \u001b[39m# Write the configuration and the best loss to the text file\u001b[39;00m\n\u001b[1;32m     48\u001b[0m f\u001b[39m.\u001b[39mwrite(\u001b[39mf\u001b[39m\u001b[39m\"\u001b[39m\u001b[39mConfiguration: batch_size=\u001b[39m\u001b[39m{\u001b[39;00mbatch_size\u001b[39m}\u001b[39;00m\u001b[39m, lr=\u001b[39m\u001b[39m{\u001b[39;00mlr\u001b[39m}\u001b[39;00m\u001b[39m, output_layer=\u001b[39m\u001b[39m{\u001b[39;00moutput_layer_parameter\u001b[39m}\u001b[39;00m\u001b[39m, hidden_size=\u001b[39m\u001b[39m{\u001b[39;00mhidden_size_parameter\u001b[39m}\u001b[39;00m\u001b[39m, gat_layers=\u001b[39m\u001b[39m{\u001b[39;00mgat_layer_parameter\u001b[39m}\u001b[39;00m\u001b[39m, gcn_layers=\u001b[39m\u001b[39m{\u001b[39;00mgcn_layer_parameter\u001b[39m}\u001b[39;00m\u001b[39m\\n\u001b[39;00m\u001b[39m\"\u001b[39m)\n",
      "Cell \u001b[0;32mIn[5], line 13\u001b[0m, in \u001b[0;36mtrain\u001b[0;34m(model, config, loss_fct, optimizer, train_dl, valid_dl)\u001b[0m\n\u001b[1;32m     10\u001b[0m train_loss \u001b[39m=\u001b[39m loss_fct(predicted, targets)\n\u001b[1;32m     12\u001b[0m \u001b[39m# Backward pass\u001b[39;00m\n\u001b[0;32m---> 13\u001b[0m train_loss\u001b[39m.\u001b[39;49mbackward()\n\u001b[1;32m     14\u001b[0m optimizer\u001b[39m.\u001b[39mstep()\n\u001b[1;32m     16\u001b[0m wandb\u001b[39m.\u001b[39mlog({\u001b[39m\"\u001b[39m\u001b[39mtrain_loss\u001b[39m\u001b[39m\"\u001b[39m: train_loss\u001b[39m.\u001b[39mitem(), \u001b[39m\"\u001b[39m\u001b[39mepoch\u001b[39m\u001b[39m\"\u001b[39m: epoch, \u001b[39m\"\u001b[39m\u001b[39mstep\u001b[39m\u001b[39m\"\u001b[39m: idx})\n",
      "File \u001b[0;32m~/anaconda3/envs/ml_env/lib/python3.10/site-packages/torch/_tensor.py:525\u001b[0m, in \u001b[0;36mTensor.backward\u001b[0;34m(self, gradient, retain_graph, create_graph, inputs)\u001b[0m\n\u001b[1;32m    515\u001b[0m \u001b[39mif\u001b[39;00m has_torch_function_unary(\u001b[39mself\u001b[39m):\n\u001b[1;32m    516\u001b[0m     \u001b[39mreturn\u001b[39;00m handle_torch_function(\n\u001b[1;32m    517\u001b[0m         Tensor\u001b[39m.\u001b[39mbackward,\n\u001b[1;32m    518\u001b[0m         (\u001b[39mself\u001b[39m,),\n\u001b[0;32m   (...)\u001b[0m\n\u001b[1;32m    523\u001b[0m         inputs\u001b[39m=\u001b[39minputs,\n\u001b[1;32m    524\u001b[0m     )\n\u001b[0;32m--> 525\u001b[0m torch\u001b[39m.\u001b[39;49mautograd\u001b[39m.\u001b[39;49mbackward(\n\u001b[1;32m    526\u001b[0m     \u001b[39mself\u001b[39;49m, gradient, retain_graph, create_graph, inputs\u001b[39m=\u001b[39;49minputs\n\u001b[1;32m    527\u001b[0m )\n",
      "File \u001b[0;32m~/anaconda3/envs/ml_env/lib/python3.10/site-packages/torch/autograd/__init__.py:267\u001b[0m, in \u001b[0;36mbackward\u001b[0;34m(tensors, grad_tensors, retain_graph, create_graph, grad_variables, inputs)\u001b[0m\n\u001b[1;32m    262\u001b[0m     retain_graph \u001b[39m=\u001b[39m create_graph\n\u001b[1;32m    264\u001b[0m \u001b[39m# The reason we repeat the same comment below is that\u001b[39;00m\n\u001b[1;32m    265\u001b[0m \u001b[39m# some Python versions print out the first line of a multi-line function\u001b[39;00m\n\u001b[1;32m    266\u001b[0m \u001b[39m# calls in the traceback and some print out the last line\u001b[39;00m\n\u001b[0;32m--> 267\u001b[0m _engine_run_backward(\n\u001b[1;32m    268\u001b[0m     tensors,\n\u001b[1;32m    269\u001b[0m     grad_tensors_,\n\u001b[1;32m    270\u001b[0m     retain_graph,\n\u001b[1;32m    271\u001b[0m     create_graph,\n\u001b[1;32m    272\u001b[0m     inputs,\n\u001b[1;32m    273\u001b[0m     allow_unreachable\u001b[39m=\u001b[39;49m\u001b[39mTrue\u001b[39;49;00m,\n\u001b[1;32m    274\u001b[0m     accumulate_grad\u001b[39m=\u001b[39;49m\u001b[39mTrue\u001b[39;49;00m,\n\u001b[1;32m    275\u001b[0m )\n",
      "File \u001b[0;32m~/anaconda3/envs/ml_env/lib/python3.10/site-packages/torch/autograd/graph.py:744\u001b[0m, in \u001b[0;36m_engine_run_backward\u001b[0;34m(t_outputs, *args, **kwargs)\u001b[0m\n\u001b[1;32m    742\u001b[0m     unregister_hooks \u001b[39m=\u001b[39m _register_logging_hooks_on_whole_graph(t_outputs)\n\u001b[1;32m    743\u001b[0m \u001b[39mtry\u001b[39;00m:\n\u001b[0;32m--> 744\u001b[0m     \u001b[39mreturn\u001b[39;00m Variable\u001b[39m.\u001b[39;49m_execution_engine\u001b[39m.\u001b[39;49mrun_backward(  \u001b[39m# Calls into the C++ engine to run the backward pass\u001b[39;49;00m\n\u001b[1;32m    745\u001b[0m         t_outputs, \u001b[39m*\u001b[39;49margs, \u001b[39m*\u001b[39;49m\u001b[39m*\u001b[39;49mkwargs\n\u001b[1;32m    746\u001b[0m     )  \u001b[39m# Calls into the C++ engine to run the backward pass\u001b[39;00m\n\u001b[1;32m    747\u001b[0m \u001b[39mfinally\u001b[39;00m:\n\u001b[1;32m    748\u001b[0m     \u001b[39mif\u001b[39;00m attach_logging_hooks:\n",
      "\u001b[0;31mKeyboardInterrupt\u001b[0m: "
     ]
    }
   ],
   "source": [
    "\n",
    "batch_size_range = [16, 32]\n",
    "output_layer_range = ['gat', 'gcn']\n",
    "\n",
    "hidden_size_range = [16, 32, 64]\n",
    "gat_layers_range = [0, 1]\n",
    "gcn_layers_range = [0, 1]\n",
    "lr_range = [0.001, 0.0001]\n",
    "\n",
    "# Create a list to hold all configurations\n",
    "configurations = list(itertools.product(batch_size_range, lr_range, output_layer_range, hidden_size_range, gat_layers_range, gcn_layers_range))\n",
    "\n",
    "counter = 0\n",
    "# Open the text file for writing\n",
    "with open('model_performance.txt', 'w') as f:\n",
    "    for config in configurations:\n",
    "        counter +=1\n",
    "        print(f\"Configuration {counter}/{len(configurations)}\")\n",
    "        batch_size, lr, output_layer_parameter, hidden_size_parameter, gat_layer_parameter, gcn_layer_parameter = config\n",
    "\n",
    "        train_dl = gio.create_dataloader(dataset=dataset_normalized, is_train=True, batch_size=batch_size, train_ratio=train_ratio)\n",
    "        valid_dl = gio.create_dataloader(dataset=dataset_normalized, is_train=False, batch_size=batch_size, train_ratio=train_ratio)\n",
    "        \n",
    "        wandb.init(\n",
    "            project=project_name,\n",
    "            config={\n",
    "                \"epochs\": num_epochs,\n",
    "                \"batch_size\": batch_size,\n",
    "                \"lr\": lr,\n",
    "                'early_stopping_patience': 10,\n",
    "                # \"dropout\": 0.15,\n",
    "            }\n",
    "        )\n",
    "        config = wandb.config\n",
    "        \n",
    "        print(\"output_layer: \", output_layer_parameter)\n",
    "        print(\"hidden_size: \", hidden_size_parameter)\n",
    "        print(\"gat_layers: \", gat_layer_parameter)\n",
    "        print(\"gcn_layers: \", gcn_layer_parameter)\n",
    "        \n",
    "        gnn_instance = MyGnn(in_channels=3, out_channels=1, hidden_size=hidden_size_parameter, gat_layers=gat_layer_parameter, gcn_layers=gcn_layer_parameter, output_layer=output_layer_parameter)\n",
    "        model = gnn_instance.to(device)\n",
    "        \n",
    "        best_val_loss, best_epoch = train(model, config=config, \n",
    "                                          loss_fct=torch.nn.MSELoss(), \n",
    "                                          optimizer=torch.optim.Adam(model.parameters(), lr=lr),\n",
    "                                          train_dl=train_dl, valid_dl=valid_dl)\n",
    "        \n",
    "        # Write the configuration and the best loss to the text file\n",
    "        f.write(f\"Configuration: batch_size={batch_size}, lr={lr}, output_layer={output_layer_parameter}, hidden_size={hidden_size_parameter}, gat_layers={gat_layer_parameter}, gcn_layers={gcn_layer_parameter}\\n\")\n",
    "        f.write(f\"Best Validation Loss: {best_val_loss}, Best Epoch: {best_epoch}\\n\\n\")"
   ]
  },
  {
   "cell_type": "code",
   "execution_count": null,
   "metadata": {},
   "outputs": [],
   "source": []
  }
 ],
 "metadata": {
  "kernelspec": {
   "display_name": "Paris_Analysis",
   "language": "python",
   "name": "python3"
  },
  "language_info": {
   "codemirror_mode": {
    "name": "ipython",
    "version": 3
   },
   "file_extension": ".py",
   "mimetype": "text/x-python",
   "name": "python",
   "nbconvert_exporter": "python",
   "pygments_lexer": "ipython3",
   "version": "3.10.14"
  },
  "orig_nbformat": 4
 },
 "nbformat": 4,
 "nbformat_minor": 2
}
