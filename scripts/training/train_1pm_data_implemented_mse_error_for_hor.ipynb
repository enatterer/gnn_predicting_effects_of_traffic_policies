{
 "cells": [
  {
   "cell_type": "code",
   "execution_count": 1,
   "metadata": {},
   "outputs": [],
   "source": [
    "import math\n",
    "import numpy as np\n",
    "import wandb\n",
    "\n",
    "import torch\n",
    "import torch_geometric\n",
    "from torch_geometric.data import Data\n",
    "\n",
    "import sys\n",
    "import os\n",
    "from tqdm import tqdm\n",
    "\n",
    "# Add the 'scripts' directory to the Python path\n",
    "scripts_path = os.path.abspath(os.path.join('..'))\n",
    "if scripts_path not in sys.path:\n",
    "    sys.path.append(scripts_path)\n",
    "    \n",
    "import joblib\n",
    "\n",
    "# Now you can import the gnn_io module\n",
    "import gnn_io as gio\n",
    "\n",
    "import gnn_architectures as garch"
   ]
  },
  {
   "attachments": {},
   "cell_type": "markdown",
   "metadata": {},
   "source": [
    "## 1. Define model and parameters"
   ]
  },
  {
   "cell_type": "code",
   "execution_count": 2,
   "metadata": {},
   "outputs": [],
   "source": [
    "# Define parameters \n",
    "num_epochs = 1000\n",
    "unique_model_description = \"mse_just_on_highways\"\n",
    "project_name = unique_model_description\n",
    "path_to_save_dataloader = \"../../data/data_created_during_training_needed_for_testing/\"\n",
    "indices_of_datasets_to_use = [0, 1, 2, 3]\n",
    "batch_size = 16\n",
    "\n",
    "data_dict_list = torch.load('../../data/train_data/dataset_1pm_0-2600_16_07.pt')\n",
    "\n",
    "device = torch.device('cuda' if torch.cuda.is_available() else 'cpu')\n",
    "early_stopping = gio.EarlyStopping(patience=30, verbose=True)\n",
    "torch.set_printoptions(precision=4, sci_mode=False)"
   ]
  },
  {
   "attachments": {},
   "cell_type": "markdown",
   "metadata": {},
   "source": [
    "## 2. Load data"
   ]
  },
  {
   "cell_type": "code",
   "execution_count": 3,
   "metadata": {},
   "outputs": [],
   "source": [
    "# Reconstruct the Data objects\n",
    "datalist = [Data(x=d['x'], edge_index=d['edge_index'], pos=d['pos'], y=d['y']) for d in data_dict_list]\n",
    "dataset_only_relevant_dimensions = gio.cut_dimensions(dataset=datalist, indices_of_dimensions_to_keep=indices_of_datasets_to_use)\n",
    "dataset_normalized = gio.normalize_dataset(dataset_only_relevant_dimensions)"
   ]
  },
  {
   "cell_type": "code",
   "execution_count": 4,
   "metadata": {},
   "outputs": [
    {
     "name": "stdout",
     "output_type": "stream",
     "text": [
      "Baseline error no policies: 0.32162734866142273\n",
      "Baseline error mean: 0.0032576548401266336\n"
     ]
    }
   ],
   "source": [
    "baseline_error = gio.compute_baseline_of_no_policies(dataset_normalized)\n",
    "print(f'Baseline error no policies: {baseline_error}')\n",
    "\n",
    "baseline_error = gio.compute_baseline_of_mean_target(dataset_normalized)\n",
    "print(f'Baseline error mean: {baseline_error}')"
   ]
  },
  {
   "attachments": {},
   "cell_type": "markdown",
   "metadata": {},
   "source": [
    "## 4. Train the model\n",
    "\n",
    "We first find a good model for one batch. "
   ]
  },
  {
   "cell_type": "code",
   "execution_count": 5,
   "metadata": {},
   "outputs": [
    {
     "name": "stdout",
     "output_type": "stream",
     "text": [
      "Total dataset length: 2580\n",
      "Training subset length: 1805\n",
      "Validation subset length: 387\n",
      "Test subset length: 388\n"
     ]
    }
   ],
   "source": [
    "train_dl, valid_dl, test_dl = gio.create_dataloaders(batch_size = batch_size, dataset=dataset_normalized, train_ratio=0.7, val_ratio=0.15, test_ratio=0.15)\n",
    "gio.save_dataloader(test_dl, path_to_save_dataloader + 'test_dl' + unique_model_description + '.pt')\n",
    "gio.save_dataloader_params(test_dl, path_to_save_dataloader + 'test_loader_params' + unique_model_description+ '.json')"
   ]
  },
  {
   "cell_type": "code",
   "execution_count": 6,
   "metadata": {},
   "outputs": [],
   "source": [
    "scaler_highways = joblib.load('x_scaler_dim_3.pkl')"
   ]
  },
  {
   "cell_type": "code",
   "execution_count": 7,
   "metadata": {},
   "outputs": [],
   "source": [
    "highway_mapping = {\n",
    "    'trunk': 0, 'trunk_link': 0, 'motorway_link': 0,\n",
    "    'primary': 1, 'primary_link': 1,\n",
    "    'secondary': 2, 'secondary_link': 2,\n",
    "    'tertiary': 3, 'tertiary_link': 3,\n",
    "    'residential': 4, 'living_street': 5,\n",
    "    'pedestrian': 6, 'service': 7,\n",
    "    'construction': 8, 'unclassified': 9,\n",
    "    'np.nan': -1\n",
    "}\n",
    "\n",
    "higher_order_roads = ['primary', 'primary_link', 'secondary', 'secondary_link', 'tertiary', 'tertiary_link']\n",
    "\n",
    "higher_order_values = {highway_mapping[road] for road in higher_order_roads if road in highway_mapping}"
   ]
  },
  {
   "cell_type": "code",
   "execution_count": 8,
   "metadata": {},
   "outputs": [],
   "source": [
    "def get_indices_of_higher_order_roads(input_tensor, scaler, values_to_filter_for):\n",
    "    values_dim3 = input_tensor[:, 3]\n",
    "    original_highways_tensor = torch.tensor(scaler.inverse_transform(values_dim3.cpu().detach().numpy().reshape(-1, 1)).flatten(), dtype=torch.float)\n",
    "\n",
    "    membership_mask = torch.tensor(np.isin(original_highways_tensor, list(values_to_filter_for)), dtype=torch.bool)\n",
    "    indices = torch.nonzero(membership_mask).reshape(-1)\n",
    "    return indices"
   ]
  },
  {
   "cell_type": "code",
   "execution_count": 9,
   "metadata": {},
   "outputs": [],
   "source": [
    "def train(model, config=None, loss_fct=None, optimizer=None, train_dl=None, valid_dl=None, device=None, early_stopping=None):\n",
    "    for epoch in range(config.epochs):\n",
    "        model.train()\n",
    "        actual_vals = []\n",
    "        predictions = []\n",
    "        for idx, data in tqdm(enumerate(train_dl)):\n",
    "            input_node_features, targets = data.x.to(device), data.y.to(device)\n",
    "            optimizer.zero_grad()\n",
    "            \n",
    "            # Extract values along the 3rd dimension\n",
    "            indices = get_indices_of_higher_order_roads(input_tensor=input_node_features, scaler=scaler_highways, values_to_filter_for = higher_order_values)\n",
    "\n",
    "            # Forward pass\n",
    "            predicted = model(data)\n",
    "            \n",
    "            actual_vals.extend(targets.detach().numpy())\n",
    "            predictions.extend(predicted.detach().numpy())\n",
    "            \n",
    "            filtered_predicted = torch.index_select(predicted, 0, indices)\n",
    "            filtered_actual = torch.index_select(targets, 0, indices)\n",
    "            \n",
    "            # Backward pass\n",
    "            train_loss = loss_fct(filtered_predicted, filtered_actual)\n",
    "            \n",
    "            train_loss.backward()\n",
    "            optimizer.step()\n",
    "            \n",
    "            wandb.log({\"train_loss\": train_loss.item(), \"epoch\": epoch, \"step\": idx})\n",
    "            # print(f\"epoch: {epoch}, step: {idx}, loss: {train_loss.item()}\")\n",
    "        \n",
    "        actual_vals = np.array(actual_vals)\n",
    "        predictions = np.array(predictions)\n",
    "        \n",
    "        # Calculate R^2\n",
    "        sst = ((actual_vals - actual_vals.mean()) ** 2).sum()\n",
    "        ssr = ((actual_vals - predictions) ** 2).sum()\n",
    "        r2 = 1 - ssr / sst\n",
    "\n",
    "        val_loss = garch.validate_model_pos_features(model, valid_dl, loss_fct, device)\n",
    "        print(f\"epoch: {epoch}, validation loss: {val_loss}, R^2: {r2}\")\n",
    "        wandb.log({\"loss\": val_loss, \"epoch\": epoch, \"r2\": r2})\n",
    "            \n",
    "        early_stopping(val_loss)\n",
    "        if early_stopping.early_stop:\n",
    "            print(\"Early stopping triggered. Stopping training.\")\n",
    "            break\n",
    "    \n",
    "    print(\"Best validation loss: \", val_loss)\n",
    "    wandb.summary[\"val_loss\"] = val_loss\n",
    "    wandb.finish()\n",
    "    return val_loss, epoch"
   ]
  },
  {
   "cell_type": "code",
   "execution_count": 10,
   "metadata": {},
   "outputs": [
    {
     "name": "stderr",
     "output_type": "stream",
     "text": [
      "Failed to detect the name of this notebook, you can set it manually with the WANDB_NOTEBOOK_NAME environment variable to enable code saving.\n",
      "\u001b[34m\u001b[1mwandb\u001b[0m: Currently logged in as: \u001b[33menatterer\u001b[0m (\u001b[33mtum-traffic-engineering\u001b[0m). Use \u001b[1m`wandb login --relogin`\u001b[0m to force relogin\n"
     ]
    },
    {
     "data": {
      "text/html": [
       "Tracking run with wandb version 0.17.4"
      ],
      "text/plain": [
       "<IPython.core.display.HTML object>"
      ]
     },
     "metadata": {},
     "output_type": "display_data"
    },
    {
     "data": {
      "text/html": [
       "Run data is saved locally in <code>/Users/elenanatterer/Development/GNNs/GNN_predicting_effects_of_traffic_policies/scripts/training/wandb/run-20240717_094925-mvlyq0qu</code>"
      ],
      "text/plain": [
       "<IPython.core.display.HTML object>"
      ]
     },
     "metadata": {},
     "output_type": "display_data"
    },
    {
     "data": {
      "text/html": [
       "Syncing run <strong><a href='https://wandb.ai/tum-traffic-engineering/mse_just_on_highways/runs/mvlyq0qu' target=\"_blank\">glorious-durian-3</a></strong> to <a href='https://wandb.ai/tum-traffic-engineering/mse_just_on_highways' target=\"_blank\">Weights & Biases</a> (<a href='https://wandb.me/run' target=\"_blank\">docs</a>)<br/>"
      ],
      "text/plain": [
       "<IPython.core.display.HTML object>"
      ]
     },
     "metadata": {},
     "output_type": "display_data"
    },
    {
     "data": {
      "text/html": [
       " View project at <a href='https://wandb.ai/tum-traffic-engineering/mse_just_on_highways' target=\"_blank\">https://wandb.ai/tum-traffic-engineering/mse_just_on_highways</a>"
      ],
      "text/plain": [
       "<IPython.core.display.HTML object>"
      ]
     },
     "metadata": {},
     "output_type": "display_data"
    },
    {
     "data": {
      "text/html": [
       " View run at <a href='https://wandb.ai/tum-traffic-engineering/mse_just_on_highways/runs/mvlyq0qu' target=\"_blank\">https://wandb.ai/tum-traffic-engineering/mse_just_on_highways/runs/mvlyq0qu</a>"
      ],
      "text/plain": [
       "<IPython.core.display.HTML object>"
      ]
     },
     "metadata": {},
     "output_type": "display_data"
    },
    {
     "name": "stdout",
     "output_type": "stream",
     "text": [
      "output_layer:  gat\n",
      "hidden_size:  16\n",
      "gat_layers:  0\n",
      "gcn_layers:  0\n",
      "Model initialized\n",
      "MyGnn(\n",
      "  (pointLayer): PointNetConv(local_nn=Sequential(\n",
      "    (0): Linear(in_features=6, out_features=16, bias=True)\n",
      "    (1): ReLU()\n",
      "    (2): Linear(in_features=16, out_features=16, bias=True)\n",
      "  ), global_nn=Sequential(\n",
      "    (0): Linear(in_features=16, out_features=8, bias=True)\n",
      "    (1): ReLU()\n",
      "    (2): Linear(in_features=8, out_features=32, bias=True)\n",
      "    (3): ReLU()\n",
      "    (4): Linear(in_features=32, out_features=16, bias=True)\n",
      "  ))\n",
      "  (output_layer): GATConv(16, 1, heads=1)\n",
      ")\n"
     ]
    },
    {
     "name": "stderr",
     "output_type": "stream",
     "text": [
      "113it [02:23,  1.27s/it]\n"
     ]
    },
    {
     "name": "stdout",
     "output_type": "stream",
     "text": [
      "epoch: 0, validation loss: 0.003281985428184271, R^2: -8.60151481628418\n"
     ]
    },
    {
     "name": "stderr",
     "output_type": "stream",
     "text": [
      "113it [01:53,  1.00s/it]\n"
     ]
    },
    {
     "name": "stdout",
     "output_type": "stream",
     "text": [
      "epoch: 1, validation loss: 0.0032810638658702374, R^2: -0.0076198577880859375\n"
     ]
    },
    {
     "name": "stderr",
     "output_type": "stream",
     "text": [
      "113it [02:36,  1.39s/it]\n"
     ]
    },
    {
     "name": "stdout",
     "output_type": "stream",
     "text": [
      "epoch: 2, validation loss: 0.0032808151841163635, R^2: -0.0070950984954833984\n"
     ]
    },
    {
     "name": "stderr",
     "output_type": "stream",
     "text": [
      "113it [02:41,  1.43s/it]\n"
     ]
    },
    {
     "name": "stdout",
     "output_type": "stream",
     "text": [
      "epoch: 3, validation loss: 0.003294027671217918, R^2: -0.009050846099853516\n",
      "EarlyStopping counter: 1 out of 30\n"
     ]
    },
    {
     "name": "stderr",
     "output_type": "stream",
     "text": [
      "113it [02:24,  1.28s/it]\n"
     ]
    },
    {
     "name": "stdout",
     "output_type": "stream",
     "text": [
      "epoch: 4, validation loss: 0.0032963852863758802, R^2: -0.011550545692443848\n",
      "EarlyStopping counter: 2 out of 30\n"
     ]
    },
    {
     "name": "stderr",
     "output_type": "stream",
     "text": [
      "113it [02:13,  1.18s/it]\n"
     ]
    },
    {
     "name": "stdout",
     "output_type": "stream",
     "text": [
      "epoch: 5, validation loss: 0.003303424697369337, R^2: -0.012486696243286133\n",
      "EarlyStopping counter: 3 out of 30\n"
     ]
    },
    {
     "name": "stderr",
     "output_type": "stream",
     "text": [
      "113it [02:20,  1.24s/it]\n"
     ]
    },
    {
     "name": "stdout",
     "output_type": "stream",
     "text": [
      "epoch: 6, validation loss: 0.0033206885773688554, R^2: -0.016606450080871582\n",
      "EarlyStopping counter: 4 out of 30\n"
     ]
    },
    {
     "name": "stderr",
     "output_type": "stream",
     "text": [
      "113it [02:49,  1.50s/it]\n"
     ]
    },
    {
     "name": "stdout",
     "output_type": "stream",
     "text": [
      "epoch: 7, validation loss: 0.0033386405650526283, R^2: -0.022196292877197266\n",
      "EarlyStopping counter: 5 out of 30\n"
     ]
    },
    {
     "name": "stderr",
     "output_type": "stream",
     "text": [
      "113it [02:16,  1.21s/it]\n"
     ]
    },
    {
     "name": "stdout",
     "output_type": "stream",
     "text": [
      "epoch: 8, validation loss: 0.003354023890569806, R^2: -0.027212977409362793\n",
      "EarlyStopping counter: 6 out of 30\n"
     ]
    },
    {
     "name": "stderr",
     "output_type": "stream",
     "text": [
      "113it [02:04,  1.10s/it]\n"
     ]
    },
    {
     "name": "stdout",
     "output_type": "stream",
     "text": [
      "epoch: 9, validation loss: 0.0032959196250885725, R^2: -0.029925823211669922\n",
      "EarlyStopping counter: 7 out of 30\n"
     ]
    },
    {
     "name": "stderr",
     "output_type": "stream",
     "text": [
      "113it [02:29,  1.32s/it]\n"
     ]
    },
    {
     "name": "stdout",
     "output_type": "stream",
     "text": [
      "epoch: 10, validation loss: 0.0033279075287282467, R^2: -0.01275944709777832\n",
      "EarlyStopping counter: 8 out of 30\n"
     ]
    },
    {
     "name": "stderr",
     "output_type": "stream",
     "text": [
      "113it [02:18,  1.23s/it]\n"
     ]
    },
    {
     "name": "stdout",
     "output_type": "stream",
     "text": [
      "epoch: 11, validation loss: 0.003290270669385791, R^2: -0.014904022216796875\n",
      "EarlyStopping counter: 9 out of 30\n"
     ]
    },
    {
     "name": "stderr",
     "output_type": "stream",
     "text": [
      "113it [02:39,  1.42s/it]\n"
     ]
    },
    {
     "name": "stdout",
     "output_type": "stream",
     "text": [
      "epoch: 12, validation loss: 0.0032363417651504276, R^2: -0.0031855106353759766\n"
     ]
    },
    {
     "name": "stderr",
     "output_type": "stream",
     "text": [
      "113it [02:13,  1.18s/it]\n"
     ]
    },
    {
     "name": "stdout",
     "output_type": "stream",
     "text": [
      "epoch: 13, validation loss: 0.0032415923196822405, R^2: 0.007543802261352539\n",
      "EarlyStopping counter: 1 out of 30\n"
     ]
    },
    {
     "name": "stderr",
     "output_type": "stream",
     "text": [
      "113it [02:32,  1.35s/it]\n"
     ]
    },
    {
     "name": "stdout",
     "output_type": "stream",
     "text": [
      "epoch: 14, validation loss: 0.0032036192901432514, R^2: 0.011121034622192383\n"
     ]
    },
    {
     "name": "stderr",
     "output_type": "stream",
     "text": [
      "113it [01:57,  1.04s/it]\n"
     ]
    },
    {
     "name": "stdout",
     "output_type": "stream",
     "text": [
      "epoch: 15, validation loss: 0.0032418053597211838, R^2: 0.01250988245010376\n",
      "EarlyStopping counter: 1 out of 30\n"
     ]
    },
    {
     "name": "stderr",
     "output_type": "stream",
     "text": [
      "113it [02:23,  1.27s/it]\n"
     ]
    },
    {
     "name": "stdout",
     "output_type": "stream",
     "text": [
      "epoch: 16, validation loss: 0.0032417068909853697, R^2: 0.010861873626708984\n",
      "EarlyStopping counter: 2 out of 30\n"
     ]
    },
    {
     "name": "stderr",
     "output_type": "stream",
     "text": [
      "113it [02:50,  1.50s/it]\n"
     ]
    },
    {
     "name": "stdout",
     "output_type": "stream",
     "text": [
      "epoch: 17, validation loss: 0.0032354299910366535, R^2: 0.008889853954315186\n",
      "EarlyStopping counter: 3 out of 30\n"
     ]
    },
    {
     "name": "stderr",
     "output_type": "stream",
     "text": [
      "113it [02:52,  1.53s/it]\n"
     ]
    },
    {
     "name": "stdout",
     "output_type": "stream",
     "text": [
      "epoch: 18, validation loss: 0.003253371436148882, R^2: 0.005366683006286621\n",
      "EarlyStopping counter: 4 out of 30\n"
     ]
    },
    {
     "name": "stderr",
     "output_type": "stream",
     "text": [
      "113it [02:56,  1.56s/it]\n"
     ]
    },
    {
     "name": "stdout",
     "output_type": "stream",
     "text": [
      "epoch: 19, validation loss: 0.0032509691175073383, R^2: 0.004323720932006836\n",
      "EarlyStopping counter: 5 out of 30\n"
     ]
    },
    {
     "name": "stderr",
     "output_type": "stream",
     "text": [
      "113it [02:35,  1.37s/it]\n"
     ]
    },
    {
     "name": "stdout",
     "output_type": "stream",
     "text": [
      "epoch: 20, validation loss: 0.0032521323300898075, R^2: -0.0007826089859008789\n",
      "EarlyStopping counter: 6 out of 30\n"
     ]
    },
    {
     "name": "stderr",
     "output_type": "stream",
     "text": [
      "113it [02:05,  1.11s/it]\n"
     ]
    },
    {
     "name": "stdout",
     "output_type": "stream",
     "text": [
      "epoch: 21, validation loss: 0.003300392087548971, R^2: -0.004260897636413574\n",
      "EarlyStopping counter: 7 out of 30\n"
     ]
    },
    {
     "name": "stderr",
     "output_type": "stream",
     "text": [
      "113it [01:59,  1.06s/it]\n"
     ]
    },
    {
     "name": "stdout",
     "output_type": "stream",
     "text": [
      "epoch: 22, validation loss: 0.0032572818361222746, R^2: -0.004711151123046875\n",
      "EarlyStopping counter: 8 out of 30\n"
     ]
    },
    {
     "name": "stderr",
     "output_type": "stream",
     "text": [
      "113it [01:59,  1.05s/it]\n"
     ]
    },
    {
     "name": "stdout",
     "output_type": "stream",
     "text": [
      "epoch: 23, validation loss: 0.0032649263739585876, R^2: -0.0036742687225341797\n",
      "EarlyStopping counter: 9 out of 30\n"
     ]
    },
    {
     "name": "stderr",
     "output_type": "stream",
     "text": [
      "113it [02:47,  1.48s/it]\n"
     ]
    },
    {
     "name": "stdout",
     "output_type": "stream",
     "text": [
      "epoch: 24, validation loss: 0.0032894092332571745, R^2: -0.004610657691955566\n",
      "EarlyStopping counter: 10 out of 30\n"
     ]
    },
    {
     "name": "stderr",
     "output_type": "stream",
     "text": [
      "113it [02:21,  1.25s/it]\n"
     ]
    },
    {
     "name": "stdout",
     "output_type": "stream",
     "text": [
      "epoch: 25, validation loss: 0.00324463402852416, R^2: -0.004969358444213867\n",
      "EarlyStopping counter: 11 out of 30\n"
     ]
    },
    {
     "name": "stderr",
     "output_type": "stream",
     "text": [
      "113it [03:08,  1.67s/it]\n"
     ]
    },
    {
     "name": "stdout",
     "output_type": "stream",
     "text": [
      "epoch: 26, validation loss: 0.0032453157380223276, R^2: -0.002275705337524414\n",
      "EarlyStopping counter: 12 out of 30\n"
     ]
    },
    {
     "name": "stderr",
     "output_type": "stream",
     "text": [
      "113it [03:01,  1.61s/it]\n"
     ]
    },
    {
     "name": "stdout",
     "output_type": "stream",
     "text": [
      "epoch: 27, validation loss: 0.0032323764357715845, R^2: 0.002006232738494873\n",
      "EarlyStopping counter: 13 out of 30\n"
     ]
    },
    {
     "name": "stderr",
     "output_type": "stream",
     "text": [
      "113it [02:31,  1.34s/it]\n"
     ]
    },
    {
     "name": "stdout",
     "output_type": "stream",
     "text": [
      "epoch: 28, validation loss: 0.003202410191297531, R^2: 0.010120987892150879\n"
     ]
    },
    {
     "name": "stderr",
     "output_type": "stream",
     "text": [
      "113it [02:23,  1.27s/it]\n"
     ]
    },
    {
     "name": "stdout",
     "output_type": "stream",
     "text": [
      "epoch: 29, validation loss: 0.0031648948788642883, R^2: 0.01764535903930664\n"
     ]
    },
    {
     "name": "stderr",
     "output_type": "stream",
     "text": [
      "113it [02:23,  1.27s/it]\n"
     ]
    },
    {
     "name": "stdout",
     "output_type": "stream",
     "text": [
      "epoch: 30, validation loss: 0.003126250570639968, R^2: 0.026110827922821045\n"
     ]
    },
    {
     "name": "stderr",
     "output_type": "stream",
     "text": [
      "113it [02:39,  1.41s/it]\n"
     ]
    },
    {
     "name": "stdout",
     "output_type": "stream",
     "text": [
      "epoch: 31, validation loss: 0.0031390692852437496, R^2: 0.03420901298522949\n",
      "EarlyStopping counter: 1 out of 30\n"
     ]
    },
    {
     "name": "stderr",
     "output_type": "stream",
     "text": [
      "113it [02:37,  1.39s/it]\n"
     ]
    },
    {
     "name": "stdout",
     "output_type": "stream",
     "text": [
      "epoch: 32, validation loss: 0.003112494284287095, R^2: 0.04070371389389038\n"
     ]
    },
    {
     "name": "stderr",
     "output_type": "stream",
     "text": [
      "113it [02:28,  1.31s/it]\n"
     ]
    },
    {
     "name": "stdout",
     "output_type": "stream",
     "text": [
      "epoch: 33, validation loss: 0.0031253353226929903, R^2: 0.04372209310531616\n",
      "EarlyStopping counter: 1 out of 30\n"
     ]
    },
    {
     "name": "stderr",
     "output_type": "stream",
     "text": [
      "113it [02:17,  1.22s/it]\n"
     ]
    },
    {
     "name": "stdout",
     "output_type": "stream",
     "text": [
      "epoch: 34, validation loss: 0.003151489654555917, R^2: 0.04562664031982422\n",
      "EarlyStopping counter: 2 out of 30\n"
     ]
    },
    {
     "name": "stderr",
     "output_type": "stream",
     "text": [
      "113it [02:33,  1.36s/it]\n"
     ]
    },
    {
     "name": "stdout",
     "output_type": "stream",
     "text": [
      "epoch: 35, validation loss: 0.003090897109359503, R^2: 0.04713559150695801\n"
     ]
    },
    {
     "name": "stderr",
     "output_type": "stream",
     "text": [
      "113it [02:22,  1.26s/it]\n"
     ]
    },
    {
     "name": "stdout",
     "output_type": "stream",
     "text": [
      "epoch: 36, validation loss: 0.0030989712104201317, R^2: 0.0480959415435791\n",
      "EarlyStopping counter: 1 out of 30\n"
     ]
    },
    {
     "name": "stderr",
     "output_type": "stream",
     "text": [
      "113it [02:34,  1.36s/it]\n"
     ]
    },
    {
     "name": "stdout",
     "output_type": "stream",
     "text": [
      "epoch: 37, validation loss: 0.0031098737567663193, R^2: 0.0488470196723938\n",
      "EarlyStopping counter: 2 out of 30\n"
     ]
    },
    {
     "name": "stderr",
     "output_type": "stream",
     "text": [
      "113it [02:27,  1.31s/it]\n"
     ]
    },
    {
     "name": "stdout",
     "output_type": "stream",
     "text": [
      "epoch: 38, validation loss: 0.0030900144577026365, R^2: 0.05023854970932007\n"
     ]
    },
    {
     "name": "stderr",
     "output_type": "stream",
     "text": [
      "113it [02:07,  1.13s/it]\n"
     ]
    },
    {
     "name": "stdout",
     "output_type": "stream",
     "text": [
      "epoch: 39, validation loss: 0.0030855271127074955, R^2: 0.05151355266571045\n"
     ]
    },
    {
     "name": "stderr",
     "output_type": "stream",
     "text": [
      "113it [02:24,  1.28s/it]\n"
     ]
    },
    {
     "name": "stdout",
     "output_type": "stream",
     "text": [
      "epoch: 40, validation loss: 0.0031031116377562284, R^2: 0.05010414123535156\n",
      "EarlyStopping counter: 1 out of 30\n"
     ]
    },
    {
     "name": "stderr",
     "output_type": "stream",
     "text": [
      "113it [02:20,  1.25s/it]\n"
     ]
    },
    {
     "name": "stdout",
     "output_type": "stream",
     "text": [
      "epoch: 41, validation loss: 0.0031201464403420687, R^2: 0.04955023527145386\n",
      "EarlyStopping counter: 2 out of 30\n"
     ]
    },
    {
     "name": "stderr",
     "output_type": "stream",
     "text": [
      "113it [02:38,  1.40s/it]\n"
     ]
    },
    {
     "name": "stdout",
     "output_type": "stream",
     "text": [
      "epoch: 42, validation loss: 0.0031391219049692154, R^2: 0.048820436000823975\n",
      "EarlyStopping counter: 3 out of 30\n"
     ]
    },
    {
     "name": "stderr",
     "output_type": "stream",
     "text": [
      "113it [02:01,  1.08s/it]\n"
     ]
    },
    {
     "name": "stdout",
     "output_type": "stream",
     "text": [
      "epoch: 43, validation loss: 0.003089974634349346, R^2: 0.04834699630737305\n",
      "EarlyStopping counter: 4 out of 30\n"
     ]
    },
    {
     "name": "stderr",
     "output_type": "stream",
     "text": [
      "113it [02:16,  1.21s/it]\n"
     ]
    },
    {
     "name": "stdout",
     "output_type": "stream",
     "text": [
      "epoch: 44, validation loss: 0.003080454869195819, R^2: 0.04624456167221069\n"
     ]
    },
    {
     "name": "stderr",
     "output_type": "stream",
     "text": [
      "113it [02:10,  1.16s/it]\n"
     ]
    },
    {
     "name": "stdout",
     "output_type": "stream",
     "text": [
      "epoch: 45, validation loss: 0.0031060317996889353, R^2: 0.04412466287612915\n",
      "EarlyStopping counter: 1 out of 30\n"
     ]
    },
    {
     "name": "stderr",
     "output_type": "stream",
     "text": [
      "113it [02:01,  1.08s/it]\n"
     ]
    },
    {
     "name": "stdout",
     "output_type": "stream",
     "text": [
      "epoch: 46, validation loss: 0.003117981133982539, R^2: 0.042471885681152344\n",
      "EarlyStopping counter: 2 out of 30\n"
     ]
    },
    {
     "name": "stderr",
     "output_type": "stream",
     "text": [
      "113it [01:54,  1.01s/it]\n"
     ]
    },
    {
     "name": "stdout",
     "output_type": "stream",
     "text": [
      "epoch: 47, validation loss: 0.0031443524733185766, R^2: 0.04017436504364014\n",
      "EarlyStopping counter: 3 out of 30\n"
     ]
    },
    {
     "name": "stderr",
     "output_type": "stream",
     "text": [
      "113it [01:53,  1.00s/it]\n"
     ]
    },
    {
     "name": "stdout",
     "output_type": "stream",
     "text": [
      "epoch: 48, validation loss: 0.0031462144199758766, R^2: 0.03293102979660034\n",
      "EarlyStopping counter: 4 out of 30\n"
     ]
    },
    {
     "name": "stderr",
     "output_type": "stream",
     "text": [
      "113it [02:43,  1.45s/it]\n"
     ]
    },
    {
     "name": "stdout",
     "output_type": "stream",
     "text": [
      "epoch: 49, validation loss: 0.0032022811844944956, R^2: 0.026658356189727783\n",
      "EarlyStopping counter: 5 out of 30\n"
     ]
    },
    {
     "name": "stderr",
     "output_type": "stream",
     "text": [
      "113it [02:21,  1.25s/it]\n"
     ]
    },
    {
     "name": "stdout",
     "output_type": "stream",
     "text": [
      "epoch: 50, validation loss: 0.003216008907184005, R^2: 0.02265620231628418\n",
      "EarlyStopping counter: 6 out of 30\n"
     ]
    },
    {
     "name": "stderr",
     "output_type": "stream",
     "text": [
      "113it [02:24,  1.28s/it]\n"
     ]
    },
    {
     "name": "stdout",
     "output_type": "stream",
     "text": [
      "epoch: 51, validation loss: 0.003159933714196086, R^2: 0.02014625072479248\n",
      "EarlyStopping counter: 7 out of 30\n"
     ]
    },
    {
     "name": "stderr",
     "output_type": "stream",
     "text": [
      "113it [02:10,  1.16s/it]\n"
     ]
    },
    {
     "name": "stdout",
     "output_type": "stream",
     "text": [
      "epoch: 52, validation loss: 0.003233073726296425, R^2: 0.016425669193267822\n",
      "EarlyStopping counter: 8 out of 30\n"
     ]
    },
    {
     "name": "stderr",
     "output_type": "stream",
     "text": [
      "113it [01:51,  1.01it/s]\n"
     ]
    },
    {
     "name": "stdout",
     "output_type": "stream",
     "text": [
      "epoch: 53, validation loss: 0.003244029339402914, R^2: 0.01116710901260376\n",
      "EarlyStopping counter: 9 out of 30\n"
     ]
    },
    {
     "name": "stderr",
     "output_type": "stream",
     "text": [
      "55it [00:52,  1.13it/s]wandb: Network error (ReadTimeout), entering retry loop.\n",
      "113it [01:52,  1.00it/s]\n"
     ]
    },
    {
     "name": "stdout",
     "output_type": "stream",
     "text": [
      "epoch: 54, validation loss: 0.0032402009144425394, R^2: 0.006402134895324707\n",
      "EarlyStopping counter: 10 out of 30\n"
     ]
    },
    {
     "name": "stderr",
     "output_type": "stream",
     "text": [
      "113it [01:49,  1.03it/s]\n"
     ]
    },
    {
     "name": "stdout",
     "output_type": "stream",
     "text": [
      "epoch: 55, validation loss: 0.0032286748662590983, R^2: 0.0025429725646972656\n",
      "EarlyStopping counter: 11 out of 30\n"
     ]
    },
    {
     "name": "stderr",
     "output_type": "stream",
     "text": [
      "113it [01:52,  1.00it/s]\n"
     ]
    },
    {
     "name": "stdout",
     "output_type": "stream",
     "text": [
      "epoch: 56, validation loss: 0.0033197645097970963, R^2: -0.0015673637390136719\n",
      "EarlyStopping counter: 12 out of 30\n"
     ]
    },
    {
     "name": "stderr",
     "output_type": "stream",
     "text": [
      "113it [01:48,  1.04it/s]\n"
     ]
    },
    {
     "name": "stdout",
     "output_type": "stream",
     "text": [
      "epoch: 57, validation loss: 0.003286795262247324, R^2: -0.007788181304931641\n",
      "EarlyStopping counter: 13 out of 30\n"
     ]
    },
    {
     "name": "stderr",
     "output_type": "stream",
     "text": [
      "113it [01:50,  1.02it/s]\n"
     ]
    },
    {
     "name": "stdout",
     "output_type": "stream",
     "text": [
      "epoch: 58, validation loss: 0.0033140592370182274, R^2: -0.013729453086853027\n",
      "EarlyStopping counter: 14 out of 30\n"
     ]
    },
    {
     "name": "stderr",
     "output_type": "stream",
     "text": [
      "113it [02:08,  1.14s/it]\n"
     ]
    },
    {
     "name": "stdout",
     "output_type": "stream",
     "text": [
      "epoch: 59, validation loss: 0.003321602726355195, R^2: -0.018412470817565918\n",
      "EarlyStopping counter: 15 out of 30\n"
     ]
    },
    {
     "name": "stderr",
     "output_type": "stream",
     "text": [
      "34it [00:43,  1.28s/it]\n"
     ]
    },
    {
     "ename": "KeyboardInterrupt",
     "evalue": "",
     "output_type": "error",
     "traceback": [
      "\u001b[0;31m---------------------------------------------------------------------------\u001b[0m",
      "\u001b[0;31mKeyboardInterrupt\u001b[0m                         Traceback (most recent call last)",
      "Cell \u001b[0;32mIn[10], line 35\u001b[0m\n\u001b[1;32m     32\u001b[0m gnn_instance \u001b[39m=\u001b[39m garch\u001b[39m.\u001b[39mMyGnn(in_channels\u001b[39m=\u001b[39min_channels, out_channels\u001b[39m=\u001b[39m\u001b[39m1\u001b[39m, hidden_size\u001b[39m=\u001b[39mhidden_size_parameter, gat_layers\u001b[39m=\u001b[39mgat_layer_parameter, gcn_layers\u001b[39m=\u001b[39mgcn_layer_parameter, output_layer\u001b[39m=\u001b[39moutput_layer_parameter)\n\u001b[1;32m     33\u001b[0m model \u001b[39m=\u001b[39m gnn_instance\u001b[39m.\u001b[39mto(device)\n\u001b[0;32m---> 35\u001b[0m best_val_loss, best_epoch \u001b[39m=\u001b[39m train(model, config\u001b[39m=\u001b[39;49mconfig, \n\u001b[1;32m     36\u001b[0m                                 loss_fct\u001b[39m=\u001b[39;49mtorch\u001b[39m.\u001b[39;49mnn\u001b[39m.\u001b[39;49mMSELoss(), \n\u001b[1;32m     37\u001b[0m                                 optimizer\u001b[39m=\u001b[39;49mtorch\u001b[39m.\u001b[39;49moptim\u001b[39m.\u001b[39;49mAdam(model\u001b[39m.\u001b[39;49mparameters(), lr\u001b[39m=\u001b[39;49mlr),\n\u001b[1;32m     38\u001b[0m                                 train_dl\u001b[39m=\u001b[39;49mtrain_dl, valid_dl\u001b[39m=\u001b[39;49mvalid_dl,\n\u001b[1;32m     39\u001b[0m                                 device\u001b[39m=\u001b[39;49mdevice, early_stopping\u001b[39m=\u001b[39;49mearly_stopping)\n",
      "Cell \u001b[0;32mIn[9], line 25\u001b[0m, in \u001b[0;36mtrain\u001b[0;34m(model, config, loss_fct, optimizer, train_dl, valid_dl, device, early_stopping)\u001b[0m\n\u001b[1;32m     22\u001b[0m \u001b[39m# Backward pass\u001b[39;00m\n\u001b[1;32m     23\u001b[0m train_loss \u001b[39m=\u001b[39m loss_fct(filtered_predicted, filtered_actual)\n\u001b[0;32m---> 25\u001b[0m train_loss\u001b[39m.\u001b[39;49mbackward()\n\u001b[1;32m     26\u001b[0m optimizer\u001b[39m.\u001b[39mstep()\n\u001b[1;32m     28\u001b[0m wandb\u001b[39m.\u001b[39mlog({\u001b[39m\"\u001b[39m\u001b[39mtrain_loss\u001b[39m\u001b[39m\"\u001b[39m: train_loss\u001b[39m.\u001b[39mitem(), \u001b[39m\"\u001b[39m\u001b[39mepoch\u001b[39m\u001b[39m\"\u001b[39m: epoch, \u001b[39m\"\u001b[39m\u001b[39mstep\u001b[39m\u001b[39m\"\u001b[39m: idx})\n",
      "File \u001b[0;32m~/anaconda3/envs/ml_env/lib/python3.10/site-packages/torch/_tensor.py:525\u001b[0m, in \u001b[0;36mTensor.backward\u001b[0;34m(self, gradient, retain_graph, create_graph, inputs)\u001b[0m\n\u001b[1;32m    515\u001b[0m \u001b[39mif\u001b[39;00m has_torch_function_unary(\u001b[39mself\u001b[39m):\n\u001b[1;32m    516\u001b[0m     \u001b[39mreturn\u001b[39;00m handle_torch_function(\n\u001b[1;32m    517\u001b[0m         Tensor\u001b[39m.\u001b[39mbackward,\n\u001b[1;32m    518\u001b[0m         (\u001b[39mself\u001b[39m,),\n\u001b[0;32m   (...)\u001b[0m\n\u001b[1;32m    523\u001b[0m         inputs\u001b[39m=\u001b[39minputs,\n\u001b[1;32m    524\u001b[0m     )\n\u001b[0;32m--> 525\u001b[0m torch\u001b[39m.\u001b[39;49mautograd\u001b[39m.\u001b[39;49mbackward(\n\u001b[1;32m    526\u001b[0m     \u001b[39mself\u001b[39;49m, gradient, retain_graph, create_graph, inputs\u001b[39m=\u001b[39;49minputs\n\u001b[1;32m    527\u001b[0m )\n",
      "File \u001b[0;32m~/anaconda3/envs/ml_env/lib/python3.10/site-packages/torch/autograd/__init__.py:267\u001b[0m, in \u001b[0;36mbackward\u001b[0;34m(tensors, grad_tensors, retain_graph, create_graph, grad_variables, inputs)\u001b[0m\n\u001b[1;32m    262\u001b[0m     retain_graph \u001b[39m=\u001b[39m create_graph\n\u001b[1;32m    264\u001b[0m \u001b[39m# The reason we repeat the same comment below is that\u001b[39;00m\n\u001b[1;32m    265\u001b[0m \u001b[39m# some Python versions print out the first line of a multi-line function\u001b[39;00m\n\u001b[1;32m    266\u001b[0m \u001b[39m# calls in the traceback and some print out the last line\u001b[39;00m\n\u001b[0;32m--> 267\u001b[0m _engine_run_backward(\n\u001b[1;32m    268\u001b[0m     tensors,\n\u001b[1;32m    269\u001b[0m     grad_tensors_,\n\u001b[1;32m    270\u001b[0m     retain_graph,\n\u001b[1;32m    271\u001b[0m     create_graph,\n\u001b[1;32m    272\u001b[0m     inputs,\n\u001b[1;32m    273\u001b[0m     allow_unreachable\u001b[39m=\u001b[39;49m\u001b[39mTrue\u001b[39;49;00m,\n\u001b[1;32m    274\u001b[0m     accumulate_grad\u001b[39m=\u001b[39;49m\u001b[39mTrue\u001b[39;49;00m,\n\u001b[1;32m    275\u001b[0m )\n",
      "File \u001b[0;32m~/anaconda3/envs/ml_env/lib/python3.10/site-packages/torch/autograd/graph.py:744\u001b[0m, in \u001b[0;36m_engine_run_backward\u001b[0;34m(t_outputs, *args, **kwargs)\u001b[0m\n\u001b[1;32m    742\u001b[0m     unregister_hooks \u001b[39m=\u001b[39m _register_logging_hooks_on_whole_graph(t_outputs)\n\u001b[1;32m    743\u001b[0m \u001b[39mtry\u001b[39;00m:\n\u001b[0;32m--> 744\u001b[0m     \u001b[39mreturn\u001b[39;00m Variable\u001b[39m.\u001b[39;49m_execution_engine\u001b[39m.\u001b[39;49mrun_backward(  \u001b[39m# Calls into the C++ engine to run the backward pass\u001b[39;49;00m\n\u001b[1;32m    745\u001b[0m         t_outputs, \u001b[39m*\u001b[39;49margs, \u001b[39m*\u001b[39;49m\u001b[39m*\u001b[39;49mkwargs\n\u001b[1;32m    746\u001b[0m     )  \u001b[39m# Calls into the C++ engine to run the backward pass\u001b[39;00m\n\u001b[1;32m    747\u001b[0m \u001b[39mfinally\u001b[39;00m:\n\u001b[1;32m    748\u001b[0m     \u001b[39mif\u001b[39;00m attach_logging_hooks:\n",
      "\u001b[0;31mKeyboardInterrupt\u001b[0m: "
     ]
    }
   ],
   "source": [
    "# Currently best architecture ! \n",
    "output_layer_parameter = 'gat'\n",
    "hidden_size_parameter = 16\n",
    "gat_layer_parameter = 0\n",
    "gcn_layer_parameter = 0\n",
    "lr = 0.001\n",
    "in_channels = len(indices_of_datasets_to_use) + 2 # dimensions of the x vector + 2 (pos)\n",
    "\n",
    "wandb.login()\n",
    "\n",
    "wandb.init(\n",
    "    project=project_name,\n",
    "    config={\n",
    "        \"epochs\": num_epochs,\n",
    "        \"batch_size\": batch_size,\n",
    "        \"lr\": lr,\n",
    "        \"early_stopping_patience\": 10,\n",
    "        \"hidden_layer_size\": hidden_size_parameter,\n",
    "        \"gat_layers\": gat_layer_parameter,\n",
    "        \"gcn_layers\": gcn_layer_parameter,\n",
    "        \"output_layer\": output_layer_parameter,\n",
    "        # \"dropout\": 0.15,\n",
    "    }\n",
    ")\n",
    "config = wandb.config\n",
    "\n",
    "print(\"output_layer: \", output_layer_parameter)\n",
    "print(\"hidden_size: \", hidden_size_parameter)\n",
    "print(\"gat_layers: \", gat_layer_parameter)\n",
    "print(\"gcn_layers: \", gcn_layer_parameter)\n",
    "\n",
    "gnn_instance = garch.MyGnn(in_channels=in_channels, out_channels=1, hidden_size=hidden_size_parameter, gat_layers=gat_layer_parameter, gcn_layers=gcn_layer_parameter, output_layer=output_layer_parameter)\n",
    "model = gnn_instance.to(device)\n",
    "\n",
    "best_val_loss, best_epoch = train(model, config=config, \n",
    "                                loss_fct=torch.nn.MSELoss(), \n",
    "                                optimizer=torch.optim.Adam(model.parameters(), lr=lr),\n",
    "                                train_dl=train_dl, valid_dl=valid_dl,\n",
    "                                device=device, early_stopping=early_stopping)"
   ]
  },
  {
   "cell_type": "code",
   "execution_count": null,
   "metadata": {},
   "outputs": [],
   "source": [
    "model_path = '../../data/trained_models/model_' + unique_model_description + '.pth'\n",
    "\n",
    "# Save the model state dictionary and configuration\n",
    "torch.save({\n",
    "    'state_dict': model.state_dict(),\n",
    "    'config': {\n",
    "        'in_channels': model.in_channels,\n",
    "        'out_channels': 1,\n",
    "        'hidden_size': model.hidden_size,\n",
    "        'gat_layers': model.gat_layers,\n",
    "        'gcn_layers': model.gcn_layers,\n",
    "        'output_layer': model.output_layer\n",
    "    }\n",
    "}, model_path)"
   ]
  }
 ],
 "metadata": {
  "kernelspec": {
   "display_name": "Paris_Analysis",
   "language": "python",
   "name": "python3"
  },
  "language_info": {
   "codemirror_mode": {
    "name": "ipython",
    "version": 3
   },
   "file_extension": ".py",
   "mimetype": "text/x-python",
   "name": "python",
   "nbconvert_exporter": "python",
   "pygments_lexer": "ipython3",
   "version": "3.10.14"
  },
  "orig_nbformat": 4
 },
 "nbformat": 4,
 "nbformat_minor": 2
}
