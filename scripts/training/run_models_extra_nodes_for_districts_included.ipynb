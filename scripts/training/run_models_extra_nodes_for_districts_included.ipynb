{
 "cells": [
  {
   "cell_type": "code",
   "execution_count": 1,
   "metadata": {},
   "outputs": [],
   "source": [
    "import math\n",
    "import numpy as np\n",
    "import wandb\n",
    "import random\n",
    "import torch\n",
    "import torch_geometric\n",
    "from torch_geometric.data import Data\n",
    "import sys\n",
    "import os\n",
    "from tqdm import tqdm\n",
    "import signal\n",
    "import joblib\n",
    "import argparse\n",
    "import json\n",
    "import os\n",
    "import subprocess\n",
    "from torch.utils.data import DataLoader, Dataset, Subset\n",
    "\n",
    "from sklearn.preprocessing import MinMaxScaler, StandardScaler, RobustScaler\n",
    "import help_functions as hf\n",
    "\n",
    "scripts_path = os.path.abspath(os.path.join('..'))\n",
    "if scripts_path not in sys.path:\n",
    "    sys.path.append(scripts_path)\n",
    "    \n",
    "import gnn_io as gio\n",
    "import gnn_architectures_district_features as garch\n",
    "import copy"
   ]
  },
  {
   "cell_type": "code",
   "execution_count": 2,
   "metadata": {},
   "outputs": [],
   "source": [
    "# Call this function during training without the scalars and with the directory path, and during the testing with the saved scalars and without a directory path to save.\n",
    "def normalize_dataset(dataset_input, directory_path):\n",
    "    dataset = copy_subset(dataset_input)\n",
    "    dataset = normalize_x_values(dataset, directory_path)\n",
    "    dataset = normalize_positional_features(dataset, directory_path)\n",
    "    dataset = normalize_mode_stats(dataset, directory_path)\n",
    "    return dataset\n",
    "        \n",
    "# Function to copy a Subset\n",
    "def copy_subset(subset):\n",
    "    return Subset(copy.deepcopy(subset.dataset), copy.deepcopy(subset.indices))\n",
    "\n",
    "def normalize_x_values(dataset, directory_path):\n",
    "    shape_of_x = dataset[0].x.shape[1]\n",
    "    list_of_scalers_to_save = []\n",
    "    x_values = torch.cat([data.x for data in dataset], dim=0)\n",
    "\n",
    "    for i in range(shape_of_x):\n",
    "        all_node_features = replace_invalid_values(x_values[:, i].reshape(-1, 1)).numpy()\n",
    "        \n",
    "        scaler = StandardScaler()\n",
    "        print(f\"Scaler created for x values at index {i}: {scaler}\")\n",
    "        scaler.fit(all_node_features)\n",
    "        list_of_scalers_to_save.append(scaler)\n",
    "\n",
    "        for data in dataset:\n",
    "            data_x_dim = replace_invalid_values(data.x[:, i].reshape(-1, 1))\n",
    "            normalized_x_dim = torch.tensor(scaler.transform(data_x_dim.numpy()), dtype=torch.float)\n",
    "            if i == 0:\n",
    "                data.normalized_x = normalized_x_dim\n",
    "            else:\n",
    "                data.normalized_x = torch.cat((data.normalized_x, normalized_x_dim), dim=1)\n",
    "\n",
    "    joblib.dump(list_of_scalers_to_save, (directory_path + 'x_scaler.pkl'))\n",
    "    for data in dataset:\n",
    "        data.x = data.normalized_x\n",
    "        del data.normalized_x\n",
    "    return dataset\n",
    "\n",
    "def normalize_positional_features(dataset, directory_path):\n",
    "    # Initialize 6 StandardScalers for 3 sets of 2 dimensions\n",
    "    scalers = [[StandardScaler() for _ in range(2)] for _ in range(3)]\n",
    "\n",
    "    # Standardize the data\n",
    "    for i in range(3):  # Iterate over the second dimension (3 sets)\n",
    "        for j in range(2):  # Iterate over the third dimension (2D vectors)\n",
    "            values = np.vstack([data.pos[:, i, j].numpy() for data in dataset]).reshape(-1, 1)\n",
    "            # Fit the corresponding scaler on the extracted values\n",
    "            scalers[i][j].fit(values)\n",
    "            for data in dataset:\n",
    "                transformed = scalers[i][j].transform(data.pos[:, i, j].numpy().reshape(-1, 1)).flatten()\n",
    "                # Convert the transformed NumPy array back into a torch tensor\n",
    "                data.pos[:, i, j] = torch.tensor(transformed, dtype=torch.float32)\n",
    "    # Save the scalers using joblib\n",
    "    for i in range(3):\n",
    "        for j in range(2):\n",
    "            # Dump the scalers with meaningful names to differentiate them\n",
    "            scaler_path = directory_path + f'scaler_pos_{i}_{j}.pkl'\n",
    "            joblib.dump(scalers[i][j], scaler_path)\n",
    "\n",
    "    print(\"Postional scalers saved and dataset standardized.\")\n",
    "    return dataset\n",
    "\n",
    "def normalize_mode_stats(dataset, directory_path):\n",
    "    # Initialize 12 StandardScalers for 6 sets of 2 dimensions\n",
    "    scalers = [[StandardScaler() for _ in range(2)] for _ in range(6)]\n",
    "\n",
    "    # Standardize the data\n",
    "    for i in range(6):  # Iterate over the first dimension (6 sets)\n",
    "        for j in range(2):  # Iterate over the second dimension (2D vectors)\n",
    "            values = np.vstack([data.mode_stats[i, j].numpy().reshape(-1, 1) for data in dataset])\n",
    "            # Fit the corresponding scaler on the extracted values\n",
    "            scalers[i][j].fit(values)\n",
    "            for data in dataset:\n",
    "                transformed = scalers[i][j].transform(data.mode_stats[i, j].numpy().reshape(-1, 1)).flatten()\n",
    "                # Convert the transformed NumPy array back into a torch tensor\n",
    "                data.mode_stats[i, j] = torch.tensor(transformed, dtype=torch.float32)\n",
    "    \n",
    "    # Save the scalers using joblib\n",
    "    for i in range(6):\n",
    "        for j in range(2):\n",
    "            # Dump the scalers with meaningful names to differentiate them\n",
    "            scaler_path = directory_path + f'scaler_mode_stats_{i}_{j}.pkl'\n",
    "            joblib.dump(scalers[i][j], scaler_path)\n",
    "\n",
    "    print(\"Mode stats scalers saved and dataset standardized.\")\n",
    "    return dataset\n",
    "\n",
    "def replace_invalid_values(tensor):\n",
    "    tensor[tensor != tensor] = 0  # replace NaNs with 0\n",
    "    tensor[tensor == float('inf')] = 0  # replace inf with 0\n",
    "    tensor[tensor == float('-inf')] = 0  # replace -inf with 0\n",
    "    return tensor"
   ]
  },
  {
   "cell_type": "code",
   "execution_count": 3,
   "metadata": {},
   "outputs": [],
   "source": [
    "def seed_worker(worker_id):\n",
    "    worker_seed = torch.initial_seed() % 2**32\n",
    "    np.random.seed(worker_seed)\n",
    "    random.seed(worker_seed)\n",
    "\n",
    "def prepare_data_with_graph_features(data_dict_list, batch_size, path_to_save_dataloader):\n",
    "    datalist = [Data(x=d['x'], edge_index=d['edge_index'], pos=d['pos'], y=d['y'], mode_stats=d['mode_stats']) for d in data_dict_list]\n",
    "    train_set, valid_set, test_set = gio.split_into_subsets(dataset=datalist, train_ratio=0.8, val_ratio=0.15, test_ratio=0.05)\n",
    "    \n",
    "    train_set_normalized = normalize_dataset(dataset_input = train_set, directory_path=path_to_save_dataloader + \"train_\")\n",
    "    valid_set_normalized = normalize_dataset(dataset_input = valid_set, directory_path=path_to_save_dataloader + \"valid_\")\n",
    "    # test_set_normalized = normalize_dataset(dataset_input = test_set, directory_path=path_to_save_dataloader + \"test_\")\n",
    "        \n",
    "    train_loader = DataLoader(dataset=train_set_normalized, batch_size=batch_size, shuffle=True, num_workers=4, prefetch_factor=2, pin_memory=True, collate_fn=gio.collate_fn, worker_init_fn=seed_worker)\n",
    "    val_loader = DataLoader(dataset=valid_set_normalized, batch_size=batch_size, shuffle=True, num_workers=4, pin_memory=True, collate_fn=gio.collate_fn, worker_init_fn=seed_worker)\n",
    "    # test_loader = DataLoader(dataset=test_set_normalized, batch_size=batch_size, shuffle=True, num_workers=4, collate_fn=gio.collate_fn, worker_init_fn=seed_worker)\n",
    "    # gio.save_dataloader(test_loader, path_to_save_dataloader + 'test_dl.pt')\n",
    "    # gio.save_dataloader_params(test_loader, path_to_save_dataloader + 'test_loader_params.json')\n",
    "    \n",
    "    return train_loader, val_loader"
   ]
  },
  {
   "cell_type": "code",
   "execution_count": 4,
   "metadata": {},
   "outputs": [],
   "source": [
    "from torch_geometric.utils import to_undirected\n",
    "\n",
    "def prepare_data_with_graph_features(data_dict_list, batch_size, path_to_save_dataloader):\n",
    "    datalist = []\n",
    "    for d in data_dict_list:\n",
    "        # Convert edge_index to undirected\n",
    "        undirected_edge_index = to_undirected(d['edge_index'])\n",
    "        datalist.append(Data(x=d['x'], edge_index=undirected_edge_index, pos=d['pos'], y=d['y'], mode_stats=d['mode_stats']))\n",
    "    \n",
    "    train_set, valid_set, test_set = gio.split_into_subsets(dataset=datalist, train_ratio=0.8, val_ratio=0.15, test_ratio=0.05)\n",
    "    \n",
    "    # Rest of the function remains the same\n",
    "    train_set_normalized = normalize_dataset(dataset_input = train_set, directory_path=path_to_save_dataloader + \"train_\")\n",
    "    valid_set_normalized = normalize_dataset(dataset_input = valid_set, directory_path=path_to_save_dataloader + \"valid_\")\n",
    "    \n",
    "    train_loader = DataLoader(dataset=train_set_normalized, batch_size=batch_size, shuffle=True, num_workers=4, prefetch_factor=2, pin_memory=True, collate_fn=gio.collate_fn, worker_init_fn=seed_worker)\n",
    "    val_loader = DataLoader(dataset=valid_set_normalized, batch_size=batch_size, shuffle=True, num_workers=4, pin_memory=True, collate_fn=gio.collate_fn, worker_init_fn=seed_worker)\n",
    "    \n",
    "    return train_loader, val_loader"
   ]
  },
  {
   "cell_type": "code",
   "execution_count": 5,
   "metadata": {},
   "outputs": [
    {
     "name": "stdout",
     "output_type": "stream",
     "text": [
      "Loaded batch 1\n",
      "Loaded batch 2\n",
      "Loaded batch 3\n",
      "Successfully loaded 600 data points\n"
     ]
    }
   ],
   "source": [
    "# Set parameters here\n",
    "params = {\"project_name\": \"test\",\n",
    "            \"num_epochs\": 1000,\n",
    "            \"batch_size\": 8,\n",
    "            \"point_net_conv_layer_structure_local_mlp\": [64, 128],\n",
    "            \"point_net_conv_layer_structure_global_mlp\": [256, 64],\n",
    "            \"gat_conv_layer_structure\": [128, 256, 256, 128],\n",
    "            \"graph_mlp_layer_structure\": [128, 256, 128],\n",
    "            \"lr\": 0.001,\n",
    "            \"gradient_accumulation_steps\": 3,\n",
    "            \"in_channels\": 15,\n",
    "            \"out_channels\": 1,\n",
    "            \"early_stopping_patience\": 100,\n",
    "            \"unique_model_description\": \"my_test\",\n",
    "            \"dropout\": 0.3,\n",
    "            \"use_dropout\": False\n",
    "        } \n",
    "\n",
    "# Define the paths here\n",
    "def get_paths(base_dir: str, unique_model_description: str, model_save_path: str = 'trained_model/model.pth'):\n",
    "    data_path = os.path.join(base_dir, unique_model_description)\n",
    "    os.makedirs(data_path, exist_ok=True)\n",
    "    model_save_to = os.path.join(data_path, model_save_path)\n",
    "    path_to_save_dataloader = os.path.join(data_path, 'data_created_during_training/')\n",
    "    os.makedirs(os.path.dirname(model_save_to), exist_ok=True)\n",
    "    os.makedirs(path_to_save_dataloader, exist_ok=True)\n",
    "    return model_save_to, path_to_save_dataloader\n",
    "\n",
    "# def get_combined_data(dataset_path):\n",
    "#     data_dict_list = []\n",
    "#     batch_num = 1\n",
    "#     while True:\n",
    "#         try:\n",
    "#             batch_file = os.path.join(dataset_path, f'datalist_batch_{batch_num}.pt')\n",
    "#             batch_data = torch.load(batch_file)\n",
    "#             data_dict_list.extend(batch_data)\n",
    "#             batch_num += 1\n",
    "#         except FileNotFoundError:\n",
    "#             break\n",
    "\n",
    "#     return data_dict_list\n",
    "\n",
    "def get_combined_data(dataset_path, max_batches=None):\n",
    "    data_dict_list = []\n",
    "    batch_num = 1\n",
    "    while max_batches is None or batch_num <= max_batches:\n",
    "        try:\n",
    "            batch_file = os.path.join(dataset_path, f'datalist_batch_{batch_num}.pt')\n",
    "            batch_data = torch.load(batch_file, map_location='cpu')  # Load to CPU\n",
    "            data_dict_list.extend(batch_data)\n",
    "            batch_num += 1\n",
    "            print(f\"Loaded batch {batch_num-1}\")  # Print progress\n",
    "        except FileNotFoundError:\n",
    "            print(f\"Finished loading {batch_num-1} batches\")\n",
    "            break\n",
    "        except Exception as e:\n",
    "            print(f\"Error loading batch {batch_num}: {str(e)}\")\n",
    "            batch_num += 1  # Skip this batch and continue\n",
    "    \n",
    "    return data_dict_list\n",
    "\n",
    "# Usage\n",
    "try:\n",
    "    dataset_path = '../../data/train_data/sim_output_1pm_capacity_reduction_10k_with_batches_already_copied/'\n",
    "    data_dict_list = get_combined_data(dataset_path, max_batches=3)  # Limit to 10 batches for testing\n",
    "    print(f\"Successfully loaded {len(data_dict_list)} data points\")\n",
    "except Exception as e:\n",
    "    print(f\"An error occurred: {str(e)}\")"
   ]
  },
  {
   "cell_type": "code",
   "execution_count": 6,
   "metadata": {},
   "outputs": [
    {
     "name": "stdout",
     "output_type": "stream",
     "text": [
      "Total dataset length: 600\n",
      "Training subset length: 480\n",
      "Validation subset length: 90\n",
      "Test subset length: 30\n",
      "Scaler created for x values at index 0: StandardScaler()\n",
      "Scaler created for x values at index 1: StandardScaler()\n",
      "Scaler created for x values at index 2: StandardScaler()\n",
      "Scaler created for x values at index 3: StandardScaler()\n",
      "Scaler created for x values at index 4: StandardScaler()\n",
      "Scaler created for x values at index 5: StandardScaler()\n",
      "Scaler created for x values at index 6: StandardScaler()\n",
      "Scaler created for x values at index 7: StandardScaler()\n",
      "Scaler created for x values at index 8: StandardScaler()\n",
      "Scaler created for x values at index 9: StandardScaler()\n",
      "Scaler created for x values at index 10: StandardScaler()\n",
      "Scaler created for x values at index 11: StandardScaler()\n",
      "Scaler created for x values at index 12: StandardScaler()\n",
      "Scaler created for x values at index 13: StandardScaler()\n",
      "Scaler created for x values at index 14: StandardScaler()\n",
      "Postional scalers saved and dataset standardized.\n",
      "Mode stats scalers saved and dataset standardized.\n",
      "Scaler created for x values at index 0: StandardScaler()\n",
      "Scaler created for x values at index 1: StandardScaler()\n",
      "Scaler created for x values at index 2: StandardScaler()\n",
      "Scaler created for x values at index 3: StandardScaler()\n",
      "Scaler created for x values at index 4: StandardScaler()\n",
      "Scaler created for x values at index 5: StandardScaler()\n",
      "Scaler created for x values at index 6: StandardScaler()\n",
      "Scaler created for x values at index 7: StandardScaler()\n",
      "Scaler created for x values at index 8: StandardScaler()\n",
      "Scaler created for x values at index 9: StandardScaler()\n",
      "Scaler created for x values at index 10: StandardScaler()\n",
      "Scaler created for x values at index 11: StandardScaler()\n",
      "Scaler created for x values at index 12: StandardScaler()\n",
      "Scaler created for x values at index 13: StandardScaler()\n",
      "Scaler created for x values at index 14: StandardScaler()\n",
      "Postional scalers saved and dataset standardized.\n",
      "Mode stats scalers saved and dataset standardized.\n"
     ]
    }
   ],
   "source": [
    "# Create base directory for the run\n",
    "base_dir = '../../data/' + params['project_name'] + '/'\n",
    "unique_run_dir = os.path.join(base_dir, params['unique_model_description'])\n",
    "os.makedirs(unique_run_dir, exist_ok=True)\n",
    "dataset_path = '../../data/train_data/sim_output_1pm_capacity_reduction_10k_with_batches_already_copied/'\n",
    "# data_dict_list = get_combined_data(dataset_path)\n",
    "\n",
    "model_save_path, path_to_save_dataloader = get_paths(base_dir=base_dir, unique_model_description= params['unique_model_description'], model_save_path= 'trained_model/model.pth')\n",
    "\n",
    "train_dl, valid_dl = prepare_data_with_graph_features(data_dict_list=data_dict_list, batch_size= params['batch_size'], path_to_save_dataloader= path_to_save_dataloader)"
   ]
  },
  {
   "cell_type": "code",
   "execution_count": 7,
   "metadata": {},
   "outputs": [
    {
     "name": "stdout",
     "output_type": "stream",
     "text": [
      "Outgoing edges from node 0: [0, 1, 2, 3, 4, 5, 6, 7, 8, 9, 10, 11, 12, 1243, 1245, 1292, 1296, 1309, 1310, 1311, 1312, 1313, 1315, 1317, 1318, 1319, 1320, 1321, 1322, 1323, 1324, 1325, 1326, 1327, 1328, 1329, 1330, 1331, 1332, 1333, 1334, 1335, 1336, 1337, 1380, 1381, 1382, 1383, 1384, 1385, 1386, 1387, 1388, 1389, 1390, 1396, 1397, 1398, 1399, 1400, 1401, 1402, 1403, 1404, 1405, 1406, 1407, 1408, 1409, 1410, 1586, 1715, 1720, 1724, 1725, 1729, 1800, 1801, 1804, 1814, 1815, 1816, 1817, 1818, 1821, 1836, 1837, 1838, 1841, 1842, 1843, 1844, 1845, 1846, 1847, 1848, 1849, 1850, 1857, 1858, 1859, 1860, 1861, 1862, 1867, 1868, 1869, 1870, 1871, 1900, 1901, 1902, 1903, 1904, 2291, 2292, 2293, 2296, 2297, 2298, 2299, 2300, 2301, 3001, 3002, 3003, 4049, 4050, 4183, 4184, 4185, 4186, 4187, 4188, 4189, 4190, 4191, 4192, 4193, 4194, 4195, 4196, 4197, 4198, 4199, 4200, 4489, 4490, 4491, 4492, 4503, 4504, 4505, 4506, 4597, 4598, 5116, 5121, 5122, 5123, 5160, 5161, 5162, 5346, 5347, 5348, 5349, 5350, 5351, 5352, 5353, 5354, 5355, 5356, 5420, 5614, 5615, 5616, 5617, 5618, 5619, 5620, 5621, 5622, 5623, 5624, 5625, 5626, 5627, 5628, 5629, 5630, 5631, 5632, 5633, 5634, 5635, 5844, 5845, 5846, 5847, 5848, 5849, 5850, 5851, 5852, 5853, 5854, 5900, 6208, 6209, 6210, 6211, 6212, 6213, 6214, 6215, 6216, 6234, 6235, 6236, 6237, 6243, 6244, 6245, 6246, 6247, 6497, 6634, 6635, 6636, 6637, 6641, 6758, 6839, 6840, 6841, 6842, 6843, 6844, 6845, 6846, 6847, 7281, 7282, 7283, 7284, 7285, 7286, 7287, 7353, 7357, 7358, 7359, 7662, 7663, 7664, 7665, 7666, 7667, 7668, 7688, 8412, 8413, 8414, 8415, 8416, 8417, 8575, 8576, 9003, 9146, 9147, 9148, 9264, 9303, 9304, 9413, 9414, 9654, 9655, 9656, 9661, 9662, 9663, 10003, 10004, 10096, 10182, 10183, 10187, 10188, 10189, 10264, 10265, 10277, 10278, 10279, 10344, 10345, 10652, 10653, 10654, 10655, 11091, 11092, 11099, 11100, 11944, 11945, 12053, 12054, 12055, 12208, 12209, 12409, 12410, 12411, 12415, 12416, 12417, 12968, 12969, 12970, 12971, 13109, 13117, 13118, 13119, 13120, 13121, 13122, 13123, 13124, 13125, 13126, 13578, 13579, 13612, 13613, 13737, 14038, 14301, 14302, 14303, 14324, 14325, 14326, 14327, 14328, 14404, 14719, 14720, 14844, 14845, 14846, 14847, 14848, 14942, 14943, 14945, 14946, 16531, 16532, 16533, 16534, 16602, 16603, 16604, 16732, 16735, 17002, 17003, 17004, 17005, 17189, 17494, 17495, 17496, 17652, 17653, 17654, 17756, 17770, 17771, 17772, 17773, 17774, 17775, 17776, 17777, 17778, 17782, 17783, 17784, 17785, 17786, 17787, 17788, 17808, 17809, 17810, 17914, 17915, 17916, 18087, 18088, 18753, 18886, 18920, 18921, 18922, 18923, 18924, 19098, 19099, 19103, 19104, 19109, 19111, 19112, 19113, 19114, 19115, 19116, 19117, 19118, 19119, 19120, 19710, 19711, 19712, 19713, 19716, 19717, 19832, 19921, 20117, 20118, 20119, 20120, 20121, 20122, 20123, 20124, 20129, 20181, 20188, 20189, 20190, 20191, 20192, 20270, 20323, 20327, 20359, 20360, 20361, 20376, 20377, 20378, 20379, 20380, 20381, 20382, 20383, 20384, 20387, 20389, 20393, 20487, 20488, 20489, 20490, 20491, 20492, 20493, 20494, 20495, 20496, 20563, 20564, 20566, 20567, 20641, 20896, 20897, 20898, 20899, 20937, 21001, 21033, 21044, 21045, 21117, 21118, 21119, 21120, 21121, 21122, 21123, 21124, 21125, 21128, 21129, 21130, 21133, 21134, 21136, 21137, 21138, 21189, 21190, 21191, 21192, 21193, 21194, 21195, 21196, 21197, 21293, 21294, 21295, 21370, 21371, 21444, 21445, 21446, 21447, 21448, 21476, 21477, 21478, 21479, 21490, 21491, 21492, 21493, 21586, 21621, 21622, 21635, 21636, 21637, 21646, 21647, 21659, 21660, 21661, 21662, 21686, 21687, 21740, 21741, 21742, 21743, 21744, 21745, 21746, 21747, 21748, 21749, 21750, 21751, 21752, 21753, 21754, 21755, 21756, 21758, 21759, 21772, 21780, 21837, 21858, 21859, 21860, 21914, 21917, 21918, 21929, 21930, 21931, 21941, 21963, 21968, 21969, 21970, 21971, 22039, 22118, 22126, 22187, 22200, 22208, 22209, 22210, 22211, 22212, 22236, 22241, 22281, 22282, 22297, 22327, 22328, 22329, 22432, 22435, 22436, 22437, 22493, 22494, 22536, 22542, 22561, 22562, 22565, 22566, 22567, 22568, 22569, 22587, 22588, 22625, 22673, 22674, 22719, 22778, 22779, 22785, 22792, 22793, 22794, 22795, 22796, 22797, 22825, 22826, 22874, 22880, 22881, 22882, 22883, 22918, 22919, 22921, 22922, 22923, 22924, 22925, 22926, 22927, 22928, 22929, 22930, 22932, 23088, 23089, 23094, 23106, 23107, 23126, 23130, 23131, 23132, 23133, 23134, 23135, 23136, 23137, 23138, 23139, 23140, 23141, 23142, 23143, 23144, 23145, 23146, 23147, 23148, 23149, 23218, 23219, 23220, 23221, 23222, 23223, 23224, 23225, 23226, 23227, 23235, 23244, 23245, 23246, 23247, 23248, 23259, 23260, 23261, 23262, 23263, 23264, 23272, 23273, 23274, 23275, 23276, 23299, 23300, 23301, 23302, 23303, 23304, 23305, 23306, 23307, 23308, 23309, 23310, 23311, 23312, 23313, 23314, 23315, 23316, 23317, 23318, 23319, 23320, 23322, 23395, 23396, 23397, 23398, 23399, 23400, 23401, 23402, 23403, 23435, 23436, 23784, 23795, 23796, 23797, 23832, 23833, 23834, 23907, 23908, 23909, 23916, 23917, 23918, 23930, 24020, 24021, 24024, 24026, 24030, 24031, 24042, 24043, 24044, 24051, 24052, 24053, 24056, 24057, 24223, 24224, 24225, 24251, 24252, 24253, 24254, 24255, 24256, 24263, 24269, 24270, 24271, 24272, 24276, 24277, 24278, 24288, 24289, 24290, 24322, 24323, 24324, 24325, 24331, 24332, 24333, 24444, 24447, 24511, 24512, 24513, 24516, 24538, 24555, 24556, 24557, 24562, 24563, 24737, 24739, 24851, 24852, 24857, 24886, 24887, 24889, 24890, 24892, 24893, 24895, 24897, 24898, 24928, 24929, 24934, 24955, 24956, 24957, 24958, 24972, 24973, 24974, 24975, 24976, 25034, 25065, 25066, 25091, 25169, 25170, 25183, 25248, 25287, 25288]\n",
      "Incoming edges to node 0: [0, 1, 2, 3, 4, 5, 6, 7, 8, 9, 10, 11, 12, 1243, 1245, 1292, 1296, 1309, 1310, 1311, 1312, 1313, 1315, 1317, 1318, 1319, 1320, 1321, 1322, 1323, 1324, 1325, 1326, 1327, 1328, 1329, 1330, 1331, 1332, 1333, 1334, 1335, 1336, 1337, 1380, 1381, 1382, 1383, 1384, 1385, 1386, 1387, 1388, 1389, 1390, 1396, 1397, 1398, 1399, 1400, 1401, 1402, 1403, 1404, 1405, 1406, 1407, 1408, 1409, 1410, 1586, 1715, 1720, 1724, 1725, 1729, 1800, 1801, 1804, 1814, 1815, 1816, 1817, 1818, 1821, 1836, 1837, 1838, 1841, 1842, 1843, 1844, 1845, 1846, 1847, 1848, 1849, 1850, 1857, 1858, 1859, 1860, 1861, 1862, 1867, 1868, 1869, 1870, 1871, 1900, 1901, 1902, 1903, 1904, 2291, 2292, 2293, 2296, 2297, 2298, 2299, 2300, 2301, 3001, 3002, 3003, 4049, 4050, 4183, 4184, 4185, 4186, 4187, 4188, 4189, 4190, 4191, 4192, 4193, 4194, 4195, 4196, 4197, 4198, 4199, 4200, 4489, 4490, 4491, 4492, 4503, 4504, 4505, 4506, 4597, 4598, 5116, 5121, 5122, 5123, 5160, 5161, 5162, 5346, 5347, 5348, 5349, 5350, 5351, 5352, 5353, 5354, 5355, 5356, 5420, 5614, 5615, 5616, 5617, 5618, 5619, 5620, 5621, 5622, 5623, 5624, 5625, 5626, 5627, 5628, 5629, 5630, 5631, 5632, 5633, 5634, 5635, 5844, 5845, 5846, 5847, 5848, 5849, 5850, 5851, 5852, 5853, 5854, 5900, 6208, 6209, 6210, 6211, 6212, 6213, 6214, 6215, 6216, 6234, 6235, 6236, 6237, 6243, 6244, 6245, 6246, 6247, 6497, 6634, 6635, 6636, 6637, 6641, 6758, 6839, 6840, 6841, 6842, 6843, 6844, 6845, 6846, 6847, 7281, 7282, 7283, 7284, 7285, 7286, 7287, 7353, 7357, 7358, 7359, 7662, 7663, 7664, 7665, 7666, 7667, 7668, 7688, 8412, 8413, 8414, 8415, 8416, 8417, 8575, 8576, 9003, 9146, 9147, 9148, 9264, 9303, 9304, 9413, 9414, 9654, 9655, 9656, 9661, 9662, 9663, 10003, 10004, 10096, 10182, 10183, 10187, 10188, 10189, 10264, 10265, 10277, 10278, 10279, 10344, 10345, 10652, 10653, 10654, 10655, 11091, 11092, 11099, 11100, 11944, 11945, 12053, 12054, 12055, 12208, 12209, 12409, 12410, 12411, 12415, 12416, 12417, 12968, 12969, 12970, 12971, 13109, 13117, 13118, 13119, 13120, 13121, 13122, 13123, 13124, 13125, 13126, 13578, 13579, 13612, 13613, 13737, 14038, 14301, 14302, 14303, 14324, 14325, 14326, 14327, 14328, 14404, 14719, 14720, 14844, 14845, 14846, 14847, 14848, 14942, 14943, 14945, 14946, 16531, 16532, 16533, 16534, 16602, 16603, 16604, 16732, 16735, 17002, 17003, 17004, 17005, 17189, 17494, 17495, 17496, 17652, 17653, 17654, 17756, 17770, 17771, 17772, 17773, 17774, 17775, 17776, 17777, 17778, 17782, 17783, 17784, 17785, 17786, 17787, 17788, 17808, 17809, 17810, 17914, 17915, 17916, 18087, 18088, 18753, 18886, 18920, 18921, 18922, 18923, 18924, 19098, 19099, 19103, 19104, 19109, 19111, 19112, 19113, 19114, 19115, 19116, 19117, 19118, 19119, 19120, 19710, 19711, 19712, 19713, 19716, 19717, 19832, 19921, 20117, 20118, 20119, 20120, 20121, 20122, 20123, 20124, 20129, 20181, 20188, 20189, 20190, 20191, 20192, 20270, 20323, 20327, 20359, 20360, 20361, 20376, 20377, 20378, 20379, 20380, 20381, 20382, 20383, 20384, 20387, 20389, 20393, 20487, 20488, 20489, 20490, 20491, 20492, 20493, 20494, 20495, 20496, 20563, 20564, 20566, 20567, 20641, 20896, 20897, 20898, 20899, 20937, 21001, 21033, 21044, 21045, 21117, 21118, 21119, 21120, 21121, 21122, 21123, 21124, 21125, 21128, 21129, 21130, 21133, 21134, 21136, 21137, 21138, 21189, 21190, 21191, 21192, 21193, 21194, 21195, 21196, 21197, 21293, 21294, 21295, 21370, 21371, 21444, 21445, 21446, 21447, 21448, 21476, 21477, 21478, 21479, 21490, 21491, 21492, 21493, 21586, 21621, 21622, 21635, 21636, 21637, 21646, 21647, 21659, 21660, 21661, 21662, 21686, 21687, 21740, 21741, 21742, 21743, 21744, 21745, 21746, 21747, 21748, 21749, 21750, 21751, 21752, 21753, 21754, 21755, 21756, 21758, 21759, 21772, 21780, 21837, 21858, 21859, 21860, 21914, 21917, 21918, 21929, 21930, 21931, 21941, 21963, 21968, 21969, 21970, 21971, 22039, 22118, 22126, 22187, 22200, 22208, 22209, 22210, 22211, 22212, 22236, 22241, 22281, 22282, 22297, 22327, 22328, 22329, 22432, 22435, 22436, 22437, 22493, 22494, 22536, 22542, 22561, 22562, 22565, 22566, 22567, 22568, 22569, 22587, 22588, 22625, 22673, 22674, 22719, 22778, 22779, 22785, 22792, 22793, 22794, 22795, 22796, 22797, 22825, 22826, 22874, 22880, 22881, 22882, 22883, 22918, 22919, 22921, 22922, 22923, 22924, 22925, 22926, 22927, 22928, 22929, 22930, 22932, 23088, 23089, 23094, 23106, 23107, 23126, 23130, 23131, 23132, 23133, 23134, 23135, 23136, 23137, 23138, 23139, 23140, 23141, 23142, 23143, 23144, 23145, 23146, 23147, 23148, 23149, 23218, 23219, 23220, 23221, 23222, 23223, 23224, 23225, 23226, 23227, 23235, 23244, 23245, 23246, 23247, 23248, 23259, 23260, 23261, 23262, 23263, 23264, 23272, 23273, 23274, 23275, 23276, 23299, 23300, 23301, 23302, 23303, 23304, 23305, 23306, 23307, 23308, 23309, 23310, 23311, 23312, 23313, 23314, 23315, 23316, 23317, 23318, 23319, 23320, 23322, 23395, 23396, 23397, 23398, 23399, 23400, 23401, 23402, 23403, 23435, 23436, 23784, 23795, 23796, 23797, 23832, 23833, 23834, 23907, 23908, 23909, 23916, 23917, 23918, 23930, 24020, 24021, 24024, 24026, 24030, 24031, 24042, 24043, 24044, 24051, 24052, 24053, 24056, 24057, 24223, 24224, 24225, 24251, 24252, 24253, 24254, 24255, 24256, 24263, 24269, 24270, 24271, 24272, 24276, 24277, 24278, 24288, 24289, 24290, 24322, 24323, 24324, 24325, 24331, 24332, 24333, 24444, 24447, 24511, 24512, 24513, 24516, 24538, 24555, 24556, 24557, 24562, 24563, 24737, 24739, 24851, 24852, 24857, 24886, 24887, 24889, 24890, 24892, 24893, 24895, 24897, 24898, 24928, 24929, 24934, 24955, 24956, 24957, 24958, 24972, 24973, 24974, 24975, 24976, 25034, 25065, 25066, 25091, 25169, 25170, 25183, 25248, 25287, 25288]\n",
      "The graph is bidirectional\n"
     ]
    }
   ],
   "source": [
    "def check_directionality(data):\n",
    "    # Get all edges starting from node 0\n",
    "    outgoing = data.edge_index[1, data.edge_index[0] == 25318].tolist()\n",
    "    \n",
    "    # Get all edges ending at node 0\n",
    "    incoming = data.edge_index[0, data.edge_index[1] == 25318].tolist()\n",
    "    \n",
    "    # Check if all outgoing edges have a corresponding incoming edge\n",
    "    bidirectional = all(node in incoming for node in outgoing) and len(outgoing) == len(incoming)\n",
    "    \n",
    "    print(f\"Outgoing edges from node 0: {outgoing}\")\n",
    "    print(f\"Incoming edges to node 0: {incoming}\")\n",
    "    print(f\"The graph is {'bidirectional' if bidirectional else 'unidirectional'}\")\n",
    "    \n",
    "    return bidirectional\n",
    "\n",
    "# Use the function on your data object\n",
    "is_bidirectional = check_directionality(train_dl.dataset[0])"
   ]
  },
  {
   "cell_type": "code",
   "execution_count": 8,
   "metadata": {},
   "outputs": [
    {
     "data": {
      "text/plain": [
       "torch.Size([2, 117916])"
      ]
     },
     "execution_count": 8,
     "metadata": {},
     "output_type": "execute_result"
    }
   ],
   "source": [
    "train_dl.dataset[1].edge_index.shape"
   ]
  },
  {
   "cell_type": "code",
   "execution_count": 9,
   "metadata": {},
   "outputs": [
    {
     "name": "stdout",
     "output_type": "stream",
     "text": [
      "Is the graph undirected? True\n"
     ]
    }
   ],
   "source": [
    "from torch_geometric.utils import to_undirected, is_undirected\n",
    "\n",
    "# Assuming you're working with the first graph in your dataset\n",
    "data = train_dl.dataset[0]\n",
    "\n",
    "# Check if the graph is already undirected\n",
    "# if not is_undirected(data.edge_index):\n",
    "#     # If it's directed, convert it to undirected\n",
    "#     data.edge_index = to_undirected(data.edge_index)\n",
    "#     print(\"Graph has been converted to undirected.\")\n",
    "# else:\n",
    "#     print(\"Graph is already undirected.\")\n",
    "\n",
    "# Verify that the graph is now undirected\n",
    "print(f\"Is the graph undirected? {is_undirected(data.edge_index)}\")\n"
   ]
  },
  {
   "cell_type": "code",
   "execution_count": 10,
   "metadata": {},
   "outputs": [
    {
     "name": "stderr",
     "output_type": "stream",
     "text": [
      "/tmp/ipykernel_1686104/429466632.py:31: RuntimeWarning: divide by zero encountered in log\n",
      "  x_log = np.log(x)\n",
      "/tmp/ipykernel_1686104/429466632.py:37: RuntimeWarning: divide by zero encountered in log10\n",
      "  x_fit = np.logspace(np.log10(min(x)), np.log10(max(x)), 100)\n",
      "/opt/anaconda3/envs/chenhao-gnn/lib/python3.10/site-packages/numpy/core/function_base.py:158: RuntimeWarning: invalid value encountered in multiply\n",
      "  y *= step\n",
      "/opt/anaconda3/envs/chenhao-gnn/lib/python3.10/site-packages/numpy/core/function_base.py:168: RuntimeWarning: invalid value encountered in add\n",
      "  y += start\n"
     ]
    },
    {
     "data": {
      "image/png": "[encoded data removed]",
      "text/plain": [
       "<Figure size 1000x600 with 1 Axes>"
      ]
     },
     "metadata": {},
     "output_type": "display_data"
    },
    {
     "name": "stdout",
     "output_type": "stream",
     "text": [
      "Estimated power law exponent: γ ≈ 1.03\n",
      "The network may not be scale-free.\n"
     ]
    }
   ],
   "source": [
    "import networkx as nx\n",
    "import matplotlib.pyplot as plt\n",
    "import numpy as np\n",
    "from collections import Counter\n",
    "\n",
    "def check_scale_free_distribution(edge_index, num_nodes):\n",
    "    # Create a NetworkX graph from the edge_index\n",
    "    G = nx.Graph()\n",
    "    G.add_nodes_from(range(num_nodes))\n",
    "    edge_list = edge_index.t().tolist()\n",
    "    G.add_edges_from(edge_list)\n",
    "\n",
    "    # Calculate degree for each node\n",
    "    degrees = [d for n, d in G.degree()]\n",
    "    degree_counts = Counter(degrees)\n",
    "\n",
    "    # Sort the degree counts\n",
    "    sorted_degree_counts = sorted(degree_counts.items())\n",
    "    x = [k for k, v in sorted_degree_counts]\n",
    "    y = [v for k, v in sorted_degree_counts]\n",
    "\n",
    "    # Plot degree distribution on log-log scale\n",
    "    plt.figure(figsize=(10, 6))\n",
    "    plt.loglog(x, y, 'bo-')\n",
    "    plt.xlabel('Degree (log scale)')\n",
    "    plt.ylabel('Count (log scale)')\n",
    "    plt.title('Degree Distribution (Log-Log Scale)')\n",
    "    plt.grid(True)\n",
    "\n",
    "    # Fit a power law distribution\n",
    "    x_log = np.log(x)\n",
    "    y_log = np.log(y)\n",
    "    coeffs = np.polyfit(x_log[1:], y_log[1:], 1)\n",
    "    power_law_exponent = -coeffs[0]\n",
    "\n",
    "    # Plot the fitted line\n",
    "    x_fit = np.logspace(np.log10(min(x)), np.log10(max(x)), 100)\n",
    "    y_fit = np.exp(coeffs[1]) * x_fit**(-power_law_exponent)\n",
    "    plt.loglog(x_fit, y_fit, 'r--', label=f'Power Law Fit (γ ≈ {power_law_exponent:.2f})')\n",
    "\n",
    "    plt.legend()\n",
    "    plt.show()\n",
    "\n",
    "    print(f\"Estimated power law exponent: γ ≈ {power_law_exponent:.2f}\")\n",
    "    \n",
    "    if 2 < power_law_exponent < 3:\n",
    "        print(\"The network shows characteristics of a scale-free network.\")\n",
    "    else:\n",
    "        print(\"The network may not be scale-free.\")\n",
    "\n",
    "    return power_law_exponent\n",
    "\n",
    "# Usage example:\n",
    "# Assuming you have a PyTorch Geometric Data object called 'data'\n",
    "exponent = check_scale_free_distribution(data.edge_index, data.num_nodes)"
   ]
  },
  {
   "cell_type": "code",
   "execution_count": 11,
   "metadata": {},
   "outputs": [
    {
     "data": {
      "text/plain": [
       "torch.Size([2, 117916])"
      ]
     },
     "execution_count": 11,
     "metadata": {},
     "output_type": "execute_result"
    },
    {
     "ename": "",
     "evalue": "",
     "output_type": "error",
     "traceback": [
      "\u001b[1;31mThe Kernel crashed while executing code in the current cell or a previous cell. \n",
      "\u001b[1;31mPlease review the code in the cell(s) to identify a possible cause of the failure. \n",
      "\u001b[1;31mClick <a href='https://aka.ms/vscodeJupyterKernelCrash'>here</a> for more info. \n",
      "\u001b[1;31mView Jupyter <a href='command:jupyter.viewOutput'>log</a> for further details."
     ]
    }
   ],
   "source": [
    "data.edge_index.shape"
   ]
  },
  {
   "cell_type": "code",
   "execution_count": 12,
   "metadata": {},
   "outputs": [
    {
     "name": "stdout",
     "output_type": "stream",
     "text": [
      "Using GPU 0 with CUDA_VISIBLE_DEVICES=0\n"
     ]
    },
    {
     "name": "stderr",
     "output_type": "stream",
     "text": [
      "Failed to detect the name of this notebook, you can set it manually with the WANDB_NOTEBOOK_NAME environment variable to enable code saving.\n",
      "\u001b[34m\u001b[1mwandb\u001b[0m: Currently logged in as: \u001b[33menatterer\u001b[0m (\u001b[33mtum-traffic-engineering\u001b[0m). Use \u001b[1m`wandb login --relogin`\u001b[0m to force relogin\n"
     ]
    },
    {
     "data": {
      "text/html": [
       "wandb version 0.18.0 is available!  To upgrade, please run:\n",
       " $ pip install wandb --upgrade"
      ],
      "text/plain": [
       "<IPython.core.display.HTML object>"
      ]
     },
     "metadata": {},
     "output_type": "display_data"
    },
    {
     "data": {
      "text/html": [
       "Tracking run with wandb version 0.16.6"
      ],
      "text/plain": [
       "<IPython.core.display.HTML object>"
      ]
     },
     "metadata": {},
     "output_type": "display_data"
    },
    {
     "data": {
      "text/html": [
       "Run data is saved locally in <code>/home/enatterer/Development/gnn_predicting_effects_of_traffic_policies/scripts/training/wandb/run-20240915_102308-kibqc09w</code>"
      ],
      "text/plain": [
       "<IPython.core.display.HTML object>"
      ]
     },
     "metadata": {},
     "output_type": "display_data"
    },
    {
     "data": {
      "text/html": [
       "Syncing run <strong><a href='https://wandb.ai/tum-traffic-engineering/test/runs/kibqc09w' target=\"_blank\">azure-wildflower-48</a></strong> to <a href='https://wandb.ai/tum-traffic-engineering/test' target=\"_blank\">Weights & Biases</a> (<a href='https://wandb.me/run' target=\"_blank\">docs</a>)<br/>"
      ],
      "text/plain": [
       "<IPython.core.display.HTML object>"
      ]
     },
     "metadata": {},
     "output_type": "display_data"
    },
    {
     "data": {
      "text/html": [
       " View project at <a href='https://wandb.ai/tum-traffic-engineering/test' target=\"_blank\">https://wandb.ai/tum-traffic-engineering/test</a>"
      ],
      "text/plain": [
       "<IPython.core.display.HTML object>"
      ]
     },
     "metadata": {},
     "output_type": "display_data"
    },
    {
     "data": {
      "text/html": [
       " View run at <a href='https://wandb.ai/tum-traffic-engineering/test/runs/kibqc09w' target=\"_blank\">https://wandb.ai/tum-traffic-engineering/test/runs/kibqc09w</a>"
      ],
      "text/plain": [
       "<IPython.core.display.HTML object>"
      ]
     },
     "metadata": {},
     "output_type": "display_data"
    },
    {
     "name": "stdout",
     "output_type": "stream",
     "text": [
      "Model initialized\n",
      "baseline loss mean 53.85679626464844\n",
      "baseline loss no  54.41696548461914\n"
     ]
    },
    {
     "name": "stderr",
     "output_type": "stream",
     "text": [
      "Epoch 1/1000:   0%|          | 0/60 [00:00<?, ?it/s]/opt/anaconda3/envs/chenhao-gnn/lib/python3.10/site-packages/torch_geometric/warnings.py:11: UserWarning: The usage of `scatter(reduce='max')` can be accelerated via the 'torch-scatter' package, but it was not found\n",
      "  warnings.warn(message)\n",
      "/opt/anaconda3/envs/chenhao-gnn/lib/python3.10/site-packages/torch/nn/modules/loss.py:535: UserWarning: Using a target size (torch.Size([48, 2])) that is different to the input size (torch.Size([48, 1])). This will likely lead to incorrect results due to broadcasting. Please ensure they have the same size.\n",
      "  return F.mse_loss(input, target, reduction=self.reduction)\n",
      "Epoch 1/1000: 100%|██████████| 60/60 [00:13<00:00,  4.37it/s]\n",
      "/opt/anaconda3/envs/chenhao-gnn/lib/python3.10/site-packages/torch/nn/modules/loss.py:535: UserWarning: Using a target size (torch.Size([12, 2])) that is different to the input size (torch.Size([12, 1])). This will likely lead to incorrect results due to broadcasting. Please ensure they have the same size.\n",
      "  return F.mse_loss(input, target, reduction=self.reduction)\n"
     ]
    },
    {
     "name": "stdout",
     "output_type": "stream",
     "text": [
      "epoch: 0, validation loss: 58.57643221567074, lr: 2.95e-06, r^2: -0.022925972938537598\n",
      "Best model saved to ../../data/test/my_test/trained_model/model.pth with validation loss: 58.57643221567074\n",
      "Checkpoint saved to ../../data/test/my_test/trained_model/checkpoints/checkpoint_epoch_0.pt\n"
     ]
    },
    {
     "name": "stderr",
     "output_type": "stream",
     "text": [
      "Epoch 2/1000:   2%|▏         | 1/60 [00:07<07:15,  7.39s/it]"
     ]
    }
   ],
   "source": [
    "gpus = hf.get_available_gpus()\n",
    "best_gpu = hf.select_best_gpu(gpus)\n",
    "hf.set_cuda_visible_device(best_gpu)\n",
    "device = torch.device(\"cuda\" if torch.cuda.is_available() else \"cpu\")\n",
    "\n",
    "config = hf.setup_wandb(params['project_name'], {\n",
    "    \"epochs\": params['num_epochs'],\n",
    "    \"batch_size\": params['batch_size'],\n",
    "    \"lr\": params['lr'],\n",
    "    \"gradient_accumulation_steps\": params['gradient_accumulation_steps'],\n",
    "    \"early_stopping_patience\": params['early_stopping_patience'],\n",
    "    \"point_net_conv_local_mlp\": params['point_net_conv_layer_structure_local_mlp'],\n",
    "    \"point_net_conv_global_mlp\": params['point_net_conv_layer_structure_global_mlp'],\n",
    "    \"gat_conv_layer_structure\": params['gat_conv_layer_structure'],\n",
    "    \"graph_mlp_layer_structure\": params['graph_mlp_layer_structure'],\n",
    "    \"in_channels\": params['in_channels'],\n",
    "    \"out_channels\": params['out_channels'],\n",
    "    \"dropout\": params['dropout'],\n",
    "    \"use_dropout\": params['use_dropout']\n",
    "})\n",
    "\n",
    "model = garch.MyGnn(in_channels=config.in_channels, out_channels=config.out_channels, point_net_conv_layer_structure_local_mlp=config.point_net_conv_local_mlp,\n",
    "                            point_net_conv_layer_structure_global_mlp=config.point_net_conv_global_mlp,\n",
    "                            gat_conv_layer_structure=config.gat_conv_layer_structure,\n",
    "                            graph_mlp_layer_structure=config.graph_mlp_layer_structure,\n",
    "                            dropout=config.dropout, use_dropout=config.use_dropout)\n",
    "\n",
    "model.to(device)\n",
    "\n",
    "loss_fct = torch.nn.MSELoss()\n",
    "\n",
    "baseline_loss_mean_target = gio.compute_baseline_of_mean_target(dataset=train_dl, loss_fct=loss_fct)\n",
    "baseline_loss = gio.compute_baseline_of_no_policies(dataset=train_dl, loss_fct=loss_fct)\n",
    "print(\"baseline loss mean \" + str(baseline_loss_mean_target))\n",
    "print(\"baseline loss no  \" +str(baseline_loss) )\n",
    "\n",
    "early_stopping = gio.EarlyStopping(patience=params['early_stopping_patience'], verbose=True)\n",
    "best_val_loss, best_epoch = garch.train(model=model, \n",
    "            config=config, \n",
    "            loss_fct=loss_fct,\n",
    "            optimizer=torch.optim.AdamW(model.parameters(), lr=config.lr, weight_decay=1e-4),\n",
    "            train_dl=train_dl,  \n",
    "            valid_dl=valid_dl,\n",
    "            device=device, \n",
    "            early_stopping=early_stopping,\n",
    "            accumulation_steps=config.gradient_accumulation_steps,\n",
    "            model_save_path=model_save_path,\n",
    "            use_gradient_clipping=True,\n",
    "            lr_scheduler_warmup_steps=20000,\n",
    "            lr_scheduler_cosine_decay_rate=0.2)\n",
    "print(f'Best model saved to {model_save_path} with validation loss: {best_val_loss} at epoch {best_epoch}')  "
   ]
  },
  {
   "cell_type": "code",
   "execution_count": null,
   "metadata": {},
   "outputs": [],
   "source": []
  }
 ],
 "metadata": {
  "kernelspec": {
   "display_name": "chenhao-gnn",
   "language": "python",
   "name": "python3"
  },
  "language_info": {
   "codemirror_mode": {
    "name": "ipython",
    "version": 3
   },
   "file_extension": ".py",
   "mimetype": "text/x-python",
   "name": "python",
   "nbconvert_exporter": "python",
   "pygments_lexer": "ipython3",
   "version": "3.10.13"
  },
  "orig_nbformat": 4
 },
 "nbformat": 4,
 "nbformat_minor": 2
}
