{
 "cells": [
  {
   "cell_type": "code",
   "execution_count": 1,
   "metadata": {},
   "outputs": [],
   "source": [
    "import math\n",
    "import numpy as np\n",
    "import wandb\n",
    "\n",
    "import torch\n",
    "import torch_geometric\n",
    "from torch_geometric.data import Data\n",
    "\n",
    "from gnn_architectures import MyGnn\n",
    "\n",
    "import gnn_io as gio\n",
    "import gnn_architectures as garch\n",
    "\n",
    "import pprint"
   ]
  },
  {
   "attachments": {},
   "cell_type": "markdown",
   "metadata": {},
   "source": [
    "## 1. Define model and parameters"
   ]
  },
  {
   "cell_type": "code",
   "execution_count": 2,
   "metadata": {},
   "outputs": [
    {
     "name": "stderr",
     "output_type": "stream",
     "text": [
      "Failed to detect the name of this notebook, you can set it manually with the WANDB_NOTEBOOK_NAME environment variable to enable code saving.\n",
      "\u001b[34m\u001b[1mwandb\u001b[0m: Currently logged in as: \u001b[33menatterer\u001b[0m (\u001b[33mtum-traffic-engineering\u001b[0m). Use \u001b[1m`wandb login --relogin`\u001b[0m to force relogin\n"
     ]
    }
   ],
   "source": [
    "wandb.login()\n",
    "\n",
    "# Define parameters \n",
    "num_epochs = 1000\n",
    "project_name = 'test_feature_base_vol_car'\n",
    "train_ratio = 0.8\n",
    "\n",
    "device = torch.device('cuda' if torch.cuda.is_available() else 'cpu')\n",
    "\n",
    "early_stopping = gio.EarlyStopping(patience=10, verbose=True)\n",
    "torch.set_printoptions(precision=4, sci_mode=False)"
   ]
  },
  {
   "attachments": {},
   "cell_type": "markdown",
   "metadata": {},
   "source": [
    "## 2. Load data"
   ]
  },
  {
   "cell_type": "code",
   "execution_count": 3,
   "metadata": {},
   "outputs": [],
   "source": [
    "# Load the list of dictionaries\n",
    "data_dict_list = torch.load('../data/dataset_1pm_0-1400_more_features_.pt')\n",
    "\n",
    "# Reconstruct the Data objects\n",
    "datalist = [Data(x=d['x'], edge_index=d['edge_index'], pos=d['pos'], y=d['y'] - d['x'][:, 1]) for d in data_dict_list]"
   ]
  },
  {
   "cell_type": "code",
   "execution_count": null,
   "metadata": {},
   "outputs": [
    {
     "data": {
      "text/plain": [
       "Data(x=[31216, 6], edge_index=[2, 59135], y=[31216, 1], pos=[31216, 2])"
      ]
     },
     "execution_count": 4,
     "metadata": {},
     "output_type": "execute_result"
    }
   ],
   "source": [
    "datalist[0]"
   ]
  },
  {
   "cell_type": "code",
   "execution_count": null,
   "metadata": {},
   "outputs": [
    {
     "data": {
      "text/plain": [
       "tensor([[   480.0000,      7.3571,      4.0000,      8.3333,     16.1813,\n",
       "              4.0000],\n",
       "        [   240.0000,      9.2143,      3.0000,      8.3333,     14.8602,\n",
       "              5.0000],\n",
       "        [   480.0000,      1.5000,      3.0000,      8.3333,     14.8602,\n",
       "              5.0000],\n",
       "        ...,\n",
       "        [  7999.2002,      0.0000,     -1.0000,     12.0000,    699.8928,\n",
       "             14.0000],\n",
       "        [  7999.2002,      0.0000,     -1.0000,     20.0000,     20.0000,\n",
       "             15.0000],\n",
       "        [  7999.2002,      0.0000,     -1.0000,      6.0000,    611.8889,\n",
       "             16.0000]])"
      ]
     },
     "execution_count": 5,
     "metadata": {},
     "output_type": "execute_result"
    }
   ],
   "source": [
    "datalist[0].x"
   ]
  },
  {
   "cell_type": "code",
   "execution_count": null,
   "metadata": {},
   "outputs": [],
   "source": [
    "asdfs"
   ]
  },
  {
   "cell_type": "code",
   "execution_count": null,
   "metadata": {},
   "outputs": [],
   "source": [
    "datalist[0].y"
   ]
  },
  {
   "cell_type": "code",
   "execution_count": null,
   "metadata": {},
   "outputs": [],
   "source": [
    "asdfasa"
   ]
  },
  {
   "cell_type": "code",
   "execution_count": null,
   "metadata": {},
   "outputs": [],
   "source": [
    "\n",
    "dataset_only_relevant_dimensions = gio.cut_dimensions(dataset=datalist, indices_of_dimensions_to_keep=[0, 1, 2])\n",
    "dataset_normalized = gio.normalize_dataset(dataset_only_relevant_dimensions)"
   ]
  },
  {
   "cell_type": "code",
   "execution_count": null,
   "metadata": {},
   "outputs": [
    {
     "name": "stdout",
     "output_type": "stream",
     "text": [
      "Baseline error: 0.005564325489103794\n"
     ]
    }
   ],
   "source": [
    "baseline_error = gio.compute_baseline_error(dataset_normalized)\n",
    "print(f'Baseline error: {baseline_error}')"
   ]
  },
  {
   "attachments": {},
   "cell_type": "markdown",
   "metadata": {},
   "source": [
    "## 4. Train the model\n",
    "\n",
    "We first find a good model for one batch. "
   ]
  },
  {
   "cell_type": "code",
   "execution_count": null,
   "metadata": {},
   "outputs": [],
   "source": [
    "def train(model, config=None, loss_fct=None, optimizer=None, train_dl=None, valid_dl=None, device=None, early_stopping=None):\n",
    "    for epoch in range(config.epochs):\n",
    "        model.train()\n",
    "        for idx, data in enumerate(train_dl):\n",
    "            input_node_features, targets = data.x.to(device), data.y.to(device)\n",
    "            optimizer.zero_grad()\n",
    "\n",
    "            # Forward pass\n",
    "            predicted = model(data)\n",
    "            train_loss = loss_fct(predicted, targets)\n",
    "            \n",
    "            # Backward pass\n",
    "            train_loss.backward()\n",
    "            optimizer.step()\n",
    "            \n",
    "            wandb.log({\"train_loss\": train_loss.item(), \"epoch\": epoch, \"step\": idx})\n",
    "            # print(f\"epoch: {epoch}, step: {idx}, loss: {train_loss.item()}\")\n",
    "        \n",
    "        val_loss = garch.validate_model_pos_features(model, valid_dl, loss_fct, device)\n",
    "        print(f\"epoch: {epoch}, validation loss: {val_loss}\")\n",
    "        wandb.log({\"loss\": val_loss, \"epoch\": epoch})\n",
    "            \n",
    "        early_stopping(val_loss)\n",
    "        if early_stopping.early_stop:\n",
    "            print(\"Early stopping triggered. Stopping training.\")\n",
    "            break\n",
    "    \n",
    "    print(\"Best validation loss: \", val_loss)\n",
    "    wandb.summary[\"val_loss\"] = val_loss\n",
    "    wandb.finish()\n",
    "    return val_loss, epoch"
   ]
  },
  {
   "cell_type": "code",
   "execution_count": null,
   "metadata": {},
   "outputs": [
    {
     "name": "stderr",
     "output_type": "stream",
     "text": [
      "\u001b[34m\u001b[1mwandb\u001b[0m: \u001b[33mWARNING\u001b[0m Calling wandb.login() after wandb.init() has no effect.\n"
     ]
    },
    {
     "name": "stdout",
     "output_type": "stream",
     "text": [
      "Total dataset length: 1382\n",
      "Training subset length: 1104\n",
      "Total dataset length: 1382\n",
      "Validation subset length: 272\n"
     ]
    },
    {
     "data": {
      "text/html": [
       "Finishing last run (ID:k0xlc62a) before initializing another..."
      ],
      "text/plain": [
       "<IPython.core.display.HTML object>"
      ]
     },
     "metadata": {},
     "output_type": "display_data"
    },
    {
     "data": {
      "text/html": [
       " View run <strong style=\"color:#cdcd00\">sage-darkness-5</strong> at: <a href='https://wandb.ai/tum-traffic-engineering/test_feature_base_vol_car/runs/k0xlc62a' target=\"_blank\">https://wandb.ai/tum-traffic-engineering/test_feature_base_vol_car/runs/k0xlc62a</a><br/> View project at: <a href='https://wandb.ai/tum-traffic-engineering/test_feature_base_vol_car' target=\"_blank\">https://wandb.ai/tum-traffic-engineering/test_feature_base_vol_car</a><br/>Synced 6 W&B file(s), 0 media file(s), 0 artifact file(s) and 0 other file(s)"
      ],
      "text/plain": [
       "<IPython.core.display.HTML object>"
      ]
     },
     "metadata": {},
     "output_type": "display_data"
    },
    {
     "data": {
      "text/html": [
       "Find logs at: <code>./wandb/run-20240711_181235-k0xlc62a/logs</code>"
      ],
      "text/plain": [
       "<IPython.core.display.HTML object>"
      ]
     },
     "metadata": {},
     "output_type": "display_data"
    },
    {
     "data": {
      "text/html": [
       "The new W&B backend becomes opt-out in version 0.18.0; try it out with `wandb.require(\"core\")`! See https://wandb.me/wandb-core for more information."
      ],
      "text/plain": [
       "<IPython.core.display.HTML object>"
      ]
     },
     "metadata": {},
     "output_type": "display_data"
    },
    {
     "data": {
      "text/html": [
       "Successfully finished last run (ID:k0xlc62a). Initializing new run:<br/>"
      ],
      "text/plain": [
       "<IPython.core.display.HTML object>"
      ]
     },
     "metadata": {},
     "output_type": "display_data"
    },
    {
     "data": {
      "text/html": [
       "Tracking run with wandb version 0.17.4"
      ],
      "text/plain": [
       "<IPython.core.display.HTML object>"
      ]
     },
     "metadata": {},
     "output_type": "display_data"
    },
    {
     "data": {
      "text/html": [
       "Run data is saved locally in <code>/Users/elenanatterer/Development/GNNs/GNN_predicting_effects_of_traffic_policies/scripts/wandb/run-20240711_181252-z0ofz9l9</code>"
      ],
      "text/plain": [
       "<IPython.core.display.HTML object>"
      ]
     },
     "metadata": {},
     "output_type": "display_data"
    },
    {
     "data": {
      "text/html": [
       "Syncing run <strong><a href='https://wandb.ai/tum-traffic-engineering/test_feature_base_vol_car/runs/z0ofz9l9' target=\"_blank\">floral-hill-6</a></strong> to <a href='https://wandb.ai/tum-traffic-engineering/test_feature_base_vol_car' target=\"_blank\">Weights & Biases</a> (<a href='https://wandb.me/run' target=\"_blank\">docs</a>)<br/>"
      ],
      "text/plain": [
       "<IPython.core.display.HTML object>"
      ]
     },
     "metadata": {},
     "output_type": "display_data"
    },
    {
     "data": {
      "text/html": [
       " View project at <a href='https://wandb.ai/tum-traffic-engineering/test_feature_base_vol_car' target=\"_blank\">https://wandb.ai/tum-traffic-engineering/test_feature_base_vol_car</a>"
      ],
      "text/plain": [
       "<IPython.core.display.HTML object>"
      ]
     },
     "metadata": {},
     "output_type": "display_data"
    },
    {
     "data": {
      "text/html": [
       " View run at <a href='https://wandb.ai/tum-traffic-engineering/test_feature_base_vol_car/runs/z0ofz9l9' target=\"_blank\">https://wandb.ai/tum-traffic-engineering/test_feature_base_vol_car/runs/z0ofz9l9</a>"
      ],
      "text/plain": [
       "<IPython.core.display.HTML object>"
      ]
     },
     "metadata": {},
     "output_type": "display_data"
    },
    {
     "name": "stdout",
     "output_type": "stream",
     "text": [
      "output_layer:  gat\n",
      "hidden_size:  16\n",
      "gat_layers:  0\n",
      "gcn_layers:  0\n",
      "Model initialized\n",
      "MyGnn(\n",
      "  (pointLayer): PointNetConv(local_nn=Sequential(\n",
      "    (0): Linear(in_features=3, out_features=16, bias=True)\n",
      "    (1): ReLU()\n",
      "    (2): Linear(in_features=16, out_features=16, bias=True)\n",
      "  ), global_nn=Sequential(\n",
      "    (0): Linear(in_features=16, out_features=8, bias=True)\n",
      "    (1): ReLU()\n",
      "    (2): Linear(in_features=8, out_features=32, bias=True)\n",
      "    (3): ReLU()\n",
      "    (4): Linear(in_features=32, out_features=16, bias=True)\n",
      "  ))\n",
      "  (output_layer): GATConv(16, 1, heads=1)\n",
      ")\n",
      "epoch: 0, validation loss: 0.005555874805020935\n",
      "epoch: 1, validation loss: 0.005551782765370958\n",
      "epoch: 2, validation loss: 0.005550890366601593\n",
      "epoch: 3, validation loss: 0.005549537017941475\n",
      "epoch: 4, validation loss: 0.00554748865611413\n",
      "epoch: 5, validation loss: 0.005544354837826069\n",
      "epoch: 6, validation loss: 0.005535093683968572\n",
      "epoch: 7, validation loss: 0.005524919724420589\n",
      "epoch: 8, validation loss: 0.0055134037564344264\n",
      "epoch: 9, validation loss: 0.005542613374178901\n",
      "EarlyStopping counter: 1 out of 10\n",
      "epoch: 10, validation loss: 0.005486016243915348\n",
      "epoch: 11, validation loss: 0.005459041553823387\n",
      "epoch: 12, validation loss: 0.005416329402257414\n",
      "epoch: 13, validation loss: 0.00537641645025681\n",
      "epoch: 14, validation loss: 0.0053508846253594936\n",
      "epoch: 15, validation loss: 0.005329897298532373\n",
      "epoch: 16, validation loss: 0.005310325855937074\n",
      "epoch: 17, validation loss: 0.005298759870450287\n",
      "epoch: 18, validation loss: 0.005292041418964372\n",
      "epoch: 19, validation loss: 0.005280330886735636\n",
      "epoch: 20, validation loss: 0.005264294415931492\n",
      "epoch: 21, validation loss: 0.005242373328655958\n",
      "epoch: 22, validation loss: 0.005225569667185054\n",
      "epoch: 23, validation loss: 0.005218304200645755\n",
      "epoch: 24, validation loss: 0.00519717309404822\n",
      "epoch: 25, validation loss: 0.00518744471756851\n",
      "epoch: 26, validation loss: 0.005183799685362507\n",
      "epoch: 27, validation loss: 0.0051793419646427915\n",
      "epoch: 28, validation loss: 0.005161723341135418\n",
      "epoch: 29, validation loss: 0.005158491925719906\n",
      "epoch: 30, validation loss: 0.005149592234588721\n",
      "epoch: 31, validation loss: 0.005160697352360277\n",
      "EarlyStopping counter: 1 out of 10\n",
      "epoch: 32, validation loss: 0.0051455798778025546\n",
      "epoch: 33, validation loss: 0.005143500015358715\n",
      "epoch: 34, validation loss: 0.005135454292244771\n",
      "epoch: 35, validation loss: 0.005130576791570467\n",
      "epoch: 36, validation loss: 0.005127768936183523\n",
      "epoch: 37, validation loss: 0.005129016031894614\n",
      "EarlyStopping counter: 1 out of 10\n",
      "epoch: 38, validation loss: 0.0051343092859229625\n",
      "EarlyStopping counter: 2 out of 10\n",
      "epoch: 39, validation loss: 0.005118714289411026\n",
      "epoch: 40, validation loss: 0.005114072331172579\n",
      "epoch: 41, validation loss: 0.005114906220970785\n",
      "EarlyStopping counter: 1 out of 10\n",
      "epoch: 42, validation loss: 0.0051208713146693565\n",
      "EarlyStopping counter: 2 out of 10\n",
      "epoch: 43, validation loss: 0.005109977524946718\n",
      "epoch: 44, validation loss: 0.005110822481048458\n",
      "EarlyStopping counter: 1 out of 10\n",
      "epoch: 45, validation loss: 0.005110373939661419\n",
      "EarlyStopping counter: 2 out of 10\n",
      "epoch: 46, validation loss: 0.00511963980491547\n",
      "EarlyStopping counter: 3 out of 10\n",
      "epoch: 47, validation loss: 0.005099764093756676\n",
      "epoch: 48, validation loss: 0.0051007762496524\n",
      "EarlyStopping counter: 1 out of 10\n",
      "epoch: 49, validation loss: 0.005102514508454239\n",
      "EarlyStopping counter: 2 out of 10\n",
      "epoch: 50, validation loss: 0.005103991284747334\n",
      "EarlyStopping counter: 3 out of 10\n",
      "epoch: 51, validation loss: 0.005096816019538571\n",
      "epoch: 52, validation loss: 0.005093526533421348\n",
      "epoch: 53, validation loss: 0.0051029399585197956\n",
      "EarlyStopping counter: 1 out of 10\n",
      "epoch: 54, validation loss: 0.005116876872146831\n",
      "EarlyStopping counter: 2 out of 10\n",
      "epoch: 55, validation loss: 0.0050994209287797704\n",
      "EarlyStopping counter: 3 out of 10\n",
      "epoch: 56, validation loss: 0.005088561269290307\n",
      "epoch: 57, validation loss: 0.005088728085598525\n",
      "EarlyStopping counter: 1 out of 10\n",
      "epoch: 58, validation loss: 0.005106299622532199\n",
      "EarlyStopping counter: 2 out of 10\n",
      "epoch: 59, validation loss: 0.0051051922799909815\n",
      "EarlyStopping counter: 3 out of 10\n",
      "epoch: 60, validation loss: 0.005081338040968951\n",
      "epoch: 61, validation loss: 0.0050776189412264265\n",
      "epoch: 62, validation loss: 0.005073987769291681\n",
      "epoch: 63, validation loss: 0.005070833379731458\n",
      "epoch: 64, validation loss: 0.005067526883281329\n"
     ]
    },
    {
     "ename": "KeyboardInterrupt",
     "evalue": "",
     "output_type": "error",
     "traceback": [
      "\u001b[0;31m---------------------------------------------------------------------------\u001b[0m",
      "\u001b[0;31mKeyboardInterrupt\u001b[0m                         Traceback (most recent call last)",
      "Cell \u001b[0;32mIn[28], line 39\u001b[0m\n\u001b[1;32m     36\u001b[0m gnn_instance \u001b[39m=\u001b[39m MyGnn(in_channels\u001b[39m=\u001b[39m\u001b[39m3\u001b[39m, out_channels\u001b[39m=\u001b[39m\u001b[39m1\u001b[39m, hidden_size\u001b[39m=\u001b[39mhidden_size_parameter, gat_layers\u001b[39m=\u001b[39mgat_layer_parameter, gcn_layers\u001b[39m=\u001b[39mgcn_layer_parameter, output_layer\u001b[39m=\u001b[39moutput_layer_parameter)\n\u001b[1;32m     37\u001b[0m model \u001b[39m=\u001b[39m gnn_instance\u001b[39m.\u001b[39mto(device)\n\u001b[0;32m---> 39\u001b[0m best_val_loss, best_epoch \u001b[39m=\u001b[39m train(model, config\u001b[39m=\u001b[39;49mconfig, \n\u001b[1;32m     40\u001b[0m                                 loss_fct\u001b[39m=\u001b[39;49mtorch\u001b[39m.\u001b[39;49mnn\u001b[39m.\u001b[39;49mMSELoss(), \n\u001b[1;32m     41\u001b[0m                                 optimizer\u001b[39m=\u001b[39;49mtorch\u001b[39m.\u001b[39;49moptim\u001b[39m.\u001b[39;49mAdam(model\u001b[39m.\u001b[39;49mparameters(), lr\u001b[39m=\u001b[39;49mlr),\n\u001b[1;32m     42\u001b[0m                                 train_dl\u001b[39m=\u001b[39;49mtrain_dl, valid_dl\u001b[39m=\u001b[39;49mvalid_dl,\n\u001b[1;32m     43\u001b[0m                                 device\u001b[39m=\u001b[39;49mdevice, early_stopping\u001b[39m=\u001b[39;49mearly_stopping)\n",
      "Cell \u001b[0;32mIn[26], line 13\u001b[0m, in \u001b[0;36mtrain\u001b[0;34m(model, config, loss_fct, optimizer, train_dl, valid_dl, device, early_stopping)\u001b[0m\n\u001b[1;32m     10\u001b[0m train_loss \u001b[39m=\u001b[39m loss_fct(predicted, targets)\n\u001b[1;32m     12\u001b[0m \u001b[39m# Backward pass\u001b[39;00m\n\u001b[0;32m---> 13\u001b[0m train_loss\u001b[39m.\u001b[39;49mbackward()\n\u001b[1;32m     14\u001b[0m optimizer\u001b[39m.\u001b[39mstep()\n\u001b[1;32m     16\u001b[0m wandb\u001b[39m.\u001b[39mlog({\u001b[39m\"\u001b[39m\u001b[39mtrain_loss\u001b[39m\u001b[39m\"\u001b[39m: train_loss\u001b[39m.\u001b[39mitem(), \u001b[39m\"\u001b[39m\u001b[39mepoch\u001b[39m\u001b[39m\"\u001b[39m: epoch, \u001b[39m\"\u001b[39m\u001b[39mstep\u001b[39m\u001b[39m\"\u001b[39m: idx})\n",
      "File \u001b[0;32m~/anaconda3/envs/ml_env/lib/python3.10/site-packages/torch/_tensor.py:525\u001b[0m, in \u001b[0;36mTensor.backward\u001b[0;34m(self, gradient, retain_graph, create_graph, inputs)\u001b[0m\n\u001b[1;32m    515\u001b[0m \u001b[39mif\u001b[39;00m has_torch_function_unary(\u001b[39mself\u001b[39m):\n\u001b[1;32m    516\u001b[0m     \u001b[39mreturn\u001b[39;00m handle_torch_function(\n\u001b[1;32m    517\u001b[0m         Tensor\u001b[39m.\u001b[39mbackward,\n\u001b[1;32m    518\u001b[0m         (\u001b[39mself\u001b[39m,),\n\u001b[0;32m   (...)\u001b[0m\n\u001b[1;32m    523\u001b[0m         inputs\u001b[39m=\u001b[39minputs,\n\u001b[1;32m    524\u001b[0m     )\n\u001b[0;32m--> 525\u001b[0m torch\u001b[39m.\u001b[39;49mautograd\u001b[39m.\u001b[39;49mbackward(\n\u001b[1;32m    526\u001b[0m     \u001b[39mself\u001b[39;49m, gradient, retain_graph, create_graph, inputs\u001b[39m=\u001b[39;49minputs\n\u001b[1;32m    527\u001b[0m )\n",
      "File \u001b[0;32m~/anaconda3/envs/ml_env/lib/python3.10/site-packages/torch/autograd/__init__.py:267\u001b[0m, in \u001b[0;36mbackward\u001b[0;34m(tensors, grad_tensors, retain_graph, create_graph, grad_variables, inputs)\u001b[0m\n\u001b[1;32m    262\u001b[0m     retain_graph \u001b[39m=\u001b[39m create_graph\n\u001b[1;32m    264\u001b[0m \u001b[39m# The reason we repeat the same comment below is that\u001b[39;00m\n\u001b[1;32m    265\u001b[0m \u001b[39m# some Python versions print out the first line of a multi-line function\u001b[39;00m\n\u001b[1;32m    266\u001b[0m \u001b[39m# calls in the traceback and some print out the last line\u001b[39;00m\n\u001b[0;32m--> 267\u001b[0m _engine_run_backward(\n\u001b[1;32m    268\u001b[0m     tensors,\n\u001b[1;32m    269\u001b[0m     grad_tensors_,\n\u001b[1;32m    270\u001b[0m     retain_graph,\n\u001b[1;32m    271\u001b[0m     create_graph,\n\u001b[1;32m    272\u001b[0m     inputs,\n\u001b[1;32m    273\u001b[0m     allow_unreachable\u001b[39m=\u001b[39;49m\u001b[39mTrue\u001b[39;49;00m,\n\u001b[1;32m    274\u001b[0m     accumulate_grad\u001b[39m=\u001b[39;49m\u001b[39mTrue\u001b[39;49;00m,\n\u001b[1;32m    275\u001b[0m )\n",
      "File \u001b[0;32m~/anaconda3/envs/ml_env/lib/python3.10/site-packages/torch/autograd/graph.py:744\u001b[0m, in \u001b[0;36m_engine_run_backward\u001b[0;34m(t_outputs, *args, **kwargs)\u001b[0m\n\u001b[1;32m    742\u001b[0m     unregister_hooks \u001b[39m=\u001b[39m _register_logging_hooks_on_whole_graph(t_outputs)\n\u001b[1;32m    743\u001b[0m \u001b[39mtry\u001b[39;00m:\n\u001b[0;32m--> 744\u001b[0m     \u001b[39mreturn\u001b[39;00m Variable\u001b[39m.\u001b[39;49m_execution_engine\u001b[39m.\u001b[39;49mrun_backward(  \u001b[39m# Calls into the C++ engine to run the backward pass\u001b[39;49;00m\n\u001b[1;32m    745\u001b[0m         t_outputs, \u001b[39m*\u001b[39;49margs, \u001b[39m*\u001b[39;49m\u001b[39m*\u001b[39;49mkwargs\n\u001b[1;32m    746\u001b[0m     )  \u001b[39m# Calls into the C++ engine to run the backward pass\u001b[39;00m\n\u001b[1;32m    747\u001b[0m \u001b[39mfinally\u001b[39;00m:\n\u001b[1;32m    748\u001b[0m     \u001b[39mif\u001b[39;00m attach_logging_hooks:\n",
      "\u001b[0;31mKeyboardInterrupt\u001b[0m: "
     ]
    }
   ],
   "source": [
    "# Currently best architecture ! \n",
    "\n",
    "batch_size = 16\n",
    "output_layer_parameter = 'gat'\n",
    "hidden_size_parameter = 16\n",
    "gat_layer_parameter = 0\n",
    "gcn_layer_parameter = 0\n",
    "lr = 0.001\n",
    "\n",
    "wandb.login()\n",
    "\n",
    "train_dl = gio.create_dataloader(dataset=dataset_normalized, is_train=True, batch_size=batch_size, train_ratio=train_ratio)\n",
    "valid_dl = gio.create_dataloader(dataset=dataset_normalized, is_train=False, batch_size=batch_size, train_ratio=train_ratio)\n",
    "\n",
    "wandb.init(\n",
    "    project=project_name,\n",
    "    config={\n",
    "        \"epochs\": num_epochs,\n",
    "        \"batch_size\": batch_size,\n",
    "        \"lr\": lr,\n",
    "        \"early_stopping_patience\": 10,\n",
    "        \"hidden_layer_size\": hidden_size_parameter,\n",
    "        \"gat_layers\": gat_layer_parameter,\n",
    "        \"gcn_layers\": gcn_layer_parameter,\n",
    "        \"output_layer\": output_layer_parameter,\n",
    "        # \"dropout\": 0.15,\n",
    "    }\n",
    ")\n",
    "config = wandb.config\n",
    "\n",
    "print(\"output_layer: \", output_layer_parameter)\n",
    "print(\"hidden_size: \", hidden_size_parameter)\n",
    "print(\"gat_layers: \", gat_layer_parameter)\n",
    "print(\"gcn_layers: \", gcn_layer_parameter)\n",
    "\n",
    "gnn_instance = MyGnn(in_channels=3, out_channels=1, hidden_size=hidden_size_parameter, gat_layers=gat_layer_parameter, gcn_layers=gcn_layer_parameter, output_layer=output_layer_parameter)\n",
    "model = gnn_instance.to(device)\n",
    "\n",
    "best_val_loss, best_epoch = train(model, config=config, \n",
    "                                loss_fct=torch.nn.MSELoss(), \n",
    "                                optimizer=torch.optim.Adam(model.parameters(), lr=lr),\n",
    "                                train_dl=train_dl, valid_dl=valid_dl,\n",
    "                                device=device, early_stopping=early_stopping)"
   ]
  },
  {
   "cell_type": "code",
   "execution_count": null,
   "metadata": {},
   "outputs": [],
   "source": [
    "torch.save(model, '../data/trained_models/model_with_features_base_flow_and_highway_classification_target_is_difference.pth')"
   ]
  }
 ],
 "metadata": {
  "kernelspec": {
   "display_name": "Paris_Analysis",
   "language": "python",
   "name": "python3"
  },
  "language_info": {
   "codemirror_mode": {
    "name": "ipython",
    "version": 3
   },
   "file_extension": ".py",
   "mimetype": "text/x-python",
   "name": "python",
   "nbconvert_exporter": "python",
   "pygments_lexer": "ipython3",
   "version": "3.10.14"
  },
  "orig_nbformat": 4
 },
 "nbformat": 4,
 "nbformat_minor": 2
}
