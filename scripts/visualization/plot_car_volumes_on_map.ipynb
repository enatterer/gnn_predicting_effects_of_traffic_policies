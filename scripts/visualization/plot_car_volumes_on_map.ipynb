{
 "cells": [
  {
   "cell_type": "code",
   "execution_count": 1,
   "metadata": {},
   "outputs": [
    {
     "name": "stderr",
     "output_type": "stream",
     "text": [
      "/Users/elenanatterer/anaconda3/envs/ml_env/lib/python3.10/site-packages/torchvision/io/image.py:13: UserWarning: Failed to load image Python extension: 'dlopen(/Users/elenanatterer/anaconda3/envs/ml_env/lib/python3.10/site-packages/torchvision/image.so, 0x0006): Symbol not found: __ZN3c1017RegisterOperatorsD1Ev\n",
      "  Referenced from: <5AA8DD3D-A2CC-31CA-8060-88B4E9C18B09> /Users/elenanatterer/anaconda3/envs/ml_env/lib/python3.10/site-packages/torchvision/image.so\n",
      "  Expected in:     <421678CD-1041-32CD-92EF-29D22242240C> /Users/elenanatterer/anaconda3/envs/ml_env/lib/libtorch_cpu.dylib'If you don't plan on using image functionality from `torchvision.io`, you can ignore this warning. Otherwise, there might be something wrong with your environment. Did you have `libjpeg` or `libpng` installed before building `torchvision` from source?\n",
      "  warn(\n"
     ]
    }
   ],
   "source": [
    "import geopandas as gpd\n",
    "import plot_functions as pf\n",
    "\n",
    "districts = gpd.read_file(\"../../data/visualisation/districts_paris.geojson\")\n",
    "gdf_basecase_mean = gpd.read_file(\"../../data/visualisation/gdf_pop_1pm_basecase_mean.geojson\")\n",
    "gdf_basecase_difference = gpd.read_file(\"../../data/visualisation/gdf_pop_1pm_difference.geojson\")\n",
    "gdf_model_output = gpd.read_file(\"../../data/visualisation/gdf_pop_1pm_model_output.geojson\")\n",
    "\n",
    "# Parameters to adapt\n",
    "districts_of_interest = [1, 2, 3, 4]\n",
    "is_for_1pm = True\n",
    "plot_in_percentage = True\n",
    "buffer = 0.0005 # this is default value, it can be adapted \n",
    "\n",
    "string_is_for_1pm = \"pop_1pm\" if is_for_1pm else \"pop_1pct\"\n",
    "string_district_of_interest = \"_\".join([str(d) for d in districts_of_interest])"
   ]
  },
  {
   "cell_type": "code",
   "execution_count": 2,
   "metadata": {},
   "outputs": [],
   "source": [
    "# pf.plot_simulation_output(gdf_basecase_difference, districts_of_interest=districts_of_interest, is_for_1pm = string_is_for_1pm, in_percentage = plot_in_percentage, districts=districts, do_save=False, buffer=buffer)"
   ]
  },
  {
   "cell_type": "code",
   "execution_count": 3,
   "metadata": {},
   "outputs": [],
   "source": [
    "# pf.plot_simulation_output_basecase(gdf_basecase_mean, districts_of_interest=districts_of_interest,  is_for_1pm = string_is_for_1pm, districts = districts, do_save=False)"
   ]
  },
  {
   "cell_type": "code",
   "execution_count": 4,
   "metadata": {},
   "outputs": [],
   "source": [
    "# pf.plot_just_zone(gdf_basecase_mean, districts_of_interest=districts_of_interest, districts = districts, is_for_1pm = string_is_for_1pm, do_save=False, buffer=buffer)"
   ]
  },
  {
   "cell_type": "code",
   "execution_count": 5,
   "metadata": {},
   "outputs": [
    {
     "ename": "TypeError",
     "evalue": "plot_model_output() got an unexpected keyword argument 'is_for_1pm'",
     "output_type": "error",
     "traceback": [
      "\u001b[0;31m---------------------------------------------------------------------------\u001b[0m",
      "\u001b[0;31mTypeError\u001b[0m                                 Traceback (most recent call last)",
      "Cell \u001b[0;32mIn[5], line 1\u001b[0m\n\u001b[0;32m----> 1\u001b[0m pf\u001b[39m.\u001b[39;49mplot_model_output(gdf\u001b[39m=\u001b[39;49mgdf_model_output, districts_of_interest\u001b[39m=\u001b[39;49mdistricts_of_interest, is_for_1pm \u001b[39m=\u001b[39;49m string_is_for_1pm, districts\u001b[39m=\u001b[39;49mdistricts, do_save\u001b[39m=\u001b[39;49m\u001b[39mFalse\u001b[39;49;00m)\n",
      "\u001b[0;31mTypeError\u001b[0m: plot_model_output() got an unexpected keyword argument 'is_for_1pm'"
     ]
    }
   ],
   "source": [
    "pf.plot_model_output(gdf=gdf_model_output, districts_of_interest=districts_of_interest, column_to_plot=\"og_vol_car_change_predicted\", districts=districts)"
   ]
  }
 ],
 "metadata": {
  "kernelspec": {
   "display_name": "Paris_Analysis",
   "language": "python",
   "name": "python3"
  },
  "language_info": {
   "codemirror_mode": {
    "name": "ipython",
    "version": 3
   },
   "file_extension": ".py",
   "mimetype": "text/x-python",
   "name": "python",
   "nbconvert_exporter": "python",
   "pygments_lexer": "ipython3",
   "version": "3.10.14"
  },
  "orig_nbformat": 4
 },
 "nbformat": 4,
 "nbformat_minor": 2
}
