{
 "cells": [
  {
   "cell_type": "code",
   "execution_count": 1,
   "metadata": {},
   "outputs": [],
   "source": [
    "import math\n",
    "import numpy as np\n",
    "import wandb\n",
    "\n",
    "import torch\n",
    "import torch_geometric\n",
    "from torch_geometric.data import Data\n",
    "\n",
    "from gnn_architectures import MyGnn\n",
    "\n",
    "import gnn_io as gio\n",
    "import gnn_architectures as garch\n",
    "\n",
    "import pprint"
   ]
  },
  {
   "attachments": {},
   "cell_type": "markdown",
   "metadata": {},
   "source": [
    "## 1. Define model and parameters"
   ]
  },
  {
   "cell_type": "code",
   "execution_count": 2,
   "metadata": {},
   "outputs": [
    {
     "name": "stderr",
     "output_type": "stream",
     "text": [
      "Failed to detect the name of this notebook, you can set it manually with the WANDB_NOTEBOOK_NAME environment variable to enable code saving.\n",
      "\u001b[34m\u001b[1mwandb\u001b[0m: Currently logged in as: \u001b[33menatterer\u001b[0m (\u001b[33mtum-traffic-engineering\u001b[0m). Use \u001b[1m`wandb login --relogin`\u001b[0m to force relogin\n"
     ]
    }
   ],
   "source": [
    "wandb.login()\n",
    "\n",
    "# Define parameters \n",
    "\n",
    "num_epochs = 1000\n",
    "project_name = 'finetuning'\n",
    "train_ratio = 0.8\n",
    "\n",
    "device = torch.device('cuda' if torch.cuda.is_available() else 'cpu')\n",
    "\n",
    "early_stopping = gio.EarlyStopping(patience=10, verbose=True)"
   ]
  },
  {
   "attachments": {},
   "cell_type": "markdown",
   "metadata": {},
   "source": [
    "## 2. Load data"
   ]
  },
  {
   "cell_type": "code",
   "execution_count": 3,
   "metadata": {},
   "outputs": [
    {
     "name": "stdout",
     "output_type": "stream",
     "text": [
      "Baseline error: 0.005565311759710312\n"
     ]
    }
   ],
   "source": [
    "# Load the list of dictionaries\n",
    "data_dict_list = torch.load('../data/dataset_1pm_0-1382.pt')\n",
    "# torch.load('../data/dataset_1pm_0-1382_with_more_infos.pt') if model_is_basic else \n",
    "\n",
    "# Reconstruct the Data objects\n",
    "datalist = [Data(x=d['x'], edge_index=d['edge_index'], pos=d['pos'], y=d['y']) for d in data_dict_list]\n",
    "\n",
    "# # Apply normalization to your dataset\n",
    "dataset_normalized = gio.normalize_dataset(datalist)\n",
    "\n",
    "baseline_error = gio.compute_baseline_error(datalist)\n",
    "print(f'Baseline error: {baseline_error}')"
   ]
  },
  {
   "attachments": {},
   "cell_type": "markdown",
   "metadata": {},
   "source": [
    "## 3. Split into train and test set"
   ]
  },
  {
   "cell_type": "code",
   "execution_count": 4,
   "metadata": {},
   "outputs": [],
   "source": [
    "# n_steps_per_epoch = math.ceil(len(train_dl.dataset) / config.batch_size)"
   ]
  },
  {
   "attachments": {},
   "cell_type": "markdown",
   "metadata": {},
   "source": [
    "## 4. Train the model\n",
    "\n",
    "We first find a good model for one batch. "
   ]
  },
  {
   "cell_type": "code",
   "execution_count": 5,
   "metadata": {},
   "outputs": [],
   "source": [
    "def train(model, config=None, loss_fct=None, optimizer=None, train_dl=None, valid_dl=None):\n",
    "    for epoch in range(config.epochs):\n",
    "        model.train()\n",
    "        for idx, data in enumerate(train_dl):\n",
    "            input_node_features, targets = data.x.to(device), data.y.to(device)\n",
    "            optimizer.zero_grad()\n",
    "\n",
    "            # Forward pass\n",
    "            predicted = model(data)\n",
    "            train_loss = loss_fct(predicted, targets)\n",
    "            \n",
    "            # Backward pass\n",
    "            train_loss.backward()\n",
    "            optimizer.step()\n",
    "            \n",
    "            wandb.log({\"train_loss\": train_loss.item(), \"epoch\": epoch, \"step\": idx})\n",
    "            # print(f\"epoch: {epoch}, step: {idx}, loss: {train_loss.item()}\")\n",
    "        \n",
    "        val_loss = garch.validate_model_pos_features(model, valid_dl, loss_fct, device)\n",
    "        print(f\"epoch: {epoch}, validation loss: {val_loss}\")\n",
    "        wandb.log({\"loss\": val_loss, \"epoch\": epoch})\n",
    "            \n",
    "        early_stopping(val_loss)\n",
    "        if early_stopping.early_stop:\n",
    "            print(\"Early stopping triggered. Stopping training.\")\n",
    "            break\n",
    "    \n",
    "    print(\"Best validation loss: \", val_loss)\n",
    "    wandb.summary[\"val_loss\"] = val_loss\n",
    "    wandb.finish()"
   ]
  },
  {
   "cell_type": "code",
   "execution_count": 6,
   "metadata": {},
   "outputs": [],
   "source": [
    "# import itertools\n",
    "\n",
    "# batch_size_range = [16, 24, 32]\n",
    "# output_layer_range = ['gat', 'gcn']\n",
    "\n",
    "# hidden_size_range = [16, 32, 64]\n",
    "# gat_layers_range = [0, 1, 2, 3]\n",
    "# gcn_layers_range = [0, 1, 2, 3]\n",
    "# lr_range = [0.001, 0.0001]\n",
    "\n",
    "\n",
    "# for batch_size in batch_size_range:\n",
    "#     for lr in lr_range:\n",
    "#         for output_layer_parameter in output_layer_range:\n",
    "#             for hidden_size_parameter in hidden_size_range:\n",
    "#                 for gat_layer_parameter in gat_layers_range:\n",
    "#                     for gcn_layer_parameter in gcn_layers_range:\n",
    "#                         train_dl = gio.create_dataloader(dataset=dataset_normalized, is_train=True, batch_size=batch_size, train_ratio=train_ratio)\n",
    "#                         valid_dl = gio.create_dataloader(dataset=dataset_normalized, is_train=False, batch_size=batch_size, train_ratio=train_ratio)\n",
    "#                         wandb.init(\n",
    "#                                 project=project_name,\n",
    "#                                 config={\n",
    "#                                     \"epochs\": num_epochs,\n",
    "#                                     \"batch_size\": batch_size,\n",
    "#                                     \"lr\": lr,\n",
    "#                                     'early_stopping_patience': 10,\n",
    "#                                     # \"dropout\": 0.15,\n",
    "#                                     })\n",
    "#                         config = wandb.config\n",
    "                        \n",
    "#                         print(\"output_layer: \", output_layer_parameter)\n",
    "#                         print(\"hidden_size: \", hidden_size_parameter)\n",
    "#                         print(\"gat_layers: \", gat_layer_parameter)\n",
    "#                         print(\"gcn_layers: \", gcn_layer_parameter)\n",
    "#                         gnn_instance = MyGnn(in_channels=3, out_channels=1, hidden_size=hidden_size_parameter, gat_layers=gat_layer_parameter, gcn_layers=gcn_layer_parameter, output_layer=output_layer_parameter)\n",
    "#                         model = gnn_instance.to(device)\n",
    "#                         train(model, config=config, loss_fct=torch.nn.MSELoss(), optimizer=torch.optim.Adam(model.parameters(), lr=lr), train_dl = train_dl, valid_dl = valid_dl)"
   ]
  },
  {
   "cell_type": "code",
   "execution_count": 2,
   "metadata": {},
   "outputs": [],
   "source": [
    "import itertools\n",
    "\n",
    "batch_size_range = [16, 32]\n",
    "output_layer_range = ['gat', 'gcn']\n",
    "\n",
    "hidden_size_range = [16, 32, 64]\n",
    "gat_layers_range = [0, 1]\n",
    "gcn_layers_range = [0, 1]\n",
    "lr_range = [0.001, 0.0001]\n",
    "\n",
    "# Create a list to hold all configurations\n",
    "configurations = list(itertools.product(batch_size_range, lr_range, output_layer_range, hidden_size_range, gat_layers_range, gcn_layers_range))\n",
    "\n",
    "counter = 0\n",
    "# Open the text file for writing\n",
    "with open('model_performance.txt', 'w') as f:\n",
    "    for config in configurations:\n",
    "        counter +=1\n",
    "        print(f\"Configuration {counter}/{len(configurations)}\")\n",
    "        batch_size, lr, output_layer_parameter, hidden_size_parameter, gat_layer_parameter, gcn_layer_parameter = config\n",
    "\n",
    "        train_dl = gio.create_dataloader(dataset=dataset_normalized, is_train=True, batch_size=batch_size, train_ratio=train_ratio)\n",
    "        valid_dl = gio.create_dataloader(dataset=dataset_normalized, is_train=False, batch_size=batch_size, train_ratio=train_ratio)\n",
    "        \n",
    "        wandb.init(\n",
    "            project=project_name,\n",
    "            config={\n",
    "                \"epochs\": num_epochs,\n",
    "                \"batch_size\": batch_size,\n",
    "                \"lr\": lr,\n",
    "                'early_stopping_patience': 10,\n",
    "                # \"dropout\": 0.15,\n",
    "            }\n",
    "        )\n",
    "        config = wandb.config\n",
    "        \n",
    "        print(\"output_layer: \", output_layer_parameter)\n",
    "        print(\"hidden_size: \", hidden_size_parameter)\n",
    "        print(\"gat_layers: \", gat_layer_parameter)\n",
    "        print(\"gcn_layers: \", gcn_layer_parameter)\n",
    "        \n",
    "        gnn_instance = MyGnn(in_channels=3, out_channels=1, hidden_size=hidden_size_parameter, gat_layers=gat_layer_parameter, gcn_layers=gcn_layer_parameter, output_layer=output_layer_parameter)\n",
    "        model = gnn_instance.to(device)\n",
    "        \n",
    "        best_val_loss, best_epoch = train(model, config=config, loss_fct=torch.nn.MSELoss(), optimizer=torch.optim.Adam(model.parameters(), lr=lr), train_dl=train_dl, valid_dl=valid_dl)\n",
    "        \n",
    "        # Write the configuration and the best loss to the text file\n",
    "        f.write(f\"Configuration: batch_size={batch_size}, lr={lr}, output_layer={output_layer_parameter}, hidden_size={hidden_size_parameter}, gat_layers={gat_layer_parameter}, gcn_layers={gcn_layer_parameter}\\n\")\n",
    "        f.write(f\"Best Validation Loss: {best_val_loss}, Best Epoch: {best_epoch}\\n\\n\")"
   ]
  },
  {
   "cell_type": "code",
   "execution_count": 3,
   "metadata": {},
   "outputs": [
    {
     "data": {
      "text/plain": [
       "[(16, 0.001, 'gat', 16, 0, 0),\n",
       " (16, 0.001, 'gat', 16, 0, 1),\n",
       " (16, 0.001, 'gat', 16, 1, 0),\n",
       " (16, 0.001, 'gat', 16, 1, 1),\n",
       " (16, 0.001, 'gat', 32, 0, 0),\n",
       " (16, 0.001, 'gat', 32, 0, 1),\n",
       " (16, 0.001, 'gat', 32, 1, 0),\n",
       " (16, 0.001, 'gat', 32, 1, 1),\n",
       " (16, 0.001, 'gat', 64, 0, 0),\n",
       " (16, 0.001, 'gat', 64, 0, 1),\n",
       " (16, 0.001, 'gat', 64, 1, 0),\n",
       " (16, 0.001, 'gat', 64, 1, 1),\n",
       " (16, 0.001, 'gcn', 16, 0, 0),\n",
       " (16, 0.001, 'gcn', 16, 0, 1),\n",
       " (16, 0.001, 'gcn', 16, 1, 0),\n",
       " (16, 0.001, 'gcn', 16, 1, 1),\n",
       " (16, 0.001, 'gcn', 32, 0, 0),\n",
       " (16, 0.001, 'gcn', 32, 0, 1),\n",
       " (16, 0.001, 'gcn', 32, 1, 0),\n",
       " (16, 0.001, 'gcn', 32, 1, 1),\n",
       " (16, 0.001, 'gcn', 64, 0, 0),\n",
       " (16, 0.001, 'gcn', 64, 0, 1),\n",
       " (16, 0.001, 'gcn', 64, 1, 0),\n",
       " (16, 0.001, 'gcn', 64, 1, 1),\n",
       " (16, 0.0001, 'gat', 16, 0, 0),\n",
       " (16, 0.0001, 'gat', 16, 0, 1),\n",
       " (16, 0.0001, 'gat', 16, 1, 0),\n",
       " (16, 0.0001, 'gat', 16, 1, 1),\n",
       " (16, 0.0001, 'gat', 32, 0, 0),\n",
       " (16, 0.0001, 'gat', 32, 0, 1),\n",
       " (16, 0.0001, 'gat', 32, 1, 0),\n",
       " (16, 0.0001, 'gat', 32, 1, 1),\n",
       " (16, 0.0001, 'gat', 64, 0, 0),\n",
       " (16, 0.0001, 'gat', 64, 0, 1),\n",
       " (16, 0.0001, 'gat', 64, 1, 0),\n",
       " (16, 0.0001, 'gat', 64, 1, 1),\n",
       " (16, 0.0001, 'gcn', 16, 0, 0),\n",
       " (16, 0.0001, 'gcn', 16, 0, 1),\n",
       " (16, 0.0001, 'gcn', 16, 1, 0),\n",
       " (16, 0.0001, 'gcn', 16, 1, 1),\n",
       " (16, 0.0001, 'gcn', 32, 0, 0),\n",
       " (16, 0.0001, 'gcn', 32, 0, 1),\n",
       " (16, 0.0001, 'gcn', 32, 1, 0),\n",
       " (16, 0.0001, 'gcn', 32, 1, 1),\n",
       " (16, 0.0001, 'gcn', 64, 0, 0),\n",
       " (16, 0.0001, 'gcn', 64, 0, 1),\n",
       " (16, 0.0001, 'gcn', 64, 1, 0),\n",
       " (16, 0.0001, 'gcn', 64, 1, 1),\n",
       " (32, 0.001, 'gat', 16, 0, 0),\n",
       " (32, 0.001, 'gat', 16, 0, 1),\n",
       " (32, 0.001, 'gat', 16, 1, 0),\n",
       " (32, 0.001, 'gat', 16, 1, 1),\n",
       " (32, 0.001, 'gat', 32, 0, 0),\n",
       " (32, 0.001, 'gat', 32, 0, 1),\n",
       " (32, 0.001, 'gat', 32, 1, 0),\n",
       " (32, 0.001, 'gat', 32, 1, 1),\n",
       " (32, 0.001, 'gat', 64, 0, 0),\n",
       " (32, 0.001, 'gat', 64, 0, 1),\n",
       " (32, 0.001, 'gat', 64, 1, 0),\n",
       " (32, 0.001, 'gat', 64, 1, 1),\n",
       " (32, 0.001, 'gcn', 16, 0, 0),\n",
       " (32, 0.001, 'gcn', 16, 0, 1),\n",
       " (32, 0.001, 'gcn', 16, 1, 0),\n",
       " (32, 0.001, 'gcn', 16, 1, 1),\n",
       " (32, 0.001, 'gcn', 32, 0, 0),\n",
       " (32, 0.001, 'gcn', 32, 0, 1),\n",
       " (32, 0.001, 'gcn', 32, 1, 0),\n",
       " (32, 0.001, 'gcn', 32, 1, 1),\n",
       " (32, 0.001, 'gcn', 64, 0, 0),\n",
       " (32, 0.001, 'gcn', 64, 0, 1),\n",
       " (32, 0.001, 'gcn', 64, 1, 0),\n",
       " (32, 0.001, 'gcn', 64, 1, 1),\n",
       " (32, 0.0001, 'gat', 16, 0, 0),\n",
       " (32, 0.0001, 'gat', 16, 0, 1),\n",
       " (32, 0.0001, 'gat', 16, 1, 0),\n",
       " (32, 0.0001, 'gat', 16, 1, 1),\n",
       " (32, 0.0001, 'gat', 32, 0, 0),\n",
       " (32, 0.0001, 'gat', 32, 0, 1),\n",
       " (32, 0.0001, 'gat', 32, 1, 0),\n",
       " (32, 0.0001, 'gat', 32, 1, 1),\n",
       " (32, 0.0001, 'gat', 64, 0, 0),\n",
       " (32, 0.0001, 'gat', 64, 0, 1),\n",
       " (32, 0.0001, 'gat', 64, 1, 0),\n",
       " (32, 0.0001, 'gat', 64, 1, 1),\n",
       " (32, 0.0001, 'gcn', 16, 0, 0),\n",
       " (32, 0.0001, 'gcn', 16, 0, 1),\n",
       " (32, 0.0001, 'gcn', 16, 1, 0),\n",
       " (32, 0.0001, 'gcn', 16, 1, 1),\n",
       " (32, 0.0001, 'gcn', 32, 0, 0),\n",
       " (32, 0.0001, 'gcn', 32, 0, 1),\n",
       " (32, 0.0001, 'gcn', 32, 1, 0),\n",
       " (32, 0.0001, 'gcn', 32, 1, 1),\n",
       " (32, 0.0001, 'gcn', 64, 0, 0),\n",
       " (32, 0.0001, 'gcn', 64, 0, 1),\n",
       " (32, 0.0001, 'gcn', 64, 1, 0),\n",
       " (32, 0.0001, 'gcn', 64, 1, 1)]"
      ]
     },
     "execution_count": 3,
     "metadata": {},
     "output_type": "execute_result"
    }
   ],
   "source": [
    "configurations"
   ]
  },
  {
   "cell_type": "code",
   "execution_count": null,
   "metadata": {},
   "outputs": [],
   "source": []
  }
 ],
 "metadata": {
  "kernelspec": {
   "display_name": "Paris_Analysis",
   "language": "python",
   "name": "python3"
  },
  "language_info": {
   "codemirror_mode": {
    "name": "ipython",
    "version": 3
   },
   "file_extension": ".py",
   "mimetype": "text/x-python",
   "name": "python",
   "nbconvert_exporter": "python",
   "pygments_lexer": "ipython3",
   "version": "3.10.14"
  },
  "orig_nbformat": 4
 },
 "nbformat": 4,
 "nbformat_minor": 2
}
